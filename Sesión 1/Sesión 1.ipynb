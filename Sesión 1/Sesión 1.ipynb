{
 "cells": [
  {
   "cell_type": "markdown",
   "metadata": {},
   "source": [
    "# **Semillero de Programación en Ciencias Sociales**\n",
    "## Felipe Botero, Laura Merchán y Wilson Forero"
   ]
  },
  {
   "cell_type": "markdown",
   "metadata": {},
   "source": [
    "El objetivo de este Semillero es proporcionarles herramientas para que se familiaricen con los códigos de Python. \n",
    "\n",
    "¿Qué es y Por qué Python? \n",
    "\n",
    "Python es un [lenguaje de programación](https://es.wikipedia.org/wiki/Lenguaje_de_programaci%C3%B3n)\n",
    "- Es el tercer lenguaje de programación más popular del mundo.\n",
    "- Es el primero cuando se trata de temas de análisis de datos.\n",
    "- Es un lenguaje de propósito general, es decir que se utiliza para muchas cosas como Machine Learning, Internet of things, creación de aplicaciones web, de escritorio y de móviles.\n",
    "- Open-source\n",
    "- Comunidad grande y colaborativa"
   ]
  },
  {
   "cell_type": "markdown",
   "metadata": {},
   "source": [
    "### Jupyter Notebook\n",
    "Los archivos de extensión *.ipynb* presentan una interfaz muy cómoda para el aprendizaje, y la colaboración. Contiene:\n",
    "- Celdas de código\n",
    "- Celdas de [markdown] \n",
    "- Celdas de texto crudo\n",
    "- Kernel\n",
    "\n",
    "<div class=\"alert alert-info\">\n",
    "La documentación oficial de Jupyter está  \n",
    "<a href=\"https://jupyter-notebook.readthedocs.io/en/stable/\" class=\"alert-link\">aquí</a>"
   ]
  },
  {
   "cell_type": "markdown",
   "metadata": {},
   "source": [
    "## Objetos básicos de Python\n",
    "1. Integers (Números enteros, positivos o negativos, sin puntos decimales)\n",
    "2. Float (Números reales, que separan al los Integers de las fracciónes con un punto)\n",
    "3. String (objeto entre 'comillas')\n",
    "4. Lists (lista de objetos con un orden definido, e.j. [a,b]\n",
    "5. Dictionaries (organización de datos que permite almacenar cualquier tipo de valores (integers, floats, lists, etc)."
   ]
  },
  {
   "cell_type": "markdown",
   "metadata": {},
   "source": [
    "### Ejemplos\n",
    "1. Integer: edad=18\n",
    "2. Float: altura=1.76\n",
    "3. String: nombre=\"Maria\"\n",
    "4. Lista: clases=[\"Python\", \"Intro_CPOL\", \"Taller_Metodología\"]\n",
    "5. Diccionario: estudiante = {'nombre' : 'Maria', 'edad' : 18, 'altura': 1.76, 'cursos': [\"Python\", \"Intro_CPOL\", \"Taller_Metodología\"]}\n"
   ]
  },
  {
   "cell_type": "markdown",
   "metadata": {},
   "source": [
    "### Definiendo Variables\n",
    "1. Defina la variable \"a\" como un Integer.\n",
    "2. Defina la variable \"b\" como un Integer.\n",
    "3. Defina la variable \"c\" como un Float.\n",
    "4. Defina la variable \"apellido\" como la cadena de caracteres que sea su apellido\n",
    "5. Defina la fariable \"frutas\" como una lista de strings con 3 frutas"
   ]
  },
  {
   "cell_type": "code",
   "execution_count": 2,
   "metadata": {},
   "outputs": [],
   "source": [
    "a=2\n",
    "b=4\n",
    "c=2.3\n",
    "apellido=\"Forero\"\n",
    "frutas=[\"Banano\",\"Fresas\", \"Mango\"]"
   ]
  },
  {
   "cell_type": "markdown",
   "metadata": {},
   "source": [
    "### Operaciones Matemáticas\n",
    "Con los números se pueden realizar los siguientes tipos de operaciones:\n",
    "\n",
    "| Operación | Resultado       |\n",
    "| --------- | --------------- |\n",
    "|    +      | Suma            |\n",
    "|    -      | Resta           |\n",
    "|    *      | Multiplicación  |\n",
    "|    /      | División        |\n",
    "|    //     | División entera |\n",
    "|    \\*\\*   | Potencia        |\n",
    "\n",
    "Imprima los siguientes cálculos\n",
    "1. Divida \"a\" en \"b\"\n",
    "2. Divida usando \"//\" interactue \"a\" en \"b\" ¿qué hace \"//\"?\n",
    "3. Multiplique \"a\" y \"b\". \n",
    "4. Eleve \"c\" a la 3\n",
    "5. Calcule la restra entre \"a\" y \"c\""
   ]
  },
  {
   "cell_type": "code",
   "execution_count": 3,
   "metadata": {},
   "outputs": [
    {
     "name": "stdout",
     "output_type": "stream",
     "text": [
      "0.5\n"
     ]
    }
   ],
   "source": [
    "print(a/b)"
   ]
  },
  {
   "cell_type": "code",
   "execution_count": 4,
   "metadata": {},
   "outputs": [
    {
     "name": "stdout",
     "output_type": "stream",
     "text": [
      "0\n"
     ]
    }
   ],
   "source": [
    "print(a//b)"
   ]
  },
  {
   "cell_type": "code",
   "execution_count": 5,
   "metadata": {},
   "outputs": [
    {
     "name": "stdout",
     "output_type": "stream",
     "text": [
      "8\n"
     ]
    }
   ],
   "source": [
    "print(a*b)"
   ]
  },
  {
   "cell_type": "code",
   "execution_count": 6,
   "metadata": {},
   "outputs": [
    {
     "name": "stdout",
     "output_type": "stream",
     "text": [
      "12.166999999999998\n"
     ]
    }
   ],
   "source": [
    "print(c**3)"
   ]
  },
  {
   "cell_type": "code",
   "execution_count": 7,
   "metadata": {},
   "outputs": [
    {
     "name": "stdout",
     "output_type": "stream",
     "text": [
      "-0.2999999999999998\n"
     ]
    }
   ],
   "source": [
    "print(a-c)"
   ]
  },
  {
   "cell_type": "markdown",
   "metadata": {},
   "source": [
    "### Valores Booleanos (comparar valores)\n",
    "1. Pregunte si \"c\" es mayor que \"b\"\n",
    "2. Pregunte si \"a\" es mayor o igual que \"b\"\n",
    "3. Pregunte si \"a\" es igual a 5\n",
    "4. Pregunte si \"apellido\" es igual a \"Forero\""
   ]
  },
  {
   "cell_type": "code",
   "execution_count": 8,
   "metadata": {},
   "outputs": [
    {
     "name": "stdout",
     "output_type": "stream",
     "text": [
      "False\n"
     ]
    }
   ],
   "source": [
    "print(c>b)"
   ]
  },
  {
   "cell_type": "code",
   "execution_count": 10,
   "metadata": {},
   "outputs": [
    {
     "name": "stdout",
     "output_type": "stream",
     "text": [
      "False\n"
     ]
    }
   ],
   "source": [
    "print(a>=b)"
   ]
  },
  {
   "cell_type": "code",
   "execution_count": 11,
   "metadata": {},
   "outputs": [
    {
     "name": "stdout",
     "output_type": "stream",
     "text": [
      "False\n"
     ]
    }
   ],
   "source": [
    "print(a==5)"
   ]
  },
  {
   "cell_type": "code",
   "execution_count": 13,
   "metadata": {},
   "outputs": [
    {
     "name": "stdout",
     "output_type": "stream",
     "text": [
      "True\n"
     ]
    }
   ],
   "source": [
    "print(apellido==\"Forero\")"
   ]
  },
  {
   "cell_type": "markdown",
   "metadata": {},
   "source": [
    "### Strings\n",
    "1. ¿Qué métodos tiene un string? use `apellido`. y la tecla tab.\n",
    "2. Cree un string que sea `nombre`. Súmela con su apellido (usando +)\n",
    "3. Obtenga la variable `nombre` en mayúsculas e imprimala (usando UPPER)\n",
    "4. Obtenga el número de caracteres en `nombre` (usar len)\n",
    "5. Pregunte si una cadena de caracteres está dentro su variable `nombre` (ej. print( 'ua' in nombre))\n",
    "6. Extraiga el segundo y tercer caracter de `apellido`"
   ]
  },
  {
   "cell_type": "code",
   "execution_count": 14,
   "metadata": {},
   "outputs": [
    {
     "data": {
      "text/plain": [
       "2"
      ]
     },
     "execution_count": 14,
     "metadata": {},
     "output_type": "execute_result"
    }
   ],
   "source": [
    "apellido.count(\"o\")"
   ]
  },
  {
   "cell_type": "code",
   "execution_count": 22,
   "metadata": {},
   "outputs": [
    {
     "name": "stdout",
     "output_type": "stream",
     "text": [
      "wilson Forero\n"
     ]
    }
   ],
   "source": [
    "#2\n",
    "nombre=\"wilson\"\n",
    "print(nombre+\" \"+apellido)"
   ]
  },
  {
   "cell_type": "code",
   "execution_count": 24,
   "metadata": {},
   "outputs": [
    {
     "name": "stdout",
     "output_type": "stream",
     "text": [
      "WILSON\n"
     ]
    }
   ],
   "source": [
    "#3\n",
    "\n",
    "print(nombre.upper())"
   ]
  },
  {
   "cell_type": "code",
   "execution_count": 26,
   "metadata": {},
   "outputs": [
    {
     "data": {
      "text/plain": [
       "12"
      ]
     },
     "execution_count": 26,
     "metadata": {},
     "output_type": "execute_result"
    }
   ],
   "source": [
    "#4\n",
    "\n",
    "len(nombre)"
   ]
  },
  {
   "cell_type": "code",
   "execution_count": 27,
   "metadata": {},
   "outputs": [
    {
     "name": "stdout",
     "output_type": "stream",
     "text": [
      "True\n"
     ]
    }
   ],
   "source": [
    "#5\n",
    "\n",
    "print(\"re\" in apellido)"
   ]
  },
  {
   "cell_type": "code",
   "execution_count": 29,
   "metadata": {},
   "outputs": [
    {
     "name": "stdout",
     "output_type": "stream",
     "text": [
      "or\n"
     ]
    }
   ],
   "source": [
    "#6\n",
    "\n",
    "print(apellido[1:3])"
   ]
  },
  {
   "cell_type": "markdown",
   "metadata": {},
   "source": [
    "### Listas\n",
    "1. ¿Qué métodos tiene un lista? use `frutas`. y la tecla tab.\n",
    "2. Agregue a la lista `frutas`, el objeto \"kiwi\" (.append)\n",
    "3. Organice alfabeticamente las entradas de la lista (.sort)\n",
    "4. Encuentre la posición del objeto \"kiwi\" en la lista (.index)\n",
    "5. Encuentra cual es el objeto en la primera posición"
   ]
  },
  {
   "cell_type": "code",
   "execution_count": 34,
   "metadata": {},
   "outputs": [
    {
     "data": {
      "text/plain": [
       "['Fresas', 'Mango', 'kiwi', 'Banano']"
      ]
     },
     "execution_count": 34,
     "metadata": {},
     "output_type": "execute_result"
    }
   ],
   "source": [
    "#2\n",
    "frutas.append(\"Kiwi\")\n",
    "frutas"
   ]
  },
  {
   "cell_type": "code",
   "execution_count": 38,
   "metadata": {},
   "outputs": [
    {
     "data": {
      "text/plain": [
       "['Banano', 'Fresas', 'Mango', 'kiwi']"
      ]
     },
     "execution_count": 38,
     "metadata": {},
     "output_type": "execute_result"
    }
   ],
   "source": [
    "#3\n",
    "frutas.sort()\n",
    "frutas"
   ]
  },
  {
   "cell_type": "code",
   "execution_count": 39,
   "metadata": {},
   "outputs": [
    {
     "data": {
      "text/plain": [
       "3"
      ]
     },
     "execution_count": 39,
     "metadata": {},
     "output_type": "execute_result"
    }
   ],
   "source": [
    "#4\n",
    "frutas.index(\"kiwi\")"
   ]
  },
  {
   "cell_type": "code",
   "execution_count": 41,
   "metadata": {},
   "outputs": [
    {
     "data": {
      "text/plain": [
       "'Banano'"
      ]
     },
     "execution_count": 41,
     "metadata": {},
     "output_type": "execute_result"
    }
   ],
   "source": [
    "#5\n",
    "frutas[0]\n"
   ]
  },
  {
   "cell_type": "markdown",
   "metadata": {},
   "source": [
    "# Diccionarios\n",
    "\n",
    "Los diccionarios son una estructura de datos muy usada en Python. A diferencia de las listas, los diccionarios no tienen un orden predeterminado, es decir, no se pueden ubicar a partir de la indexación. En cambio, los diccionarios son estan organizados por llaves o keys en ingles. Por ejemplo: "
   ]
  },
  {
   "cell_type": "code",
   "execution_count": 42,
   "metadata": {},
   "outputs": [],
   "source": [
    "telefonos = {'Luis': 3188015546, 'Andrea': 3155086089, 'Carlos': 31301678}"
   ]
  },
  {
   "cell_type": "markdown",
   "metadata": {},
   "source": [
    "1. ¿Cual es el telefono de Luis?\n",
    "2. ¿Cual es el telefono de Carlos?\n",
    "3. Si usted sabe que el telefono de Laura es 300765897, definalo en el directorio\n"
   ]
  },
  {
   "cell_type": "code",
   "execution_count": 43,
   "metadata": {},
   "outputs": [
    {
     "data": {
      "text/plain": [
       "3188015546"
      ]
     },
     "execution_count": 43,
     "metadata": {},
     "output_type": "execute_result"
    }
   ],
   "source": [
    "#|\n",
    "telefonos[\"Luis\"]"
   ]
  },
  {
   "cell_type": "code",
   "execution_count": 45,
   "metadata": {},
   "outputs": [
    {
     "data": {
      "text/plain": [
       "31301678"
      ]
     },
     "execution_count": 45,
     "metadata": {},
     "output_type": "execute_result"
    }
   ],
   "source": [
    "#2 \n",
    "telefonos[\"Carlos\"]"
   ]
  },
  {
   "cell_type": "code",
   "execution_count": 46,
   "metadata": {},
   "outputs": [
    {
     "data": {
      "text/plain": [
       "{'Luis': 3188015546,\n",
       " 'Andrea': 3155086089,\n",
       " 'Carlos': 31301678,\n",
       " 'Laura': 300765897}"
      ]
     },
     "execution_count": 46,
     "metadata": {},
     "output_type": "execute_result"
    }
   ],
   "source": [
    "telefonos[\"Laura\"]=300765897\n",
    "telefonos"
   ]
  },
  {
   "cell_type": "markdown",
   "metadata": {},
   "source": [
    "Suponga este nuevo directorio:"
   ]
  },
  {
   "cell_type": "code",
   "execution_count": 47,
   "metadata": {},
   "outputs": [],
   "source": [
    "notas = {\n",
    "    'Mariana': [4.5, 3.7, 3.4, 5],\n",
    "    'Alicia': [3.5, 3.1, 4.2, 3.9],\n",
    "    'Margarita': [2.6, 3.0, 3.9, 4.1]\n",
    "}"
   ]
  },
  {
   "cell_type": "markdown",
   "metadata": {},
   "source": [
    "1. ¿Cuál es el promedio de Alicia en esta clase? (recuerde que el promedio es la suma (sum) de notas sobre la cantidad(len))\n",
    "2. ¿Cuál es el promedio del salón?"
   ]
  },
  {
   "cell_type": "code",
   "execution_count": null,
   "metadata": {},
   "outputs": [],
   "source": []
  },
  {
   "cell_type": "code",
   "execution_count": null,
   "metadata": {},
   "outputs": [],
   "source": []
  }
 ],
 "metadata": {
  "kernelspec": {
   "display_name": "Python 3",
   "language": "python",
   "name": "python3"
  },
  "language_info": {
   "codemirror_mode": {
    "name": "ipython",
    "version": 3
   },
   "file_extension": ".py",
   "mimetype": "text/x-python",
   "name": "python",
   "nbconvert_exporter": "python",
   "pygments_lexer": "ipython3",
   "version": "3.7.4"
  }
 },
 "nbformat": 4,
 "nbformat_minor": 2
}
