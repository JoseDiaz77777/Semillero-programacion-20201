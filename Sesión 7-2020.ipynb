{
 "cells": [
  {
   "cell_type": "markdown",
   "metadata": {},
   "source": [
    "## Semillero de Programación en Ciencias Sociales (Sesión 7)\n",
    "### Felipe Botero, Wilson Forero, Laura Merchán y Juan Carlos Rodríguez-Raga"
   ]
  },
  {
   "cell_type": "code",
   "execution_count": 1,
   "metadata": {},
   "outputs": [],
   "source": [
    "#!pip install altair vega_datasets"
   ]
  },
  {
   "cell_type": "markdown",
   "metadata": {},
   "source": [
    "#### ¿Cómo habla el uribismo de la JEP? El objetivo de esta clase es descargar automáticamente todas las noticias que incluyan la palabra \"JEP\" publicadas en el portal Los Irreverentes."
   ]
  },
  {
   "cell_type": "markdown",
   "metadata": {},
   "source": [
    "### Paquetes útiles:\n",
    "\n",
    "**[1.OS](https://docs.python.org/3/library/os.html):** Permite interactuar con el sistema operativo. Lo usaremos para manipular la estructura de directorios (Crear o eliminar directorios o archivos).\n",
    "\n",
    "**[2.requests:](https://requests.readthedocs.io)** Permite automatizar la navegación en internet (Entrar  y moverse entre páginas).\n",
    "\n",
    "**[3.urlib.parse:](https://docs.python.org/3/library/urllib.parse.html#module-urllib.parse)** Permite manipular urls (Fragmentarlas  o unirlas).\n",
    "\n",
    "**[4.BeautifulSoup:](https://www.crummy.com/software/BeautifulSoup/bs4/doc/)** La estrella de hoy. Es una librería especializada en extraer información de la web.\n",
    "\n",
    "**[5.RegEx:](https://www.w3schools.com/python/python_regex.asp)** Permite trabajar con [expresiones regulares](https://en.wikipedia.org/wiki/Regular_expression).Las expresiones regulares son una serie de convenciones para simplificar la búsqueda de strings que siguen algunos patrones.\n",
    "\n",
    "**[6. Altair](https://altair-viz.github.io/gallery/)** Una librería para visualizar fácilmente datos.\n",
    "\n",
    "**[7.Pandas](https://pandas.pydata.org/)** La librería insignia de  python para manipular datos.\n",
    "\n"
   ]
  },
  {
   "cell_type": "code",
   "execution_count": 2,
   "metadata": {},
   "outputs": [],
   "source": [
    "import os\n",
    "import requests\n",
    "import urllib.parse\n",
    "from bs4 import BeautifulSoup\n",
    "import re\n",
    "import altair as alt\n",
    "import pandas as pd"
   ]
  },
  {
   "attachments": {},
   "cell_type": "markdown",
   "metadata": {},
   "source": [
    "### 1. GENERAR LISTA DE  URLS A VISITAR"
   ]
  },
  {
   "cell_type": "markdown",
   "metadata": {},
   "source": [
    "Revisemos la página de [Los Irreverentes](https://www.losirreverentes.com/)\n",
    "Con *urllib.parse* podemos ver las partes de la url."
   ]
  },
  {
   "cell_type": "code",
   "execution_count": 4,
   "metadata": {},
   "outputs": [
    {
     "data": {
      "text/plain": [
       "ParseResult(scheme='https', netloc='www.losirreverentes.com', path='/page/1/', params='', query='s=jep', fragment='')"
      ]
     },
     "execution_count": 4,
     "metadata": {},
     "output_type": "execute_result"
    }
   ],
   "source": [
    "url1= \"https://www.losirreverentes.com/page/1/?s=jep\"\n",
    "urllib.parse.urlparse(url1)"
   ]
  },
  {
   "cell_type": "code",
   "execution_count": 5,
   "metadata": {},
   "outputs": [
    {
     "data": {
      "text/plain": [
       "ParseResult(scheme='https', netloc='www.losirreverentes.com', path='/page/151/', params='', query='s=jep', fragment='')"
      ]
     },
     "execution_count": 5,
     "metadata": {},
     "output_type": "execute_result"
    }
   ],
   "source": [
    "url2= \"https://www.losirreverentes.com/page/151/?s=jep\"\n",
    "urllib.parse.urlparse(url2)"
   ]
  },
  {
   "cell_type": "code",
   "execution_count": 7,
   "metadata": {},
   "outputs": [],
   "source": [
    "palabra_clave=\"jep\"\n",
    "inicial=1\n",
    "final=151\n",
    "urls=[]\n",
    "for i in range(inicial,final):\n",
    "    url= \"https://www.losirreverentes.com/page/\"+str(i)+\"/?s=\"+palabra_clave\n",
    "    urls.append(url)\n"
   ]
  },
  {
   "cell_type": "code",
   "execution_count": 8,
   "metadata": {},
   "outputs": [
    {
     "data": {
      "text/plain": [
       "['https://www.losirreverentes.com/page/1/?s=jep',\n",
       " 'https://www.losirreverentes.com/page/2/?s=jep',\n",
       " 'https://www.losirreverentes.com/page/3/?s=jep',\n",
       " 'https://www.losirreverentes.com/page/4/?s=jep',\n",
       " 'https://www.losirreverentes.com/page/5/?s=jep',\n",
       " 'https://www.losirreverentes.com/page/6/?s=jep',\n",
       " 'https://www.losirreverentes.com/page/7/?s=jep',\n",
       " 'https://www.losirreverentes.com/page/8/?s=jep',\n",
       " 'https://www.losirreverentes.com/page/9/?s=jep',\n",
       " 'https://www.losirreverentes.com/page/10/?s=jep']"
      ]
     },
     "execution_count": 8,
     "metadata": {},
     "output_type": "execute_result"
    }
   ],
   "source": [
    "urls[0:10]"
   ]
  },
  {
   "cell_type": "markdown",
   "metadata": {},
   "source": [
    "- Con *requests* visitamos la página de internet almacenada en *url* y la almacenamos en la variable *response*.\n",
    "- Con *BeautifulSoup* organizamos la información en una estructura jerárquica de  acuerdo a la estructura del código *html* de la página.\n",
    "- Pueden visitar este [link](https://www.w3schools.com/TAGS/tag_a.asp) comprender mejor el código html."
   ]
  },
  {
   "cell_type": "code",
   "execution_count": 23,
   "metadata": {},
   "outputs": [],
   "source": [
    "response = requests.get(urls[1])\n",
    "soup= BeautifulSoup(response.text, \"html.parser\")\n"
   ]
  },
  {
   "cell_type": "code",
   "execution_count": null,
   "metadata": {},
   "outputs": [],
   "source": [
    "titulo_articulo= soup.find_all(class_=\"et-accent-color\")"
   ]
  },
  {
   "cell_type": "code",
   "execution_count": 16,
   "metadata": {},
   "outputs": [
    {
     "data": {
      "text/plain": [
       "[<a class=\"et-accent-color\" href=\"https://www.losirreverentes.com/rechazo-y-repudio-a-la-jep/\" style=\"color:#8e6ecf;\">Rechazo y repudio a la JEP</a>,\n",
       " <a class=\"et-accent-color\" href=\"https://www.losirreverentes.com/cambiemos-la-jep-por-mercados/\" style=\"color:#8e6ecf;\">Cambiemos la JEP por mercados</a>,\n",
       " <a class=\"et-accent-color\" href=\"https://www.losirreverentes.com/la-jep-una-verguenza-nacional/\" style=\"color:#7ac8cc;\">La JEP, una vergüenza nacional</a>,\n",
       " <a class=\"et-accent-color\" href=\"https://www.losirreverentes.com/jep-ella-misma-se-desacredita/\" style=\"color:#8e6ecf;\">JEP, Ella Misma Se Desacredita</a>,\n",
       " <a class=\"et-accent-color\" href=\"https://www.losirreverentes.com/la-jep-el-brazo-juridico-de-las-farc/\" style=\"color:#8e6ecf;\">La JEP, el brazo jurídico de las Farc</a>]"
      ]
     },
     "execution_count": 16,
     "metadata": {},
     "output_type": "execute_result"
    }
   ],
   "source": [
    "titulo_articulo"
   ]
  },
  {
   "cell_type": "code",
   "execution_count": 17,
   "metadata": {},
   "outputs": [
    {
     "data": {
      "text/plain": [
       "'https://www.losirreverentes.com/cambiemos-la-jep-por-mercados/'"
      ]
     },
     "execution_count": 17,
     "metadata": {},
     "output_type": "execute_result"
    }
   ],
   "source": [
    "#hipervinculo=lin.find(\"a\")\n",
    "link=titulo_articulo[1].get(\"href\")\n",
    "link"
   ]
  },
  {
   "cell_type": "code",
   "execution_count": 20,
   "metadata": {},
   "outputs": [],
   "source": [
    "links=[]\n",
    "for url in urls[0:2]:\n",
    "    response = requests.get(url)\n",
    "    soup= BeautifulSoup(response.text, \"html.parser\")\n",
    "    titulos_articulos= soup.find_all(class_=\"et-accent-color\")\n",
    "    for articulo in titulos_articulos:\n",
    "        link=articulo.get(\"href\")\n",
    "        links.append(link)"
   ]
  },
  {
   "cell_type": "code",
   "execution_count": 21,
   "metadata": {},
   "outputs": [
    {
     "data": {
      "text/plain": [
       "['https://www.losirreverentes.com/firmo-para-eliminar-la-jep/',\n",
       " 'https://www.losirreverentes.com/la-jep-demostro-que-es-una-cueva-de-impunidades/',\n",
       " 'https://www.losirreverentes.com/el-berrinche-de-la-jep/',\n",
       " 'https://www.losirreverentes.com/reformar-la-jep-no-hay-que-acabarla/',\n",
       " 'https://www.losirreverentes.com/la-farc-jep/',\n",
       " 'https://www.losirreverentes.com/rechazo-y-repudio-a-la-jep/',\n",
       " 'https://www.losirreverentes.com/cambiemos-la-jep-por-mercados/',\n",
       " 'https://www.losirreverentes.com/la-jep-una-verguenza-nacional/',\n",
       " 'https://www.losirreverentes.com/jep-ella-misma-se-desacredita/',\n",
       " 'https://www.losirreverentes.com/la-jep-el-brazo-juridico-de-las-farc/']"
      ]
     },
     "execution_count": 21,
     "metadata": {},
     "output_type": "execute_result"
    }
   ],
   "source": [
    "links"
   ]
  },
  {
   "cell_type": "markdown",
   "metadata": {},
   "source": [
    "### 2. IDENTIFICAR EL CÓDIGO HTML A EXTRAER\n"
   ]
  },
  {
   "cell_type": "code",
   "execution_count": 33,
   "metadata": {},
   "outputs": [],
   "source": [
    "link=links[0]\n",
    "response = requests.get(link)\n",
    "soup= BeautifulSoup(response.text, \"html.parser\")\n",
    "titular= soup.find(class_=\"entry-title\").text\n",
    "fecha= soup.find(class_=\"updated\").text\n",
    "texto=soup.find(class_=\"post-content entry-content\").text"
   ]
  },
  {
   "cell_type": "code",
   "execution_count": 34,
   "metadata": {},
   "outputs": [
    {
     "name": "stdout",
     "output_type": "stream",
     "text": [
      "Firmo para eliminar la JEP Nov 7, 2020 \n",
      "En los últimos años la ultra izquierda ha avanzado infiltrando las ramas del poder público de Colombia, particularmente con la rama judicial que mediante fallos exóticos ha asestado golpes en la lucha contra el narcotráfico. ¿Realmente es sensato prohibir la aspersión aérea de glifosato en el país con más hectáreas de cultivos ilícitos en todo el mundo? ¿Qué tal pensar en prohibir el decomiso de la dosis mínima en el primer país productor de cocaína a nivel mundial? Se vislumbra, entonces, que al parecer hubiera una alianza macabra para potencializar el negocio de la droga.\n",
      "Adicional a esto, Santos al robarse el plebiscito incorporó a la fuerza, tal vez, la institución más inservible en la historia del país: la Jurisdicción Especial para la Paz (JEP) que pese a varios años de funcionamiento no ha mostrado resultados verdaderamente pertinentes –más allá de permitir la fuga de Jesús Santrich- . Hasta el momento, no se ha dado la recuperación efectiva de los bienes de las Farc con los que se tendrían que reparar a las víctimas y; no ha habido condena alguna sobre miembros de las Farc, ni siquiera de las vulgares e irrisorias que fueron planteadas en el acuerdo.\n",
      "Como si fuera poco esa JEP ha costado a los colombianos alrededor de medio billón de pesos en tan solo dos años. Dicho derroche ha sido invertido en comerciales de televisión que además de ser ofensivos e indolentes con las víctimas, descaradamente buscan limpiar la imagen de las Farc; como aquel en que ‘Timochenko’ pide perdón por las “retenciones”, ahora resulta que los secuestros son “retenciones”. Lo anterior, más el evidente sesgo político en su composición, cuyos requisitos consisten en odiar a Álvaro Uribe y a las Fuerzas Militares, evidencian, por lejos, sus verdaderas intenciones.\n",
      "Bajo este panorama la Colombia de la post pandemia trae consigo enormes retos. Es necesario aumentar la cobertura de políticas sociales efectivas, como el ingreso solidario y el bono pensional, pero sin aumentar impuestos. Debido a esto las reformas que propone el Presidente Uribe en el referendo en cuanto a recorte de gasto fiscal, son muy importantes; mirar el tema de los salarios de los altos funcionarios, disminuir el congreso en un 30% y derogar el monstruo de la burocracia que es la JEP.\n",
      "Por eso planteo a los colombianos dos preguntas: ¿Qué es más importante, mantener este chupasangre del erario al servicio del terrorismo o invertir ese dinero en políticas sociales que beneficien al pueblo en la crisis de post pandemia? ¿Es preferible ahorcar a los colombianos con impuestos o, prescindir de entidades inútiles e ideologizadas como la JEP, cuyo objetivo, más que justicia es venganza?\n",
      "@jarizabaletaf \n",
      "Publicado: noviembre 8 de 2020 \n",
      " \n"
     ]
    }
   ],
   "source": [
    "print(titular,fecha,texto)"
   ]
  },
  {
   "attachments": {},
   "cell_type": "markdown",
   "metadata": {},
   "source": [
    "### 3. VISITAR UNA A  UNA LAS URLS  Y EXTRAER LA INFORMACIÓN IDENTIFICADA"
   ]
  },
  {
   "cell_type": "code",
   "execution_count": 36,
   "metadata": {},
   "outputs": [],
   "source": [
    "titulares=[]\n",
    "fechas=[]\n",
    "textos=[]\n",
    "for link in links:\n",
    "    response = requests.get(link)\n",
    "    soup= BeautifulSoup(response.text, \"html.parser\")\n",
    "    titulares.append(soup.find(class_=\"entry-title\").text)\n",
    "    fechas.append(soup.find(class_=\"updated\").text) \n",
    "    textos.append(soup.find(class_=\"post-content entry-content\").text)\n",
    "    "
   ]
  },
  {
   "cell_type": "code",
   "execution_count": 37,
   "metadata": {},
   "outputs": [
    {
     "data": {
      "text/plain": [
       "['Firmo para eliminar la JEP',\n",
       " 'La JEP demostró que es una cueva de impunidades',\n",
       " 'El berrinche de la JEP',\n",
       " '¿Reformar la JEP? NO. Hay que acabarla',\n",
       " 'La Farc JEP',\n",
       " 'Rechazo y repudio a la JEP',\n",
       " 'Cambiemos la JEP por mercados',\n",
       " 'La JEP, una vergüenza nacional',\n",
       " 'JEP, Ella Misma Se Desacredita',\n",
       " 'La JEP, el brazo jurídico de las Farc']"
      ]
     },
     "execution_count": 37,
     "metadata": {},
     "output_type": "execute_result"
    }
   ],
   "source": [
    "titulares"
   ]
  },
  {
   "cell_type": "code",
   "execution_count": 38,
   "metadata": {},
   "outputs": [
    {
     "data": {
      "text/html": [
       "<div>\n",
       "<style scoped>\n",
       "    .dataframe tbody tr th:only-of-type {\n",
       "        vertical-align: middle;\n",
       "    }\n",
       "\n",
       "    .dataframe tbody tr th {\n",
       "        vertical-align: top;\n",
       "    }\n",
       "\n",
       "    .dataframe thead th {\n",
       "        text-align: right;\n",
       "    }\n",
       "</style>\n",
       "<table border=\"1\" class=\"dataframe\">\n",
       "  <thead>\n",
       "    <tr style=\"text-align: right;\">\n",
       "      <th></th>\n",
       "      <th>Titular</th>\n",
       "      <th>Fecha</th>\n",
       "      <th>Contenido</th>\n",
       "    </tr>\n",
       "  </thead>\n",
       "  <tbody>\n",
       "    <tr>\n",
       "      <td>0</td>\n",
       "      <td>Firmo para eliminar la JEP</td>\n",
       "      <td>Nov 7, 2020</td>\n",
       "      <td>\\nEn los últimos años la ultra izquierda ha av...</td>\n",
       "    </tr>\n",
       "    <tr>\n",
       "      <td>1</td>\n",
       "      <td>La JEP demostró que es una cueva de impunidades</td>\n",
       "      <td>Nov 3, 2020</td>\n",
       "      <td>\\nEl problema de la JEP no se soluciona cambia...</td>\n",
       "    </tr>\n",
       "    <tr>\n",
       "      <td>2</td>\n",
       "      <td>El berrinche de la JEP</td>\n",
       "      <td>Oct 21, 2020</td>\n",
       "      <td>\\nDesde antes de entrar en funcionamiento, la ...</td>\n",
       "    </tr>\n",
       "    <tr>\n",
       "      <td>3</td>\n",
       "      <td>¿Reformar la JEP? NO. Hay que acabarla</td>\n",
       "      <td>Sep 6, 2020</td>\n",
       "      <td>\\nReapareció Juan Manuel Santos, en el marco d...</td>\n",
       "    </tr>\n",
       "    <tr>\n",
       "      <td>4</td>\n",
       "      <td>La Farc JEP</td>\n",
       "      <td>Jul 25, 2020</td>\n",
       "      <td>\\nDesde que Juan Manuel Santos decidió robarse...</td>\n",
       "    </tr>\n",
       "    <tr>\n",
       "      <td>5</td>\n",
       "      <td>Rechazo y repudio a la JEP</td>\n",
       "      <td>May 30, 2020</td>\n",
       "      <td>\\nNo son pocos los colombianos, que ciega o in...</td>\n",
       "    </tr>\n",
       "    <tr>\n",
       "      <td>6</td>\n",
       "      <td>Cambiemos la JEP por mercados</td>\n",
       "      <td>May 1, 2020</td>\n",
       "      <td>\\nEl Presidente Uribe, dejó un país próspero y...</td>\n",
       "    </tr>\n",
       "    <tr>\n",
       "      <td>7</td>\n",
       "      <td>La JEP, una vergüenza nacional</td>\n",
       "      <td>Apr 22, 2020</td>\n",
       "      <td>\\nLa JEP, tribunal al servicio de los terroris...</td>\n",
       "    </tr>\n",
       "    <tr>\n",
       "      <td>8</td>\n",
       "      <td>JEP, Ella Misma Se Desacredita</td>\n",
       "      <td>Mar 13, 2020</td>\n",
       "      <td>\\nMe parece magnífico que la Justicia Especial...</td>\n",
       "    </tr>\n",
       "    <tr>\n",
       "      <td>9</td>\n",
       "      <td>La JEP, el brazo jurídico de las Farc</td>\n",
       "      <td>Mar 11, 2020</td>\n",
       "      <td>\\nSi alguien tenía\\ndudas sobre la naturaleza ...</td>\n",
       "    </tr>\n",
       "  </tbody>\n",
       "</table>\n",
       "</div>"
      ],
      "text/plain": [
       "                                           Titular         Fecha  \\\n",
       "0                       Firmo para eliminar la JEP   Nov 7, 2020   \n",
       "1  La JEP demostró que es una cueva de impunidades   Nov 3, 2020   \n",
       "2                           El berrinche de la JEP  Oct 21, 2020   \n",
       "3           ¿Reformar la JEP? NO. Hay que acabarla   Sep 6, 2020   \n",
       "4                                      La Farc JEP  Jul 25, 2020   \n",
       "5                       Rechazo y repudio a la JEP  May 30, 2020   \n",
       "6                    Cambiemos la JEP por mercados   May 1, 2020   \n",
       "7                   La JEP, una vergüenza nacional  Apr 22, 2020   \n",
       "8                   JEP, Ella Misma Se Desacredita  Mar 13, 2020   \n",
       "9            La JEP, el brazo jurídico de las Farc  Mar 11, 2020   \n",
       "\n",
       "                                           Contenido  \n",
       "0  \\nEn los últimos años la ultra izquierda ha av...  \n",
       "1  \\nEl problema de la JEP no se soluciona cambia...  \n",
       "2  \\nDesde antes de entrar en funcionamiento, la ...  \n",
       "3  \\nReapareció Juan Manuel Santos, en el marco d...  \n",
       "4  \\nDesde que Juan Manuel Santos decidió robarse...  \n",
       "5  \\nNo son pocos los colombianos, que ciega o in...  \n",
       "6  \\nEl Presidente Uribe, dejó un país próspero y...  \n",
       "7  \\nLa JEP, tribunal al servicio de los terroris...  \n",
       "8  \\nMe parece magnífico que la Justicia Especial...  \n",
       "9  \\nSi alguien tenía\\ndudas sobre la naturaleza ...  "
      ]
     },
     "execution_count": 38,
     "metadata": {},
     "output_type": "execute_result"
    }
   ],
   "source": [
    "df = pd.DataFrame(list(zip(titulares, fechas, textos)), \n",
    "               columns =['Titular', 'Fecha',\"Contenido\"]) \n",
    "df "
   ]
  },
  {
   "cell_type": "code",
   "execution_count": 39,
   "metadata": {},
   "outputs": [],
   "source": [
    "df.to_excel(\"./los_irreverentesJEP.xlsx\")"
   ]
  }
 ],
 "metadata": {
  "kernelspec": {
   "display_name": "Python 3",
   "language": "python",
   "name": "python3"
  },
  "language_info": {
   "codemirror_mode": {
    "name": "ipython",
    "version": 3
   },
   "file_extension": ".py",
   "mimetype": "text/x-python",
   "name": "python",
   "nbconvert_exporter": "python",
   "pygments_lexer": "ipython3",
   "version": "3.7.4"
  }
 },
 "nbformat": 4,
 "nbformat_minor": 4
}
