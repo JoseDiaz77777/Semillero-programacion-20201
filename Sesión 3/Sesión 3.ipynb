{
 "cells": [
  {
   "cell_type": "markdown",
   "metadata": {},
   "source": [
    "## Semillero de Programación en Ciencias Sociales (Sesión 4)\n",
    "### Felipe Botero, Laura Merchán y Wilson Forero"
   ]
  },
  {
   "cell_type": "markdown",
   "metadata": {},
   "source": [
    "### Solución de Challenges"
   ]
  },
  {
   "cell_type": "code",
   "execution_count": 1,
   "metadata": {},
   "outputs": [],
   "source": [
    "notas = {\n",
    "    'Mariana': [4.5, 3.7, 3.4, 5],\n",
    "    'Alicia': [3.5, 3.1, 4.2, 3.9],\n",
    "    'Margarita': [2.6, 3.0, 3.9, 4.1],\n",
    "    \"Carolina\":[4.3,4.0,3,3.7]\n",
    "}"
   ]
  },
  {
   "cell_type": "code",
   "execution_count": 2,
   "metadata": {},
   "outputs": [],
   "source": [
    "nota_parcial={\"Mariana\":4.7,\"Alicia\":4.0,\"Margarita\":3.5,\"Carolina\":4.6, \"Jesús\":4.0, \"Marco\":3.7}"
   ]
  },
  {
   "cell_type": "code",
   "execution_count": 3,
   "metadata": {},
   "outputs": [],
   "source": [
    "for key in nota_parcial.keys():\n",
    "    if key in notas.keys():\n",
    "        notas[key].append(nota_parcial[key])\n",
    "    else:\n",
    "        notas[key]=[nota_parcial[key]]"
   ]
  },
  {
   "cell_type": "code",
   "execution_count": 4,
   "metadata": {},
   "outputs": [
    {
     "data": {
      "text/plain": [
       "{'Mariana': [4.5, 3.7, 3.4, 5, 4.7],\n",
       " 'Alicia': [3.5, 3.1, 4.2, 3.9, 4.0],\n",
       " 'Margarita': [2.6, 3.0, 3.9, 4.1, 3.5],\n",
       " 'Carolina': [4.3, 4.0, 3, 3.7, 4.6],\n",
       " 'Jesús': [4.0],\n",
       " 'Marco': [3.7]}"
      ]
     },
     "execution_count": 4,
     "metadata": {},
     "output_type": "execute_result"
    }
   ],
   "source": [
    "notas"
   ]
  },
  {
   "cell_type": "markdown",
   "metadata": {},
   "source": [
    "### Problema 2\n",
    "\n",
    "Construir una lista que tenga `100` repeticiones de los números `-1`, `0` y `1`, en ese orden exacto. Recuerde las propiedades de las listas (las vimos en la primera sesión)"
   ]
  },
  {
   "cell_type": "code",
   "execution_count": 5,
   "metadata": {},
   "outputs": [
    {
     "name": "stdout",
     "output_type": "stream",
     "text": [
      "[-1, 0, 1, -1, 0, 1, -1, 0, 1, -1, 0, 1, -1, 0, 1, -1, 0, 1, -1, 0, 1, -1, 0, 1, -1, 0, 1, -1, 0, 1, -1, 0, 1, -1, 0, 1, -1, 0, 1, -1, 0, 1, -1, 0, 1, -1, 0, 1, -1, 0, 1, -1, 0, 1, -1, 0, 1, -1, 0, 1, -1, 0, 1, -1, 0, 1, -1, 0, 1, -1, 0, 1, -1, 0, 1, -1, 0, 1, -1, 0, 1, -1, 0, 1, -1, 0, 1, -1, 0, 1, -1, 0, 1, -1, 0, 1, -1, 0, 1, -1, 0, 1, -1, 0, 1, -1, 0, 1, -1, 0, 1, -1, 0, 1, -1, 0, 1, -1, 0, 1, -1, 0, 1, -1, 0, 1, -1, 0, 1, -1, 0, 1, -1, 0, 1, -1, 0, 1, -1, 0, 1, -1, 0, 1, -1, 0, 1, -1, 0, 1, -1, 0, 1, -1, 0, 1, -1, 0, 1, -1, 0, 1, -1, 0, 1, -1, 0, 1, -1, 0, 1, -1, 0, 1, -1, 0, 1, -1, 0, 1, -1, 0, 1, -1, 0, 1, -1, 0, 1, -1, 0, 1, -1, 0, 1, -1, 0, 1, -1, 0, 1, -1, 0, 1, -1, 0, 1, -1, 0, 1, -1, 0, 1, -1, 0, 1, -1, 0, 1, -1, 0, 1, -1, 0, 1, -1, 0, 1, -1, 0, 1, -1, 0, 1, -1, 0, 1, -1, 0, 1, -1, 0, 1, -1, 0, 1, -1, 0, 1, -1, 0, 1, -1, 0, 1, -1, 0, 1, -1, 0, 1, -1, 0, 1, -1, 0, 1, -1, 0, 1, -1, 0, 1, -1, 0, 1, -1, 0, 1, -1, 0, 1, -1, 0, 1, -1, 0, 1, -1, 0, 1, -1, 0, 1, -1, 0, 1, -1, 0, 1]\n"
     ]
    }
   ],
   "source": [
    "print([-1,0,1]*100)\n"
   ]
  },
  {
   "cell_type": "markdown",
   "metadata": {},
   "source": [
    "### Problema 3\n",
    "\n",
    "Encuentre cuantas veces aparece la palabra `perro` en la siguiente lista. Para hacelo deberá usar dos funciones aplicables a los objetos string. Recuerde que los strings NO son mutables."
   ]
  },
  {
   "cell_type": "code",
   "execution_count": 6,
   "metadata": {},
   "outputs": [],
   "source": [
    "base=\"PerRoPERROorrepPErrogatoPeroPerroPetroPErRoPeRRoGatoperroPerroPERRoPERROPerRoPERROorrepPErrogatoPeroPerroPetroPErRoPeRRoGatoperroPerroPERRoPERROPerRoPERROorrepPErrogatoPeroPerroPetroPErRoPeRRoGatoperroPerroPERRoPERROPerRoPERROorrepPErrogatoPeroPerroPetroPErRoPeRRoGatoperroPerroPERRoPERROPerRoPERROorrepPErrogatoPeroPerroPetroPErRoPeRRoGatoperroPerroPERRoPERRO\""
   ]
  },
  {
   "cell_type": "code",
   "execution_count": 7,
   "metadata": {},
   "outputs": [
    {
     "data": {
      "text/plain": [
       "50"
      ]
     },
     "execution_count": 7,
     "metadata": {},
     "output_type": "execute_result"
    }
   ],
   "source": [
    "base2=base.lower()\n",
    "base2.count(\"perro\")"
   ]
  },
  {
   "cell_type": "markdown",
   "metadata": {},
   "source": [
    "### Introducción a funciones\n",
    "\n",
    "Como en cualquier otro lenguaje, en *Python* también es posible definir funciones, es decir, secuencias de enunciados que reciben ciertos datos, ejecutan algunas operaciones sobre ellos y devuelven un resultado.\n",
    "\n",
    "Para definir una función se usa la palabra clave `def`, y el valor que va a retornar siempre debe ser precedido por un `return`. La sintaxis de una función es como se ve a continuación::\n",
    "\n",
    "```python\n",
    "def NOMBRE(LISTA DE ARGUMENTOS):\n",
    "    ENUNCIADOS\n",
    "    return VALOR\n",
    "```\n",
    "\n",
    "ó\n",
    "\n",
    "```python\n",
    "def NOMBRE(LISTA DE ARGUMENTOS):\n",
    "    ENUNCIADOS\n",
    "    print(VALOR)\n",
    "```\n",
    "\n",
    "La línea que contiene el `return` (o `print`) es opcional, pues no todas las funciones deben retornar algo. Por ejemplo, hay algunas que sólo modifican los valores de ciertas variables, por lo que no necesitan retornar o imprimir ningún valor."
   ]
  },
  {
   "cell_type": "markdown",
   "metadata": {},
   "source": [
    "##### Ejemplos:"
   ]
  },
  {
   "cell_type": "code",
   "execution_count": 8,
   "metadata": {},
   "outputs": [],
   "source": [
    "lista=[4.5,3.5,4.2,5]"
   ]
  },
  {
   "cell_type": "code",
   "execution_count": 9,
   "metadata": {},
   "outputs": [
    {
     "name": "stdout",
     "output_type": "stream",
     "text": [
      "4\n",
      "17.2\n"
     ]
    }
   ],
   "source": [
    "#funciones que hemos usado en el pasado\n",
    "print(len(lista))\n",
    "print(sum(lista))"
   ]
  },
  {
   "cell_type": "markdown",
   "metadata": {},
   "source": [
    "##### Una función que calcule promedios:"
   ]
  },
  {
   "cell_type": "code",
   "execution_count": 10,
   "metadata": {},
   "outputs": [],
   "source": [
    "def promedio_lista(x):\n",
    "    return(sum(x)/len(x))"
   ]
  },
  {
   "cell_type": "code",
   "execution_count": 11,
   "metadata": {},
   "outputs": [
    {
     "data": {
      "text/plain": [
       "4.3"
      ]
     },
     "execution_count": 11,
     "metadata": {},
     "output_type": "execute_result"
    }
   ],
   "source": [
    "promedio_lista(lista)"
   ]
  },
  {
   "cell_type": "code",
   "execution_count": 12,
   "metadata": {},
   "outputs": [],
   "source": [
    "x=[2,3,4]"
   ]
  },
  {
   "cell_type": "code",
   "execution_count": 13,
   "metadata": {},
   "outputs": [
    {
     "data": {
      "text/plain": [
       "3.0"
      ]
     },
     "execution_count": 13,
     "metadata": {},
     "output_type": "execute_result"
    }
   ],
   "source": [
    "promedio_lista(x)"
   ]
  },
  {
   "cell_type": "markdown",
   "metadata": {},
   "source": [
    "###### Una función que me determine si un número es mayor o menor que otro"
   ]
  },
  {
   "cell_type": "code",
   "execution_count": 14,
   "metadata": {},
   "outputs": [],
   "source": [
    "def mayor_o_menor(x, y):\n",
    "    if x < y:\n",
    "        print(x, \"es menor que\", y)\n",
    "    elif x > y:\n",
    "        print(x, \"es mayor que\", y)\n",
    "    else:\n",
    "        print(x, \"y\", y, \"son iguales\")"
   ]
  },
  {
   "cell_type": "code",
   "execution_count": 15,
   "metadata": {},
   "outputs": [
    {
     "name": "stdout",
     "output_type": "stream",
     "text": [
      "5 es menor que 6\n"
     ]
    }
   ],
   "source": [
    "mayor_o_menor(5,6)"
   ]
  },
  {
   "cell_type": "markdown",
   "metadata": {},
   "source": [
    "##### Una Función que invierta una frase"
   ]
  },
  {
   "cell_type": "code",
   "execution_count": 16,
   "metadata": {},
   "outputs": [],
   "source": [
    "def invertir (x):\n",
    "    palabras = x.split(\" \")\n",
    "    palabras=palabras[-1::-1]\n",
    "    frase = ' '.join(palabras) \n",
    "    return frase"
   ]
  },
  {
   "cell_type": "code",
   "execution_count": 17,
   "metadata": {},
   "outputs": [
    {
     "data": {
      "text/plain": [
       "'python de semillero es Esto'"
      ]
     },
     "execution_count": 17,
     "metadata": {},
     "output_type": "execute_result"
    }
   ],
   "source": [
    "invertir(\"Esto es semillero de python\")"
   ]
  },
  {
   "cell_type": "code",
   "execution_count": 18,
   "metadata": {},
   "outputs": [],
   "source": [
    "d=\"hola como estas\""
   ]
  },
  {
   "cell_type": "code",
   "execution_count": 19,
   "metadata": {},
   "outputs": [
    {
     "data": {
      "text/plain": [
       "4.2"
      ]
     },
     "execution_count": 19,
     "metadata": {},
     "output_type": "execute_result"
    }
   ],
   "source": [
    "lista[-2]"
   ]
  },
  {
   "cell_type": "markdown",
   "metadata": {},
   "source": [
    "##### Una función que identifique que si una palabra es un palíndromo\n",
    "Cree una función que reciba una cadena de caracteres (string) e imprima si es un palíndromo (se lee igual de izquierda a derecha que de derecha a izquierda)."
   ]
  },
  {
   "cell_type": "code",
   "execution_count": 20,
   "metadata": {},
   "outputs": [],
   "source": [
    "def palindromo(x):\n",
    "    x=x.lower()\n",
    "    y=x[-1::-1]\n",
    "    if x==y:\n",
    "        print(x, \"es un palindromo\")\n",
    "    else:\n",
    "        print(x, \"no es un palindromo\")"
   ]
  },
  {
   "cell_type": "code",
   "execution_count": 21,
   "metadata": {},
   "outputs": [
    {
     "name": "stdout",
     "output_type": "stream",
     "text": [
      "bob es un palindromo\n"
     ]
    }
   ],
   "source": [
    "palindromo(\"bob\")"
   ]
  },
  {
   "cell_type": "markdown",
   "metadata": {},
   "source": [
    "### Challenge:"
   ]
  },
  {
   "cell_type": "markdown",
   "metadata": {},
   "source": [
    "#### 1. Menor a 10 \n",
    "Defina una función que reciba una lista numérica e imprima cuántos elementos son menores que 10."
   ]
  },
  {
   "cell_type": "code",
   "execution_count": null,
   "metadata": {},
   "outputs": [],
   "source": []
  },
  {
   "cell_type": "markdown",
   "metadata": {},
   "source": [
    "#### 2. Construya su propia función\n",
    "costruya su propia función que incorpore por lo menos un operador de comparación (>, <, ==, !=)"
   ]
  },
  {
   "cell_type": "code",
   "execution_count": null,
   "metadata": {},
   "outputs": [],
   "source": []
  },
  {
   "cell_type": "markdown",
   "metadata": {},
   "source": [
    "### Introducción a Pandas (bases de datos)"
   ]
  },
  {
   "cell_type": "markdown",
   "metadata": {},
   "source": [
    "Ahora miraremos _Pandas_, este es el paquete más famoso en Python para la manipulación de bases de datos.\n",
    "\n",
    "En Pandas existen tres tipos de estructuras: \n",
    "\n",
    "- Series: data en un arreglo 1D, etiquetada, homogénea e inmutable de tamaño\n",
    "- **Data Frames**: arreglo 2D, tamaño mutable, columnas heterogéneas, etiquetadas\n",
    "- Panel: arreglo 3D, tamaño mutable."
   ]
  },
  {
   "cell_type": "code",
   "execution_count": 22,
   "metadata": {},
   "outputs": [],
   "source": [
    "import pandas as pd\n",
    "import numpy as np"
   ]
  },
  {
   "cell_type": "code",
   "execution_count": 23,
   "metadata": {},
   "outputs": [],
   "source": [
    "candidatos=['Duque', 'Petro', 'Fajardo', 'DeLaCalle', 'Vargas']\n",
    "orientacion=['D', 'I', 'C', None ,'D']\n",
    "edad=[43,59,63,73,57]\n",
    "votos=[7.6, 4.8, 4.6, 0.4, 1.7] #en millones"
   ]
  },
  {
   "cell_type": "code",
   "execution_count": 24,
   "metadata": {},
   "outputs": [],
   "source": [
    "diccionario={'names':candidatos, 'ideology':orientacion, 'age':edad, 'votes':votos}"
   ]
  },
  {
   "cell_type": "code",
   "execution_count": 25,
   "metadata": {},
   "outputs": [
    {
     "data": {
      "text/plain": [
       "{'names': ['Duque', 'Petro', 'Fajardo', 'DeLaCalle', 'Vargas'],\n",
       " 'ideology': ['D', 'I', 'C', None, 'D'],\n",
       " 'age': [43, 59, 63, 73, 57],\n",
       " 'votes': [7.6, 4.8, 4.6, 0.4, 1.7]}"
      ]
     },
     "execution_count": 25,
     "metadata": {},
     "output_type": "execute_result"
    }
   ],
   "source": [
    "diccionario"
   ]
  },
  {
   "cell_type": "code",
   "execution_count": 26,
   "metadata": {},
   "outputs": [],
   "source": [
    "elecciones_2018=pd.DataFrame(diccionario)"
   ]
  },
  {
   "cell_type": "code",
   "execution_count": 27,
   "metadata": {},
   "outputs": [
    {
     "data": {
      "text/html": [
       "<div>\n",
       "<style scoped>\n",
       "    .dataframe tbody tr th:only-of-type {\n",
       "        vertical-align: middle;\n",
       "    }\n",
       "\n",
       "    .dataframe tbody tr th {\n",
       "        vertical-align: top;\n",
       "    }\n",
       "\n",
       "    .dataframe thead th {\n",
       "        text-align: right;\n",
       "    }\n",
       "</style>\n",
       "<table border=\"1\" class=\"dataframe\">\n",
       "  <thead>\n",
       "    <tr style=\"text-align: right;\">\n",
       "      <th></th>\n",
       "      <th>names</th>\n",
       "      <th>ideology</th>\n",
       "      <th>age</th>\n",
       "      <th>votes</th>\n",
       "    </tr>\n",
       "  </thead>\n",
       "  <tbody>\n",
       "    <tr>\n",
       "      <th>0</th>\n",
       "      <td>Duque</td>\n",
       "      <td>D</td>\n",
       "      <td>43</td>\n",
       "      <td>7.6</td>\n",
       "    </tr>\n",
       "    <tr>\n",
       "      <th>1</th>\n",
       "      <td>Petro</td>\n",
       "      <td>I</td>\n",
       "      <td>59</td>\n",
       "      <td>4.8</td>\n",
       "    </tr>\n",
       "    <tr>\n",
       "      <th>2</th>\n",
       "      <td>Fajardo</td>\n",
       "      <td>C</td>\n",
       "      <td>63</td>\n",
       "      <td>4.6</td>\n",
       "    </tr>\n",
       "    <tr>\n",
       "      <th>3</th>\n",
       "      <td>DeLaCalle</td>\n",
       "      <td>None</td>\n",
       "      <td>73</td>\n",
       "      <td>0.4</td>\n",
       "    </tr>\n",
       "    <tr>\n",
       "      <th>4</th>\n",
       "      <td>Vargas</td>\n",
       "      <td>D</td>\n",
       "      <td>57</td>\n",
       "      <td>1.7</td>\n",
       "    </tr>\n",
       "  </tbody>\n",
       "</table>\n",
       "</div>"
      ],
      "text/plain": [
       "       names ideology  age  votes\n",
       "0      Duque        D   43    7.6\n",
       "1      Petro        I   59    4.8\n",
       "2    Fajardo        C   63    4.6\n",
       "3  DeLaCalle     None   73    0.4\n",
       "4     Vargas        D   57    1.7"
      ]
     },
     "execution_count": 27,
     "metadata": {},
     "output_type": "execute_result"
    }
   ],
   "source": [
    "elecciones_2018"
   ]
  },
  {
   "cell_type": "markdown",
   "metadata": {},
   "source": [
    "### Componentes principales de un DataFrame\n",
    "1. _index_\n",
    "2. _columns_\n",
    "3. _shape_\n",
    "4. _size_\n",
    "5. _data.count()_\n",
    "6. _T_\n",
    "7. _dtypes_"
   ]
  },
  {
   "cell_type": "code",
   "execution_count": 28,
   "metadata": {},
   "outputs": [
    {
     "data": {
      "text/plain": [
       "RangeIndex(start=0, stop=5, step=1)"
      ]
     },
     "execution_count": 28,
     "metadata": {},
     "output_type": "execute_result"
    }
   ],
   "source": [
    "elecciones_2018.index"
   ]
  },
  {
   "cell_type": "code",
   "execution_count": 29,
   "metadata": {},
   "outputs": [
    {
     "data": {
      "text/plain": [
       "Index(['names', 'ideology', 'age', 'votes'], dtype='object')"
      ]
     },
     "execution_count": 29,
     "metadata": {},
     "output_type": "execute_result"
    }
   ],
   "source": [
    "elecciones_2018.columns"
   ]
  },
  {
   "cell_type": "code",
   "execution_count": 30,
   "metadata": {},
   "outputs": [
    {
     "data": {
      "text/plain": [
       "(5, 4)"
      ]
     },
     "execution_count": 30,
     "metadata": {},
     "output_type": "execute_result"
    }
   ],
   "source": [
    "elecciones_2018.shape"
   ]
  },
  {
   "cell_type": "code",
   "execution_count": 31,
   "metadata": {},
   "outputs": [
    {
     "data": {
      "text/plain": [
       "20"
      ]
     },
     "execution_count": 31,
     "metadata": {},
     "output_type": "execute_result"
    }
   ],
   "source": [
    "elecciones_2018.size"
   ]
  },
  {
   "cell_type": "code",
   "execution_count": 32,
   "metadata": {},
   "outputs": [
    {
     "data": {
      "text/plain": [
       "names       5\n",
       "ideology    4\n",
       "age         5\n",
       "votes       5\n",
       "dtype: int64"
      ]
     },
     "execution_count": 32,
     "metadata": {},
     "output_type": "execute_result"
    }
   ],
   "source": [
    "elecciones_2018.count()"
   ]
  },
  {
   "cell_type": "code",
   "execution_count": 33,
   "metadata": {},
   "outputs": [
    {
     "data": {
      "text/html": [
       "<div>\n",
       "<style scoped>\n",
       "    .dataframe tbody tr th:only-of-type {\n",
       "        vertical-align: middle;\n",
       "    }\n",
       "\n",
       "    .dataframe tbody tr th {\n",
       "        vertical-align: top;\n",
       "    }\n",
       "\n",
       "    .dataframe thead th {\n",
       "        text-align: right;\n",
       "    }\n",
       "</style>\n",
       "<table border=\"1\" class=\"dataframe\">\n",
       "  <thead>\n",
       "    <tr style=\"text-align: right;\">\n",
       "      <th></th>\n",
       "      <th>0</th>\n",
       "      <th>1</th>\n",
       "      <th>2</th>\n",
       "      <th>3</th>\n",
       "      <th>4</th>\n",
       "    </tr>\n",
       "  </thead>\n",
       "  <tbody>\n",
       "    <tr>\n",
       "      <th>names</th>\n",
       "      <td>Duque</td>\n",
       "      <td>Petro</td>\n",
       "      <td>Fajardo</td>\n",
       "      <td>DeLaCalle</td>\n",
       "      <td>Vargas</td>\n",
       "    </tr>\n",
       "    <tr>\n",
       "      <th>ideology</th>\n",
       "      <td>D</td>\n",
       "      <td>I</td>\n",
       "      <td>C</td>\n",
       "      <td>None</td>\n",
       "      <td>D</td>\n",
       "    </tr>\n",
       "    <tr>\n",
       "      <th>age</th>\n",
       "      <td>43</td>\n",
       "      <td>59</td>\n",
       "      <td>63</td>\n",
       "      <td>73</td>\n",
       "      <td>57</td>\n",
       "    </tr>\n",
       "    <tr>\n",
       "      <th>votes</th>\n",
       "      <td>7.6</td>\n",
       "      <td>4.8</td>\n",
       "      <td>4.6</td>\n",
       "      <td>0.4</td>\n",
       "      <td>1.7</td>\n",
       "    </tr>\n",
       "  </tbody>\n",
       "</table>\n",
       "</div>"
      ],
      "text/plain": [
       "              0      1        2          3       4\n",
       "names     Duque  Petro  Fajardo  DeLaCalle  Vargas\n",
       "ideology      D      I        C       None       D\n",
       "age          43     59       63         73      57\n",
       "votes       7.6    4.8      4.6        0.4     1.7"
      ]
     },
     "execution_count": 33,
     "metadata": {},
     "output_type": "execute_result"
    }
   ],
   "source": [
    "elecciones_2018.T"
   ]
  },
  {
   "cell_type": "code",
   "execution_count": 34,
   "metadata": {},
   "outputs": [
    {
     "data": {
      "text/plain": [
       "names        object\n",
       "ideology     object\n",
       "age           int64\n",
       "votes       float64\n",
       "dtype: object"
      ]
     },
     "execution_count": 34,
     "metadata": {},
     "output_type": "execute_result"
    }
   ],
   "source": [
    "elecciones_2018.dtypes"
   ]
  },
  {
   "cell_type": "code",
   "execution_count": null,
   "metadata": {},
   "outputs": [],
   "source": []
  },
  {
   "cell_type": "markdown",
   "metadata": {},
   "source": [
    "### Indexación y ejes"
   ]
  },
  {
   "cell_type": "code",
   "execution_count": 35,
   "metadata": {},
   "outputs": [
    {
     "data": {
      "text/plain": [
       "0        Duque\n",
       "1        Petro\n",
       "2      Fajardo\n",
       "3    DeLaCalle\n",
       "4       Vargas\n",
       "Name: names, dtype: object"
      ]
     },
     "execution_count": 35,
     "metadata": {},
     "output_type": "execute_result"
    }
   ],
   "source": [
    "elecciones_2018['names'] # o elecciones_2018.names"
   ]
  },
  {
   "cell_type": "code",
   "execution_count": 36,
   "metadata": {},
   "outputs": [
    {
     "data": {
      "text/html": [
       "<div>\n",
       "<style scoped>\n",
       "    .dataframe tbody tr th:only-of-type {\n",
       "        vertical-align: middle;\n",
       "    }\n",
       "\n",
       "    .dataframe tbody tr th {\n",
       "        vertical-align: top;\n",
       "    }\n",
       "\n",
       "    .dataframe thead th {\n",
       "        text-align: right;\n",
       "    }\n",
       "</style>\n",
       "<table border=\"1\" class=\"dataframe\">\n",
       "  <thead>\n",
       "    <tr style=\"text-align: right;\">\n",
       "      <th></th>\n",
       "      <th>names</th>\n",
       "      <th>ideology</th>\n",
       "      <th>age</th>\n",
       "      <th>votes</th>\n",
       "    </tr>\n",
       "  </thead>\n",
       "  <tbody>\n",
       "    <tr>\n",
       "      <th>4</th>\n",
       "      <td>Vargas</td>\n",
       "      <td>D</td>\n",
       "      <td>57</td>\n",
       "      <td>1.7</td>\n",
       "    </tr>\n",
       "  </tbody>\n",
       "</table>\n",
       "</div>"
      ],
      "text/plain": [
       "    names ideology  age  votes\n",
       "4  Vargas        D   57    1.7"
      ]
     },
     "execution_count": 36,
     "metadata": {},
     "output_type": "execute_result"
    }
   ],
   "source": [
    "elecciones_2018[elecciones_2018['names']=='Vargas']"
   ]
  },
  {
   "cell_type": "code",
   "execution_count": 37,
   "metadata": {},
   "outputs": [
    {
     "name": "stdout",
     "output_type": "stream",
     "text": [
      "       names ideology  age  votes\n",
      "3  DeLaCalle     None   73    0.4\n"
     ]
    }
   ],
   "source": [
    "print(elecciones_2018.loc[[3]])"
   ]
  },
  {
   "cell_type": "markdown",
   "metadata": {},
   "source": [
    "### Edición de columnas"
   ]
  },
  {
   "cell_type": "markdown",
   "metadata": {},
   "source": [
    "Operaciones aritméticas\n",
    "\n",
    "**Por ejemplo la edad de los candidatos fue tomada en 2018, si suponemos que todos ya cumplieron años en este año 2020 (ya sea en enero o febrero) debemos ajustar su edad**"
   ]
  },
  {
   "cell_type": "code",
   "execution_count": 38,
   "metadata": {},
   "outputs": [],
   "source": [
    "elecciones_2018.age=elecciones_2018.age-2"
   ]
  },
  {
   "cell_type": "code",
   "execution_count": null,
   "metadata": {},
   "outputs": [],
   "source": []
  },
  {
   "cell_type": "markdown",
   "metadata": {},
   "source": [
    "**Si queremos la votación en millones**:"
   ]
  },
  {
   "cell_type": "code",
   "execution_count": 39,
   "metadata": {},
   "outputs": [],
   "source": [
    "elecciones_2018[\"votes_m\"]=elecciones_2018.votes*1000000"
   ]
  },
  {
   "cell_type": "markdown",
   "metadata": {},
   "source": [
    "**Si queremos el porcentaje de cada uno**:"
   ]
  },
  {
   "cell_type": "code",
   "execution_count": 40,
   "metadata": {},
   "outputs": [
    {
     "data": {
      "text/html": [
       "<div>\n",
       "<style scoped>\n",
       "    .dataframe tbody tr th:only-of-type {\n",
       "        vertical-align: middle;\n",
       "    }\n",
       "\n",
       "    .dataframe tbody tr th {\n",
       "        vertical-align: top;\n",
       "    }\n",
       "\n",
       "    .dataframe thead th {\n",
       "        text-align: right;\n",
       "    }\n",
       "</style>\n",
       "<table border=\"1\" class=\"dataframe\">\n",
       "  <thead>\n",
       "    <tr style=\"text-align: right;\">\n",
       "      <th></th>\n",
       "      <th>names</th>\n",
       "      <th>ideology</th>\n",
       "      <th>age</th>\n",
       "      <th>votes</th>\n",
       "      <th>votes_m</th>\n",
       "      <th>porcentaje</th>\n",
       "    </tr>\n",
       "  </thead>\n",
       "  <tbody>\n",
       "    <tr>\n",
       "      <th>0</th>\n",
       "      <td>Duque</td>\n",
       "      <td>D</td>\n",
       "      <td>41</td>\n",
       "      <td>7.6</td>\n",
       "      <td>7600000.0</td>\n",
       "      <td>39.790576</td>\n",
       "    </tr>\n",
       "    <tr>\n",
       "      <th>1</th>\n",
       "      <td>Petro</td>\n",
       "      <td>I</td>\n",
       "      <td>57</td>\n",
       "      <td>4.8</td>\n",
       "      <td>4800000.0</td>\n",
       "      <td>25.130890</td>\n",
       "    </tr>\n",
       "    <tr>\n",
       "      <th>2</th>\n",
       "      <td>Fajardo</td>\n",
       "      <td>C</td>\n",
       "      <td>61</td>\n",
       "      <td>4.6</td>\n",
       "      <td>4600000.0</td>\n",
       "      <td>24.083770</td>\n",
       "    </tr>\n",
       "    <tr>\n",
       "      <th>3</th>\n",
       "      <td>DeLaCalle</td>\n",
       "      <td>None</td>\n",
       "      <td>71</td>\n",
       "      <td>0.4</td>\n",
       "      <td>400000.0</td>\n",
       "      <td>2.094241</td>\n",
       "    </tr>\n",
       "    <tr>\n",
       "      <th>4</th>\n",
       "      <td>Vargas</td>\n",
       "      <td>D</td>\n",
       "      <td>55</td>\n",
       "      <td>1.7</td>\n",
       "      <td>1700000.0</td>\n",
       "      <td>8.900524</td>\n",
       "    </tr>\n",
       "  </tbody>\n",
       "</table>\n",
       "</div>"
      ],
      "text/plain": [
       "       names ideology  age  votes    votes_m  porcentaje\n",
       "0      Duque        D   41    7.6  7600000.0   39.790576\n",
       "1      Petro        I   57    4.8  4800000.0   25.130890\n",
       "2    Fajardo        C   61    4.6  4600000.0   24.083770\n",
       "3  DeLaCalle     None   71    0.4   400000.0    2.094241\n",
       "4     Vargas        D   55    1.7  1700000.0    8.900524"
      ]
     },
     "execution_count": 40,
     "metadata": {},
     "output_type": "execute_result"
    }
   ],
   "source": [
    "elecciones_2018[\"porcentaje\"]=elecciones_2018.votes_m*100/(elecciones_2018.votes_m.sum())\n",
    "elecciones_2018"
   ]
  },
  {
   "cell_type": "markdown",
   "metadata": {},
   "source": [
    "**Si queremos crear una variable categorica**:"
   ]
  },
  {
   "cell_type": "code",
   "execution_count": 41,
   "metadata": {},
   "outputs": [],
   "source": [
    "elecciones_2018['M50'] = np.where(elecciones_2018['age']>=50, 1, 0)"
   ]
  },
  {
   "cell_type": "code",
   "execution_count": null,
   "metadata": {},
   "outputs": [],
   "source": []
  },
  {
   "cell_type": "code",
   "execution_count": 42,
   "metadata": {},
   "outputs": [
    {
     "data": {
      "text/html": [
       "<div>\n",
       "<style scoped>\n",
       "    .dataframe tbody tr th:only-of-type {\n",
       "        vertical-align: middle;\n",
       "    }\n",
       "\n",
       "    .dataframe tbody tr th {\n",
       "        vertical-align: top;\n",
       "    }\n",
       "\n",
       "    .dataframe thead th {\n",
       "        text-align: right;\n",
       "    }\n",
       "</style>\n",
       "<table border=\"1\" class=\"dataframe\">\n",
       "  <thead>\n",
       "    <tr style=\"text-align: right;\">\n",
       "      <th></th>\n",
       "      <th>names</th>\n",
       "      <th>ideology</th>\n",
       "      <th>age</th>\n",
       "      <th>votes</th>\n",
       "      <th>votes_m</th>\n",
       "      <th>porcentaje</th>\n",
       "      <th>M50</th>\n",
       "    </tr>\n",
       "  </thead>\n",
       "  <tbody>\n",
       "    <tr>\n",
       "      <th>0</th>\n",
       "      <td>Duque</td>\n",
       "      <td>D</td>\n",
       "      <td>41</td>\n",
       "      <td>7.6</td>\n",
       "      <td>7600000.0</td>\n",
       "      <td>39.790576</td>\n",
       "      <td>0</td>\n",
       "    </tr>\n",
       "    <tr>\n",
       "      <th>1</th>\n",
       "      <td>Petro</td>\n",
       "      <td>I</td>\n",
       "      <td>57</td>\n",
       "      <td>4.8</td>\n",
       "      <td>4800000.0</td>\n",
       "      <td>25.130890</td>\n",
       "      <td>1</td>\n",
       "    </tr>\n",
       "    <tr>\n",
       "      <th>2</th>\n",
       "      <td>Fajardo</td>\n",
       "      <td>C</td>\n",
       "      <td>61</td>\n",
       "      <td>4.6</td>\n",
       "      <td>4600000.0</td>\n",
       "      <td>24.083770</td>\n",
       "      <td>1</td>\n",
       "    </tr>\n",
       "    <tr>\n",
       "      <th>3</th>\n",
       "      <td>DeLaCalle</td>\n",
       "      <td>None</td>\n",
       "      <td>71</td>\n",
       "      <td>0.4</td>\n",
       "      <td>400000.0</td>\n",
       "      <td>2.094241</td>\n",
       "      <td>1</td>\n",
       "    </tr>\n",
       "    <tr>\n",
       "      <th>4</th>\n",
       "      <td>Vargas</td>\n",
       "      <td>D</td>\n",
       "      <td>55</td>\n",
       "      <td>1.7</td>\n",
       "      <td>1700000.0</td>\n",
       "      <td>8.900524</td>\n",
       "      <td>1</td>\n",
       "    </tr>\n",
       "  </tbody>\n",
       "</table>\n",
       "</div>"
      ],
      "text/plain": [
       "       names ideology  age  votes    votes_m  porcentaje  M50\n",
       "0      Duque        D   41    7.6  7600000.0   39.790576    0\n",
       "1      Petro        I   57    4.8  4800000.0   25.130890    1\n",
       "2    Fajardo        C   61    4.6  4600000.0   24.083770    1\n",
       "3  DeLaCalle     None   71    0.4   400000.0    2.094241    1\n",
       "4     Vargas        D   55    1.7  1700000.0    8.900524    1"
      ]
     },
     "execution_count": 42,
     "metadata": {},
     "output_type": "execute_result"
    }
   ],
   "source": [
    "elecciones_2018"
   ]
  },
  {
   "cell_type": "code",
   "execution_count": null,
   "metadata": {},
   "outputs": [],
   "source": []
  },
  {
   "cell_type": "markdown",
   "metadata": {},
   "source": [
    "**Si queremos borrar una columna**:"
   ]
  },
  {
   "cell_type": "code",
   "execution_count": 43,
   "metadata": {},
   "outputs": [],
   "source": [
    "elecciones_2018=elecciones_2018.drop(columns=['votes'])"
   ]
  },
  {
   "cell_type": "code",
   "execution_count": null,
   "metadata": {},
   "outputs": [],
   "source": []
  },
  {
   "cell_type": "code",
   "execution_count": 44,
   "metadata": {},
   "outputs": [
    {
     "data": {
      "text/html": [
       "<div>\n",
       "<style scoped>\n",
       "    .dataframe tbody tr th:only-of-type {\n",
       "        vertical-align: middle;\n",
       "    }\n",
       "\n",
       "    .dataframe tbody tr th {\n",
       "        vertical-align: top;\n",
       "    }\n",
       "\n",
       "    .dataframe thead th {\n",
       "        text-align: right;\n",
       "    }\n",
       "</style>\n",
       "<table border=\"1\" class=\"dataframe\">\n",
       "  <thead>\n",
       "    <tr style=\"text-align: right;\">\n",
       "      <th></th>\n",
       "      <th>names</th>\n",
       "      <th>ideology</th>\n",
       "      <th>age</th>\n",
       "      <th>votes_m</th>\n",
       "      <th>porcentaje</th>\n",
       "      <th>M50</th>\n",
       "    </tr>\n",
       "  </thead>\n",
       "  <tbody>\n",
       "    <tr>\n",
       "      <th>0</th>\n",
       "      <td>Duque</td>\n",
       "      <td>D</td>\n",
       "      <td>41</td>\n",
       "      <td>7600000.0</td>\n",
       "      <td>39.790576</td>\n",
       "      <td>0</td>\n",
       "    </tr>\n",
       "    <tr>\n",
       "      <th>1</th>\n",
       "      <td>Petro</td>\n",
       "      <td>I</td>\n",
       "      <td>57</td>\n",
       "      <td>4800000.0</td>\n",
       "      <td>25.130890</td>\n",
       "      <td>1</td>\n",
       "    </tr>\n",
       "    <tr>\n",
       "      <th>2</th>\n",
       "      <td>Fajardo</td>\n",
       "      <td>C</td>\n",
       "      <td>61</td>\n",
       "      <td>4600000.0</td>\n",
       "      <td>24.083770</td>\n",
       "      <td>1</td>\n",
       "    </tr>\n",
       "    <tr>\n",
       "      <th>3</th>\n",
       "      <td>DeLaCalle</td>\n",
       "      <td>None</td>\n",
       "      <td>71</td>\n",
       "      <td>400000.0</td>\n",
       "      <td>2.094241</td>\n",
       "      <td>1</td>\n",
       "    </tr>\n",
       "    <tr>\n",
       "      <th>4</th>\n",
       "      <td>Vargas</td>\n",
       "      <td>D</td>\n",
       "      <td>55</td>\n",
       "      <td>1700000.0</td>\n",
       "      <td>8.900524</td>\n",
       "      <td>1</td>\n",
       "    </tr>\n",
       "  </tbody>\n",
       "</table>\n",
       "</div>"
      ],
      "text/plain": [
       "       names ideology  age    votes_m  porcentaje  M50\n",
       "0      Duque        D   41  7600000.0   39.790576    0\n",
       "1      Petro        I   57  4800000.0   25.130890    1\n",
       "2    Fajardo        C   61  4600000.0   24.083770    1\n",
       "3  DeLaCalle     None   71   400000.0    2.094241    1\n",
       "4     Vargas        D   55  1700000.0    8.900524    1"
      ]
     },
     "execution_count": 44,
     "metadata": {},
     "output_type": "execute_result"
    }
   ],
   "source": [
    "elecciones_2018"
   ]
  },
  {
   "cell_type": "code",
   "execution_count": null,
   "metadata": {},
   "outputs": [],
   "source": []
  },
  {
   "cell_type": "markdown",
   "metadata": {},
   "source": [
    "### Estadísticas descriptivas"
   ]
  },
  {
   "cell_type": "code",
   "execution_count": 45,
   "metadata": {},
   "outputs": [
    {
     "data": {
      "text/plain": [
       "names         DuquePetroFajardoDeLaCalleVargas\n",
       "age                                        285\n",
       "votes_m                               1.91e+07\n",
       "porcentaje                                 100\n",
       "M50                                          4\n",
       "dtype: object"
      ]
     },
     "execution_count": 45,
     "metadata": {},
     "output_type": "execute_result"
    }
   ],
   "source": [
    "elecciones_2018.sum()"
   ]
  },
  {
   "cell_type": "code",
   "execution_count": null,
   "metadata": {},
   "outputs": [],
   "source": []
  },
  {
   "cell_type": "code",
   "execution_count": 47,
   "metadata": {},
   "outputs": [
    {
     "data": {
      "text/plain": [
       "age                57.0\n",
       "votes_m       3820000.0\n",
       "porcentaje         20.0\n",
       "M50                 0.8\n",
       "dtype: float64"
      ]
     },
     "execution_count": 47,
     "metadata": {},
     "output_type": "execute_result"
    }
   ],
   "source": [
    "elecciones_2018.mean()"
   ]
  },
  {
   "cell_type": "code",
   "execution_count": 48,
   "metadata": {},
   "outputs": [
    {
     "data": {
      "text/plain": [
       "age           5.700000e+01\n",
       "votes_m       4.600000e+06\n",
       "porcentaje    2.408377e+01\n",
       "M50           1.000000e+00\n",
       "dtype: float64"
      ]
     },
     "execution_count": 48,
     "metadata": {},
     "output_type": "execute_result"
    }
   ],
   "source": [
    "elecciones_2018.median()"
   ]
  },
  {
   "cell_type": "code",
   "execution_count": 49,
   "metadata": {},
   "outputs": [
    {
     "data": {
      "text/plain": [
       "count     5.00000\n",
       "mean     57.00000\n",
       "std      10.86278\n",
       "min      41.00000\n",
       "25%      55.00000\n",
       "50%      57.00000\n",
       "75%      61.00000\n",
       "max      71.00000\n",
       "Name: age, dtype: float64"
      ]
     },
     "execution_count": 49,
     "metadata": {},
     "output_type": "execute_result"
    }
   ],
   "source": [
    "elecciones_2018.age.describe()"
   ]
  },
  {
   "cell_type": "code",
   "execution_count": null,
   "metadata": {},
   "outputs": [],
   "source": []
  },
  {
   "cell_type": "markdown",
   "metadata": {},
   "source": [
    "**Importacion de Bases de datos**"
   ]
  },
  {
   "cell_type": "code",
   "execution_count": 52,
   "metadata": {},
   "outputs": [],
   "source": [
    "senado=pd.read_excel(\"/Users/wilsonforero/Downloads/SENADO2018.xls\")"
   ]
  },
  {
   "cell_type": "code",
   "execution_count": 53,
   "metadata": {},
   "outputs": [
    {
     "data": {
      "text/html": [
       "<div>\n",
       "<style scoped>\n",
       "    .dataframe tbody tr th:only-of-type {\n",
       "        vertical-align: middle;\n",
       "    }\n",
       "\n",
       "    .dataframe tbody tr th {\n",
       "        vertical-align: top;\n",
       "    }\n",
       "\n",
       "    .dataframe thead th {\n",
       "        text-align: right;\n",
       "    }\n",
       "</style>\n",
       "<table border=\"1\" class=\"dataframe\">\n",
       "  <thead>\n",
       "    <tr style=\"text-align: right;\">\n",
       "      <th></th>\n",
       "      <th>ano</th>\n",
       "      <th>tipo_eleccion</th>\n",
       "      <th>codep</th>\n",
       "      <th>codmpio</th>\n",
       "      <th>mpio</th>\n",
       "      <th>codpartido</th>\n",
       "      <th>codlista</th>\n",
       "      <th>primer_apellido</th>\n",
       "      <th>segundo_apellido</th>\n",
       "      <th>nombre</th>\n",
       "      <th>genero</th>\n",
       "      <th>votos</th>\n",
       "      <th>curules</th>\n",
       "    </tr>\n",
       "  </thead>\n",
       "  <tbody>\n",
       "    <tr>\n",
       "      <th>0</th>\n",
       "      <td>2018</td>\n",
       "      <td>2</td>\n",
       "      <td>NaN</td>\n",
       "      <td>99</td>\n",
       "      <td>TOTAL NACIONAL</td>\n",
       "      <td>PARTIDO LIBERAL</td>\n",
       "      <td>0</td>\n",
       "      <td>NaN</td>\n",
       "      <td>NaN</td>\n",
       "      <td>PARTIDO LIBERAL COLOMBIANO</td>\n",
       "      <td>NaN</td>\n",
       "      <td>188569</td>\n",
       "      <td>NaN</td>\n",
       "    </tr>\n",
       "    <tr>\n",
       "      <th>1</th>\n",
       "      <td>2018</td>\n",
       "      <td>2</td>\n",
       "      <td>NaN</td>\n",
       "      <td>99</td>\n",
       "      <td>TOTAL NACIONAL</td>\n",
       "      <td>PARTIDO LIBERAL</td>\n",
       "      <td>1</td>\n",
       "      <td>GOMEZ</td>\n",
       "      <td>AMIN</td>\n",
       "      <td>MAURICIO</td>\n",
       "      <td>NaN</td>\n",
       "      <td>107544</td>\n",
       "      <td>1.0</td>\n",
       "    </tr>\n",
       "    <tr>\n",
       "      <th>2</th>\n",
       "      <td>2018</td>\n",
       "      <td>2</td>\n",
       "      <td>NaN</td>\n",
       "      <td>99</td>\n",
       "      <td>TOTAL NACIONAL</td>\n",
       "      <td>PARTIDO LIBERAL</td>\n",
       "      <td>2</td>\n",
       "      <td>AMIN</td>\n",
       "      <td>SALEME</td>\n",
       "      <td>FABIO RAUL</td>\n",
       "      <td>NaN</td>\n",
       "      <td>87827</td>\n",
       "      <td>1.0</td>\n",
       "    </tr>\n",
       "    <tr>\n",
       "      <th>3</th>\n",
       "      <td>2018</td>\n",
       "      <td>2</td>\n",
       "      <td>NaN</td>\n",
       "      <td>99</td>\n",
       "      <td>TOTAL NACIONAL</td>\n",
       "      <td>PARTIDO LIBERAL</td>\n",
       "      <td>3</td>\n",
       "      <td>PINTO</td>\n",
       "      <td>HERNANDEZ</td>\n",
       "      <td>MIGUEL ANGEL</td>\n",
       "      <td>NaN</td>\n",
       "      <td>84984</td>\n",
       "      <td>1.0</td>\n",
       "    </tr>\n",
       "    <tr>\n",
       "      <th>4</th>\n",
       "      <td>2018</td>\n",
       "      <td>2</td>\n",
       "      <td>NaN</td>\n",
       "      <td>99</td>\n",
       "      <td>TOTAL NACIONAL</td>\n",
       "      <td>PARTIDO LIBERAL</td>\n",
       "      <td>4</td>\n",
       "      <td>VELASQUEZ</td>\n",
       "      <td>NIETO</td>\n",
       "      <td>OLGA LUCIA</td>\n",
       "      <td>NaN</td>\n",
       "      <td>56208</td>\n",
       "      <td>NaN</td>\n",
       "    </tr>\n",
       "    <tr>\n",
       "      <th>5</th>\n",
       "      <td>2018</td>\n",
       "      <td>2</td>\n",
       "      <td>NaN</td>\n",
       "      <td>99</td>\n",
       "      <td>TOTAL NACIONAL</td>\n",
       "      <td>PARTIDO LIBERAL</td>\n",
       "      <td>5</td>\n",
       "      <td>AGUDELO</td>\n",
       "      <td>ZAPATA</td>\n",
       "      <td>IVAN DARIO</td>\n",
       "      <td>NaN</td>\n",
       "      <td>68034</td>\n",
       "      <td>1.0</td>\n",
       "    </tr>\n",
       "    <tr>\n",
       "      <th>6</th>\n",
       "      <td>2018</td>\n",
       "      <td>2</td>\n",
       "      <td>NaN</td>\n",
       "      <td>99</td>\n",
       "      <td>TOTAL NACIONAL</td>\n",
       "      <td>PARTIDO LIBERAL</td>\n",
       "      <td>6</td>\n",
       "      <td>CASADO</td>\n",
       "      <td>DE LOPEZ</td>\n",
       "      <td>ARLETH PATRICIA</td>\n",
       "      <td>NaN</td>\n",
       "      <td>60152</td>\n",
       "      <td>NaN</td>\n",
       "    </tr>\n",
       "    <tr>\n",
       "      <th>7</th>\n",
       "      <td>2018</td>\n",
       "      <td>2</td>\n",
       "      <td>NaN</td>\n",
       "      <td>99</td>\n",
       "      <td>TOTAL NACIONAL</td>\n",
       "      <td>PARTIDO LIBERAL</td>\n",
       "      <td>7</td>\n",
       "      <td>GARCIA</td>\n",
       "      <td>TURBAY</td>\n",
       "      <td>LIDIO ARTURO</td>\n",
       "      <td>NaN</td>\n",
       "      <td>121781</td>\n",
       "      <td>1.0</td>\n",
       "    </tr>\n",
       "    <tr>\n",
       "      <th>8</th>\n",
       "      <td>2018</td>\n",
       "      <td>2</td>\n",
       "      <td>NaN</td>\n",
       "      <td>99</td>\n",
       "      <td>TOTAL NACIONAL</td>\n",
       "      <td>PARTIDO LIBERAL</td>\n",
       "      <td>8</td>\n",
       "      <td>DELGADO</td>\n",
       "      <td>RUIZ</td>\n",
       "      <td>EDINSON</td>\n",
       "      <td>NaN</td>\n",
       "      <td>33754</td>\n",
       "      <td>NaN</td>\n",
       "    </tr>\n",
       "    <tr>\n",
       "      <th>9</th>\n",
       "      <td>2018</td>\n",
       "      <td>2</td>\n",
       "      <td>NaN</td>\n",
       "      <td>99</td>\n",
       "      <td>TOTAL NACIONAL</td>\n",
       "      <td>PARTIDO LIBERAL</td>\n",
       "      <td>9</td>\n",
       "      <td>DURAN</td>\n",
       "      <td>MORA</td>\n",
       "      <td>ELEAZAR ALFONSO</td>\n",
       "      <td>NaN</td>\n",
       "      <td>32832</td>\n",
       "      <td>NaN</td>\n",
       "    </tr>\n",
       "    <tr>\n",
       "      <th>10</th>\n",
       "      <td>2018</td>\n",
       "      <td>2</td>\n",
       "      <td>NaN</td>\n",
       "      <td>99</td>\n",
       "      <td>TOTAL NACIONAL</td>\n",
       "      <td>PARTIDO LIBERAL</td>\n",
       "      <td>10</td>\n",
       "      <td>VELASCO</td>\n",
       "      <td>CHAVES</td>\n",
       "      <td>LUIS FERNANDO</td>\n",
       "      <td>NaN</td>\n",
       "      <td>75273</td>\n",
       "      <td>1.0</td>\n",
       "    </tr>\n",
       "    <tr>\n",
       "      <th>11</th>\n",
       "      <td>2018</td>\n",
       "      <td>2</td>\n",
       "      <td>NaN</td>\n",
       "      <td>99</td>\n",
       "      <td>TOTAL NACIONAL</td>\n",
       "      <td>PARTIDO LIBERAL</td>\n",
       "      <td>11</td>\n",
       "      <td>GONZALEZ</td>\n",
       "      <td>CORREA</td>\n",
       "      <td>OLGA BEATRIZ</td>\n",
       "      <td>NaN</td>\n",
       "      <td>41282</td>\n",
       "      <td>NaN</td>\n",
       "    </tr>\n",
       "    <tr>\n",
       "      <th>12</th>\n",
       "      <td>2018</td>\n",
       "      <td>2</td>\n",
       "      <td>NaN</td>\n",
       "      <td>99</td>\n",
       "      <td>TOTAL NACIONAL</td>\n",
       "      <td>PARTIDO LIBERAL</td>\n",
       "      <td>12</td>\n",
       "      <td>VILLALBA</td>\n",
       "      <td>MOSQUERA</td>\n",
       "      <td>RODRIGO</td>\n",
       "      <td>NaN</td>\n",
       "      <td>63346</td>\n",
       "      <td>1.0</td>\n",
       "    </tr>\n",
       "    <tr>\n",
       "      <th>13</th>\n",
       "      <td>2018</td>\n",
       "      <td>2</td>\n",
       "      <td>NaN</td>\n",
       "      <td>99</td>\n",
       "      <td>TOTAL NACIONAL</td>\n",
       "      <td>PARTIDO LIBERAL</td>\n",
       "      <td>13</td>\n",
       "      <td>DURAN</td>\n",
       "      <td>BARRERA</td>\n",
       "      <td>JAIME ENRIQUE</td>\n",
       "      <td>NaN</td>\n",
       "      <td>69990</td>\n",
       "      <td>1.0</td>\n",
       "    </tr>\n",
       "    <tr>\n",
       "      <th>14</th>\n",
       "      <td>2018</td>\n",
       "      <td>2</td>\n",
       "      <td>NaN</td>\n",
       "      <td>99</td>\n",
       "      <td>TOTAL NACIONAL</td>\n",
       "      <td>PARTIDO LIBERAL</td>\n",
       "      <td>14</td>\n",
       "      <td>FORTICH</td>\n",
       "      <td>SANCHEZ</td>\n",
       "      <td>LAURA ESTER</td>\n",
       "      <td>NaN</td>\n",
       "      <td>66766</td>\n",
       "      <td>1.0</td>\n",
       "    </tr>\n",
       "    <tr>\n",
       "      <th>15</th>\n",
       "      <td>2018</td>\n",
       "      <td>2</td>\n",
       "      <td>NaN</td>\n",
       "      <td>99</td>\n",
       "      <td>TOTAL NACIONAL</td>\n",
       "      <td>PARTIDO LIBERAL</td>\n",
       "      <td>15</td>\n",
       "      <td>ISAZA</td>\n",
       "      <td>RODRIGUEZ</td>\n",
       "      <td>CARLOS HUMBERTO</td>\n",
       "      <td>NaN</td>\n",
       "      <td>39288</td>\n",
       "      <td>NaN</td>\n",
       "    </tr>\n",
       "    <tr>\n",
       "      <th>16</th>\n",
       "      <td>2018</td>\n",
       "      <td>2</td>\n",
       "      <td>NaN</td>\n",
       "      <td>99</td>\n",
       "      <td>TOTAL NACIONAL</td>\n",
       "      <td>PARTIDO LIBERAL</td>\n",
       "      <td>16</td>\n",
       "      <td>CRISTO</td>\n",
       "      <td>BUSTOS</td>\n",
       "      <td>ANDRES</td>\n",
       "      <td>NaN</td>\n",
       "      <td>69515</td>\n",
       "      <td>1.0</td>\n",
       "    </tr>\n",
       "    <tr>\n",
       "      <th>17</th>\n",
       "      <td>2018</td>\n",
       "      <td>2</td>\n",
       "      <td>NaN</td>\n",
       "      <td>99</td>\n",
       "      <td>TOTAL NACIONAL</td>\n",
       "      <td>PARTIDO LIBERAL</td>\n",
       "      <td>17</td>\n",
       "      <td>BEDOYA</td>\n",
       "      <td>PULGARIN</td>\n",
       "      <td>JULIAN</td>\n",
       "      <td>NaN</td>\n",
       "      <td>75261</td>\n",
       "      <td>1.0</td>\n",
       "    </tr>\n",
       "    <tr>\n",
       "      <th>18</th>\n",
       "      <td>2018</td>\n",
       "      <td>2</td>\n",
       "      <td>NaN</td>\n",
       "      <td>99</td>\n",
       "      <td>TOTAL NACIONAL</td>\n",
       "      <td>PARTIDO LIBERAL</td>\n",
       "      <td>18</td>\n",
       "      <td>MURGUEITIO</td>\n",
       "      <td>CARDENAS</td>\n",
       "      <td>FERNANDO DAVID</td>\n",
       "      <td>NaN</td>\n",
       "      <td>41888</td>\n",
       "      <td>NaN</td>\n",
       "    </tr>\n",
       "    <tr>\n",
       "      <th>19</th>\n",
       "      <td>2018</td>\n",
       "      <td>2</td>\n",
       "      <td>NaN</td>\n",
       "      <td>99</td>\n",
       "      <td>TOTAL NACIONAL</td>\n",
       "      <td>PARTIDO LIBERAL</td>\n",
       "      <td>19</td>\n",
       "      <td>HOYOS</td>\n",
       "      <td>AGUDELO</td>\n",
       "      <td>OMAR DE JESUS</td>\n",
       "      <td>NaN</td>\n",
       "      <td>35936</td>\n",
       "      <td>NaN</td>\n",
       "    </tr>\n",
       "    <tr>\n",
       "      <th>20</th>\n",
       "      <td>2018</td>\n",
       "      <td>2</td>\n",
       "      <td>NaN</td>\n",
       "      <td>99</td>\n",
       "      <td>TOTAL NACIONAL</td>\n",
       "      <td>PARTIDO LIBERAL</td>\n",
       "      <td>20</td>\n",
       "      <td>GARCIA</td>\n",
       "      <td>REALPE</td>\n",
       "      <td>GUILLERMO</td>\n",
       "      <td>NaN</td>\n",
       "      <td>66011</td>\n",
       "      <td>1.0</td>\n",
       "    </tr>\n",
       "    <tr>\n",
       "      <th>21</th>\n",
       "      <td>2018</td>\n",
       "      <td>2</td>\n",
       "      <td>NaN</td>\n",
       "      <td>99</td>\n",
       "      <td>TOTAL NACIONAL</td>\n",
       "      <td>PARTIDO LIBERAL</td>\n",
       "      <td>22</td>\n",
       "      <td>DUQUE</td>\n",
       "      <td>GARCIA</td>\n",
       "      <td>LUIS FERNANDO</td>\n",
       "      <td>NaN</td>\n",
       "      <td>30304</td>\n",
       "      <td>NaN</td>\n",
       "    </tr>\n",
       "    <tr>\n",
       "      <th>22</th>\n",
       "      <td>2018</td>\n",
       "      <td>2</td>\n",
       "      <td>NaN</td>\n",
       "      <td>99</td>\n",
       "      <td>TOTAL NACIONAL</td>\n",
       "      <td>PARTIDO LIBERAL</td>\n",
       "      <td>23</td>\n",
       "      <td>QUIÑONES</td>\n",
       "      <td>GARCIA</td>\n",
       "      <td>LUCIANO MARCELINO</td>\n",
       "      <td>NaN</td>\n",
       "      <td>1101</td>\n",
       "      <td>NaN</td>\n",
       "    </tr>\n",
       "    <tr>\n",
       "      <th>23</th>\n",
       "      <td>2018</td>\n",
       "      <td>2</td>\n",
       "      <td>NaN</td>\n",
       "      <td>99</td>\n",
       "      <td>TOTAL NACIONAL</td>\n",
       "      <td>PARTIDO LIBERAL</td>\n",
       "      <td>24</td>\n",
       "      <td>OROZCO</td>\n",
       "      <td>VALENCIANO</td>\n",
       "      <td>YOBANY</td>\n",
       "      <td>NaN</td>\n",
       "      <td>2310</td>\n",
       "      <td>NaN</td>\n",
       "    </tr>\n",
       "    <tr>\n",
       "      <th>24</th>\n",
       "      <td>2018</td>\n",
       "      <td>2</td>\n",
       "      <td>NaN</td>\n",
       "      <td>99</td>\n",
       "      <td>TOTAL NACIONAL</td>\n",
       "      <td>PARTIDO LIBERAL</td>\n",
       "      <td>25</td>\n",
       "      <td>BAUTISTA</td>\n",
       "      <td>NIÑO</td>\n",
       "      <td>GRACIELA</td>\n",
       "      <td>NaN</td>\n",
       "      <td>1064</td>\n",
       "      <td>NaN</td>\n",
       "    </tr>\n",
       "    <tr>\n",
       "      <th>25</th>\n",
       "      <td>2018</td>\n",
       "      <td>2</td>\n",
       "      <td>NaN</td>\n",
       "      <td>99</td>\n",
       "      <td>TOTAL NACIONAL</td>\n",
       "      <td>PARTIDO LIBERAL</td>\n",
       "      <td>26</td>\n",
       "      <td>TORRES</td>\n",
       "      <td>OCAMPO</td>\n",
       "      <td>LUIS ESNORALDO</td>\n",
       "      <td>NaN</td>\n",
       "      <td>660</td>\n",
       "      <td>NaN</td>\n",
       "    </tr>\n",
       "    <tr>\n",
       "      <th>26</th>\n",
       "      <td>2018</td>\n",
       "      <td>2</td>\n",
       "      <td>NaN</td>\n",
       "      <td>99</td>\n",
       "      <td>TOTAL NACIONAL</td>\n",
       "      <td>PARTIDO LIBERAL</td>\n",
       "      <td>27</td>\n",
       "      <td>PLATA</td>\n",
       "      <td>VERA</td>\n",
       "      <td>MAYE</td>\n",
       "      <td>NaN</td>\n",
       "      <td>4177</td>\n",
       "      <td>NaN</td>\n",
       "    </tr>\n",
       "    <tr>\n",
       "      <th>27</th>\n",
       "      <td>2018</td>\n",
       "      <td>2</td>\n",
       "      <td>NaN</td>\n",
       "      <td>99</td>\n",
       "      <td>TOTAL NACIONAL</td>\n",
       "      <td>PARTIDO LIBERAL</td>\n",
       "      <td>28</td>\n",
       "      <td>RAMIREZ</td>\n",
       "      <td>HOYOS</td>\n",
       "      <td>FLORENCIA</td>\n",
       "      <td>NaN</td>\n",
       "      <td>2408</td>\n",
       "      <td>NaN</td>\n",
       "    </tr>\n",
       "    <tr>\n",
       "      <th>28</th>\n",
       "      <td>2018</td>\n",
       "      <td>2</td>\n",
       "      <td>NaN</td>\n",
       "      <td>99</td>\n",
       "      <td>TOTAL NACIONAL</td>\n",
       "      <td>PARTIDO LIBERAL</td>\n",
       "      <td>29</td>\n",
       "      <td>ABAUNZA</td>\n",
       "      <td>NIÑO</td>\n",
       "      <td>LORENT</td>\n",
       "      <td>NaN</td>\n",
       "      <td>2005</td>\n",
       "      <td>NaN</td>\n",
       "    </tr>\n",
       "    <tr>\n",
       "      <th>29</th>\n",
       "      <td>2018</td>\n",
       "      <td>2</td>\n",
       "      <td>NaN</td>\n",
       "      <td>99</td>\n",
       "      <td>TOTAL NACIONAL</td>\n",
       "      <td>PARTIDO LIBERAL</td>\n",
       "      <td>30</td>\n",
       "      <td>VALENCIA</td>\n",
       "      <td>FRANCO</td>\n",
       "      <td>LUZ PIEDAD</td>\n",
       "      <td>NaN</td>\n",
       "      <td>51045</td>\n",
       "      <td>NaN</td>\n",
       "    </tr>\n",
       "    <tr>\n",
       "      <th>...</th>\n",
       "      <td>...</td>\n",
       "      <td>...</td>\n",
       "      <td>...</td>\n",
       "      <td>...</td>\n",
       "      <td>...</td>\n",
       "      <td>...</td>\n",
       "      <td>...</td>\n",
       "      <td>...</td>\n",
       "      <td>...</td>\n",
       "      <td>...</td>\n",
       "      <td>...</td>\n",
       "      <td>...</td>\n",
       "      <td>...</td>\n",
       "    </tr>\n",
       "    <tr>\n",
       "      <th>873</th>\n",
       "      <td>2018</td>\n",
       "      <td>2</td>\n",
       "      <td>NaN</td>\n",
       "      <td>99</td>\n",
       "      <td>TOTAL NACIONAL</td>\n",
       "      <td>COALICIÓN LISTA DE LA DECENCIA (ASI,UP,MAIS)</td>\n",
       "      <td>66</td>\n",
       "      <td>ORDOÑEZ</td>\n",
       "      <td>CHADID</td>\n",
       "      <td>ADOLFO ANTONIO</td>\n",
       "      <td>NaN</td>\n",
       "      <td>12070</td>\n",
       "      <td>NaN</td>\n",
       "    </tr>\n",
       "    <tr>\n",
       "      <th>874</th>\n",
       "      <td>2018</td>\n",
       "      <td>2</td>\n",
       "      <td>NaN</td>\n",
       "      <td>99</td>\n",
       "      <td>TOTAL NACIONAL</td>\n",
       "      <td>COALICIÓN LISTA DE LA DECENCIA (ASI,UP,MAIS)</td>\n",
       "      <td>67</td>\n",
       "      <td>PRADA</td>\n",
       "      <td>SUAREZ</td>\n",
       "      <td>JOHN FABIO</td>\n",
       "      <td>NaN</td>\n",
       "      <td>1535</td>\n",
       "      <td>NaN</td>\n",
       "    </tr>\n",
       "    <tr>\n",
       "      <th>875</th>\n",
       "      <td>2018</td>\n",
       "      <td>2</td>\n",
       "      <td>NaN</td>\n",
       "      <td>99</td>\n",
       "      <td>TOTAL NACIONAL</td>\n",
       "      <td>COALICIÓN LISTA DE LA DECENCIA (ASI,UP,MAIS)</td>\n",
       "      <td>68</td>\n",
       "      <td>COBOS</td>\n",
       "      <td>CASTELLANOS</td>\n",
       "      <td>JHON CHARLES</td>\n",
       "      <td>NaN</td>\n",
       "      <td>1177</td>\n",
       "      <td>NaN</td>\n",
       "    </tr>\n",
       "    <tr>\n",
       "      <th>876</th>\n",
       "      <td>2018</td>\n",
       "      <td>2</td>\n",
       "      <td>NaN</td>\n",
       "      <td>99</td>\n",
       "      <td>TOTAL NACIONAL</td>\n",
       "      <td>COALICIÓN LISTA DE LA DECENCIA (ASI,UP,MAIS)</td>\n",
       "      <td>70</td>\n",
       "      <td>SALAM</td>\n",
       "      <td>BAYONA</td>\n",
       "      <td>NASSER ABDIS</td>\n",
       "      <td>NaN</td>\n",
       "      <td>622</td>\n",
       "      <td>NaN</td>\n",
       "    </tr>\n",
       "    <tr>\n",
       "      <th>877</th>\n",
       "      <td>2018</td>\n",
       "      <td>2</td>\n",
       "      <td>NaN</td>\n",
       "      <td>99</td>\n",
       "      <td>TOTAL NACIONAL</td>\n",
       "      <td>COALICIÓN LISTA DE LA DECENCIA (ASI,UP,MAIS)</td>\n",
       "      <td>71</td>\n",
       "      <td>PEREZ</td>\n",
       "      <td>CIFUENTES</td>\n",
       "      <td>VICTOR ALBERTO</td>\n",
       "      <td>NaN</td>\n",
       "      <td>527</td>\n",
       "      <td>NaN</td>\n",
       "    </tr>\n",
       "    <tr>\n",
       "      <th>878</th>\n",
       "      <td>2018</td>\n",
       "      <td>2</td>\n",
       "      <td>NaN</td>\n",
       "      <td>99</td>\n",
       "      <td>TOTAL NACIONAL</td>\n",
       "      <td>COALICIÓN LISTA DE LA DECENCIA (ASI,UP,MAIS)</td>\n",
       "      <td>72</td>\n",
       "      <td>PALACIOS</td>\n",
       "      <td>DE HERNANDEZ</td>\n",
       "      <td>SANDRA GILMA</td>\n",
       "      <td>NaN</td>\n",
       "      <td>286</td>\n",
       "      <td>NaN</td>\n",
       "    </tr>\n",
       "    <tr>\n",
       "      <th>879</th>\n",
       "      <td>2018</td>\n",
       "      <td>2</td>\n",
       "      <td>NaN</td>\n",
       "      <td>99</td>\n",
       "      <td>TOTAL NACIONAL</td>\n",
       "      <td>COALICIÓN LISTA DE LA DECENCIA (ASI,UP,MAIS)</td>\n",
       "      <td>75</td>\n",
       "      <td>ORTIZ</td>\n",
       "      <td>CAICEDO</td>\n",
       "      <td>JUAN FELIPE</td>\n",
       "      <td>NaN</td>\n",
       "      <td>471</td>\n",
       "      <td>NaN</td>\n",
       "    </tr>\n",
       "    <tr>\n",
       "      <th>880</th>\n",
       "      <td>2018</td>\n",
       "      <td>2</td>\n",
       "      <td>NaN</td>\n",
       "      <td>99</td>\n",
       "      <td>TOTAL NACIONAL</td>\n",
       "      <td>COALICIÓN LISTA DE LA DECENCIA (ASI,UP,MAIS)</td>\n",
       "      <td>77</td>\n",
       "      <td>MOTTA</td>\n",
       "      <td>MALDONADO</td>\n",
       "      <td>RAFAEL</td>\n",
       "      <td>NaN</td>\n",
       "      <td>8719</td>\n",
       "      <td>NaN</td>\n",
       "    </tr>\n",
       "    <tr>\n",
       "      <th>881</th>\n",
       "      <td>2018</td>\n",
       "      <td>2</td>\n",
       "      <td>NaN</td>\n",
       "      <td>99</td>\n",
       "      <td>TOTAL NACIONAL</td>\n",
       "      <td>COALICIÓN LISTA DE LA DECENCIA (ASI,UP,MAIS)</td>\n",
       "      <td>78</td>\n",
       "      <td>MONTAÑA</td>\n",
       "      <td>GARCIA</td>\n",
       "      <td>CESAR ROBERTO</td>\n",
       "      <td>NaN</td>\n",
       "      <td>916</td>\n",
       "      <td>NaN</td>\n",
       "    </tr>\n",
       "    <tr>\n",
       "      <th>882</th>\n",
       "      <td>2018</td>\n",
       "      <td>2</td>\n",
       "      <td>NaN</td>\n",
       "      <td>99</td>\n",
       "      <td>TOTAL NACIONAL</td>\n",
       "      <td>COALICIÓN LISTA DE LA DECENCIA (ASI,UP,MAIS)</td>\n",
       "      <td>79</td>\n",
       "      <td>SANCHEZ</td>\n",
       "      <td>CHAPARRO</td>\n",
       "      <td>JHON HENRY</td>\n",
       "      <td>NaN</td>\n",
       "      <td>530</td>\n",
       "      <td>NaN</td>\n",
       "    </tr>\n",
       "    <tr>\n",
       "      <th>883</th>\n",
       "      <td>2018</td>\n",
       "      <td>2</td>\n",
       "      <td>NaN</td>\n",
       "      <td>99</td>\n",
       "      <td>TOTAL NACIONAL</td>\n",
       "      <td>COALICIÓN LISTA DE LA DECENCIA (ASI,UP,MAIS)</td>\n",
       "      <td>81</td>\n",
       "      <td>OTERO</td>\n",
       "      <td>MARCHENA</td>\n",
       "      <td>OMAR GUILLERMO</td>\n",
       "      <td>NaN</td>\n",
       "      <td>182</td>\n",
       "      <td>NaN</td>\n",
       "    </tr>\n",
       "    <tr>\n",
       "      <th>884</th>\n",
       "      <td>2018</td>\n",
       "      <td>2</td>\n",
       "      <td>NaN</td>\n",
       "      <td>99</td>\n",
       "      <td>TOTAL NACIONAL</td>\n",
       "      <td>COALICIÓN LISTA DE LA DECENCIA (ASI,UP,MAIS)</td>\n",
       "      <td>82</td>\n",
       "      <td>DONADO</td>\n",
       "      <td>BELTRAN</td>\n",
       "      <td>ALBERTO LUIS</td>\n",
       "      <td>NaN</td>\n",
       "      <td>151</td>\n",
       "      <td>NaN</td>\n",
       "    </tr>\n",
       "    <tr>\n",
       "      <th>885</th>\n",
       "      <td>2018</td>\n",
       "      <td>2</td>\n",
       "      <td>NaN</td>\n",
       "      <td>99</td>\n",
       "      <td>TOTAL NACIONAL</td>\n",
       "      <td>COALICIÓN LISTA DE LA DECENCIA (ASI,UP,MAIS)</td>\n",
       "      <td>83</td>\n",
       "      <td>UNI</td>\n",
       "      <td>JIMENEZ</td>\n",
       "      <td>YOLANDA</td>\n",
       "      <td>NaN</td>\n",
       "      <td>170</td>\n",
       "      <td>NaN</td>\n",
       "    </tr>\n",
       "    <tr>\n",
       "      <th>886</th>\n",
       "      <td>2018</td>\n",
       "      <td>2</td>\n",
       "      <td>NaN</td>\n",
       "      <td>99</td>\n",
       "      <td>TOTAL NACIONAL</td>\n",
       "      <td>COALICIÓN LISTA DE LA DECENCIA (ASI,UP,MAIS)</td>\n",
       "      <td>84</td>\n",
       "      <td>BECERRA</td>\n",
       "      <td>STERLING</td>\n",
       "      <td>JOSE RAMIRO</td>\n",
       "      <td>NaN</td>\n",
       "      <td>2078</td>\n",
       "      <td>NaN</td>\n",
       "    </tr>\n",
       "    <tr>\n",
       "      <th>887</th>\n",
       "      <td>2018</td>\n",
       "      <td>2</td>\n",
       "      <td>NaN</td>\n",
       "      <td>99</td>\n",
       "      <td>TOTAL NACIONAL</td>\n",
       "      <td>COALICIÓN LISTA DE LA DECENCIA (ASI,UP,MAIS)</td>\n",
       "      <td>85</td>\n",
       "      <td>CHAVARRO</td>\n",
       "      <td>DIAZ</td>\n",
       "      <td>ALBERTO</td>\n",
       "      <td>NaN</td>\n",
       "      <td>169</td>\n",
       "      <td>NaN</td>\n",
       "    </tr>\n",
       "    <tr>\n",
       "      <th>888</th>\n",
       "      <td>2018</td>\n",
       "      <td>2</td>\n",
       "      <td>NaN</td>\n",
       "      <td>99</td>\n",
       "      <td>TOTAL NACIONAL</td>\n",
       "      <td>COALICIÓN LISTA DE LA DECENCIA (ASI,UP,MAIS)</td>\n",
       "      <td>86</td>\n",
       "      <td>OSPINA</td>\n",
       "      <td>REYES</td>\n",
       "      <td>GLORIA EDITH</td>\n",
       "      <td>NaN</td>\n",
       "      <td>165</td>\n",
       "      <td>NaN</td>\n",
       "    </tr>\n",
       "    <tr>\n",
       "      <th>889</th>\n",
       "      <td>2018</td>\n",
       "      <td>2</td>\n",
       "      <td>NaN</td>\n",
       "      <td>99</td>\n",
       "      <td>TOTAL NACIONAL</td>\n",
       "      <td>COALICIÓN LISTA DE LA DECENCIA (ASI,UP,MAIS)</td>\n",
       "      <td>89</td>\n",
       "      <td>CAICEDO</td>\n",
       "      <td>CORDOBA</td>\n",
       "      <td>ADOLFO</td>\n",
       "      <td>NaN</td>\n",
       "      <td>382</td>\n",
       "      <td>NaN</td>\n",
       "    </tr>\n",
       "    <tr>\n",
       "      <th>890</th>\n",
       "      <td>2018</td>\n",
       "      <td>2</td>\n",
       "      <td>NaN</td>\n",
       "      <td>99</td>\n",
       "      <td>TOTAL NACIONAL</td>\n",
       "      <td>COALICIÓN LISTA DE LA DECENCIA (ASI,UP,MAIS)</td>\n",
       "      <td>90</td>\n",
       "      <td>ESQUIVEL</td>\n",
       "      <td>AREVALO</td>\n",
       "      <td>PEDRO</td>\n",
       "      <td>NaN</td>\n",
       "      <td>728</td>\n",
       "      <td>NaN</td>\n",
       "    </tr>\n",
       "    <tr>\n",
       "      <th>891</th>\n",
       "      <td>2018</td>\n",
       "      <td>2</td>\n",
       "      <td>NaN</td>\n",
       "      <td>99</td>\n",
       "      <td>TOTAL NACIONAL</td>\n",
       "      <td>COALICIÓN LISTA DE LA DECENCIA (ASI,UP,MAIS)</td>\n",
       "      <td>91</td>\n",
       "      <td>BERNAL</td>\n",
       "      <td>PARRA</td>\n",
       "      <td>LUZ MARINA</td>\n",
       "      <td>NaN</td>\n",
       "      <td>6090</td>\n",
       "      <td>NaN</td>\n",
       "    </tr>\n",
       "    <tr>\n",
       "      <th>892</th>\n",
       "      <td>2018</td>\n",
       "      <td>2</td>\n",
       "      <td>NaN</td>\n",
       "      <td>99</td>\n",
       "      <td>TOTAL NACIONAL</td>\n",
       "      <td>COALICIÓN LISTA DE LA DECENCIA (ASI,UP,MAIS)</td>\n",
       "      <td>94</td>\n",
       "      <td>LURDUY</td>\n",
       "      <td>ORTEGON</td>\n",
       "      <td>JOSE</td>\n",
       "      <td>NaN</td>\n",
       "      <td>618</td>\n",
       "      <td>NaN</td>\n",
       "    </tr>\n",
       "    <tr>\n",
       "      <th>893</th>\n",
       "      <td>2018</td>\n",
       "      <td>2</td>\n",
       "      <td>NaN</td>\n",
       "      <td>99</td>\n",
       "      <td>TOTAL NACIONAL</td>\n",
       "      <td>COALICIÓN LISTA DE LA DECENCIA (ASI,UP,MAIS)</td>\n",
       "      <td>96</td>\n",
       "      <td>MADERA</td>\n",
       "      <td>MACEA</td>\n",
       "      <td>DAYSURIS JUDITH</td>\n",
       "      <td>NaN</td>\n",
       "      <td>207</td>\n",
       "      <td>NaN</td>\n",
       "    </tr>\n",
       "    <tr>\n",
       "      <th>894</th>\n",
       "      <td>2018</td>\n",
       "      <td>2</td>\n",
       "      <td>NaN</td>\n",
       "      <td>99</td>\n",
       "      <td>TOTAL NACIONAL</td>\n",
       "      <td>COALICIÓN LISTA DE LA DECENCIA (ASI,UP,MAIS)</td>\n",
       "      <td>97</td>\n",
       "      <td>CARDONA</td>\n",
       "      <td>CORTES</td>\n",
       "      <td>JOSE GERMAN</td>\n",
       "      <td>NaN</td>\n",
       "      <td>301</td>\n",
       "      <td>NaN</td>\n",
       "    </tr>\n",
       "    <tr>\n",
       "      <th>895</th>\n",
       "      <td>2018</td>\n",
       "      <td>2</td>\n",
       "      <td>NaN</td>\n",
       "      <td>99</td>\n",
       "      <td>TOTAL NACIONAL</td>\n",
       "      <td>COALICIÓN LISTA DE LA DECENCIA (ASI,UP,MAIS)</td>\n",
       "      <td>98</td>\n",
       "      <td>CHAVES</td>\n",
       "      <td>RUIZ</td>\n",
       "      <td>ALICIA</td>\n",
       "      <td>NaN</td>\n",
       "      <td>471</td>\n",
       "      <td>NaN</td>\n",
       "    </tr>\n",
       "    <tr>\n",
       "      <th>896</th>\n",
       "      <td>2018</td>\n",
       "      <td>2</td>\n",
       "      <td>NaN</td>\n",
       "      <td>99</td>\n",
       "      <td>TOTAL NACIONAL</td>\n",
       "      <td>COALICIÓN LISTA DE LA DECENCIA (ASI,UP,MAIS)</td>\n",
       "      <td>99</td>\n",
       "      <td>PADILLA</td>\n",
       "      <td>TEJEDA</td>\n",
       "      <td>CRISTOBAL</td>\n",
       "      <td>NaN</td>\n",
       "      <td>9920</td>\n",
       "      <td>NaN</td>\n",
       "    </tr>\n",
       "    <tr>\n",
       "      <th>897</th>\n",
       "      <td>2018</td>\n",
       "      <td>2</td>\n",
       "      <td>NaN</td>\n",
       "      <td>99</td>\n",
       "      <td>TOTAL NACIONAL</td>\n",
       "      <td>COALICIÓN LISTA DE LA DECENCIA (ASI,UP,MAIS)</td>\n",
       "      <td>100</td>\n",
       "      <td>TAMAYO</td>\n",
       "      <td>PEREZ</td>\n",
       "      <td>JONATAN</td>\n",
       "      <td>NaN</td>\n",
       "      <td>14773</td>\n",
       "      <td>1.0</td>\n",
       "    </tr>\n",
       "    <tr>\n",
       "      <th>898</th>\n",
       "      <td>2018</td>\n",
       "      <td>2</td>\n",
       "      <td>NaN</td>\n",
       "      <td>99</td>\n",
       "      <td>TOTAL NACIONAL</td>\n",
       "      <td>G.S.C. UNIÓN CON FORTALEZA</td>\n",
       "      <td>0</td>\n",
       "      <td>NaN</td>\n",
       "      <td>NaN</td>\n",
       "      <td>G.S.C. UNIÓN CON FORTALEZA</td>\n",
       "      <td>NaN</td>\n",
       "      <td>34275</td>\n",
       "      <td>NaN</td>\n",
       "    </tr>\n",
       "    <tr>\n",
       "      <th>899</th>\n",
       "      <td>2018</td>\n",
       "      <td>2</td>\n",
       "      <td>NaN</td>\n",
       "      <td>99</td>\n",
       "      <td>TOTAL NACIONAL</td>\n",
       "      <td>G.S.C. COLOMBIA JUSTA LIBRES</td>\n",
       "      <td>0</td>\n",
       "      <td>NaN</td>\n",
       "      <td>NaN</td>\n",
       "      <td>G.S.C. COLOMBIA JUSTA LIBRES</td>\n",
       "      <td>NaN</td>\n",
       "      <td>463521</td>\n",
       "      <td>NaN</td>\n",
       "    </tr>\n",
       "    <tr>\n",
       "      <th>900</th>\n",
       "      <td>2018</td>\n",
       "      <td>2</td>\n",
       "      <td>NaN</td>\n",
       "      <td>99</td>\n",
       "      <td>TOTAL NACIONAL</td>\n",
       "      <td>NaN</td>\n",
       "      <td>996</td>\n",
       "      <td>NaN</td>\n",
       "      <td>NaN</td>\n",
       "      <td>VOTOS EN BLANCO</td>\n",
       "      <td>NaN</td>\n",
       "      <td>1183292</td>\n",
       "      <td>NaN</td>\n",
       "    </tr>\n",
       "    <tr>\n",
       "      <th>901</th>\n",
       "      <td>2018</td>\n",
       "      <td>2</td>\n",
       "      <td>NaN</td>\n",
       "      <td>99</td>\n",
       "      <td>TOTAL NACIONAL</td>\n",
       "      <td>NaN</td>\n",
       "      <td>997</td>\n",
       "      <td>NaN</td>\n",
       "      <td>NaN</td>\n",
       "      <td>VOTOS NULOS</td>\n",
       "      <td>NaN</td>\n",
       "      <td>1151181</td>\n",
       "      <td>NaN</td>\n",
       "    </tr>\n",
       "    <tr>\n",
       "      <th>902</th>\n",
       "      <td>2018</td>\n",
       "      <td>2</td>\n",
       "      <td>NaN</td>\n",
       "      <td>99</td>\n",
       "      <td>TOTAL NACIONAL</td>\n",
       "      <td>NaN</td>\n",
       "      <td>998</td>\n",
       "      <td>NaN</td>\n",
       "      <td>NaN</td>\n",
       "      <td>VOTOS NO MARCADOS</td>\n",
       "      <td>NaN</td>\n",
       "      <td>870007</td>\n",
       "      <td>NaN</td>\n",
       "    </tr>\n",
       "  </tbody>\n",
       "</table>\n",
       "<p>903 rows × 13 columns</p>\n",
       "</div>"
      ],
      "text/plain": [
       "      ano  tipo_eleccion  codep  codmpio            mpio  \\\n",
       "0    2018              2    NaN       99  TOTAL NACIONAL   \n",
       "1    2018              2    NaN       99  TOTAL NACIONAL   \n",
       "2    2018              2    NaN       99  TOTAL NACIONAL   \n",
       "3    2018              2    NaN       99  TOTAL NACIONAL   \n",
       "4    2018              2    NaN       99  TOTAL NACIONAL   \n",
       "5    2018              2    NaN       99  TOTAL NACIONAL   \n",
       "6    2018              2    NaN       99  TOTAL NACIONAL   \n",
       "7    2018              2    NaN       99  TOTAL NACIONAL   \n",
       "8    2018              2    NaN       99  TOTAL NACIONAL   \n",
       "9    2018              2    NaN       99  TOTAL NACIONAL   \n",
       "10   2018              2    NaN       99  TOTAL NACIONAL   \n",
       "11   2018              2    NaN       99  TOTAL NACIONAL   \n",
       "12   2018              2    NaN       99  TOTAL NACIONAL   \n",
       "13   2018              2    NaN       99  TOTAL NACIONAL   \n",
       "14   2018              2    NaN       99  TOTAL NACIONAL   \n",
       "15   2018              2    NaN       99  TOTAL NACIONAL   \n",
       "16   2018              2    NaN       99  TOTAL NACIONAL   \n",
       "17   2018              2    NaN       99  TOTAL NACIONAL   \n",
       "18   2018              2    NaN       99  TOTAL NACIONAL   \n",
       "19   2018              2    NaN       99  TOTAL NACIONAL   \n",
       "20   2018              2    NaN       99  TOTAL NACIONAL   \n",
       "21   2018              2    NaN       99  TOTAL NACIONAL   \n",
       "22   2018              2    NaN       99  TOTAL NACIONAL   \n",
       "23   2018              2    NaN       99  TOTAL NACIONAL   \n",
       "24   2018              2    NaN       99  TOTAL NACIONAL   \n",
       "25   2018              2    NaN       99  TOTAL NACIONAL   \n",
       "26   2018              2    NaN       99  TOTAL NACIONAL   \n",
       "27   2018              2    NaN       99  TOTAL NACIONAL   \n",
       "28   2018              2    NaN       99  TOTAL NACIONAL   \n",
       "29   2018              2    NaN       99  TOTAL NACIONAL   \n",
       "..    ...            ...    ...      ...             ...   \n",
       "873  2018              2    NaN       99  TOTAL NACIONAL   \n",
       "874  2018              2    NaN       99  TOTAL NACIONAL   \n",
       "875  2018              2    NaN       99  TOTAL NACIONAL   \n",
       "876  2018              2    NaN       99  TOTAL NACIONAL   \n",
       "877  2018              2    NaN       99  TOTAL NACIONAL   \n",
       "878  2018              2    NaN       99  TOTAL NACIONAL   \n",
       "879  2018              2    NaN       99  TOTAL NACIONAL   \n",
       "880  2018              2    NaN       99  TOTAL NACIONAL   \n",
       "881  2018              2    NaN       99  TOTAL NACIONAL   \n",
       "882  2018              2    NaN       99  TOTAL NACIONAL   \n",
       "883  2018              2    NaN       99  TOTAL NACIONAL   \n",
       "884  2018              2    NaN       99  TOTAL NACIONAL   \n",
       "885  2018              2    NaN       99  TOTAL NACIONAL   \n",
       "886  2018              2    NaN       99  TOTAL NACIONAL   \n",
       "887  2018              2    NaN       99  TOTAL NACIONAL   \n",
       "888  2018              2    NaN       99  TOTAL NACIONAL   \n",
       "889  2018              2    NaN       99  TOTAL NACIONAL   \n",
       "890  2018              2    NaN       99  TOTAL NACIONAL   \n",
       "891  2018              2    NaN       99  TOTAL NACIONAL   \n",
       "892  2018              2    NaN       99  TOTAL NACIONAL   \n",
       "893  2018              2    NaN       99  TOTAL NACIONAL   \n",
       "894  2018              2    NaN       99  TOTAL NACIONAL   \n",
       "895  2018              2    NaN       99  TOTAL NACIONAL   \n",
       "896  2018              2    NaN       99  TOTAL NACIONAL   \n",
       "897  2018              2    NaN       99  TOTAL NACIONAL   \n",
       "898  2018              2    NaN       99  TOTAL NACIONAL   \n",
       "899  2018              2    NaN       99  TOTAL NACIONAL   \n",
       "900  2018              2    NaN       99  TOTAL NACIONAL   \n",
       "901  2018              2    NaN       99  TOTAL NACIONAL   \n",
       "902  2018              2    NaN       99  TOTAL NACIONAL   \n",
       "\n",
       "                                       codpartido  codlista primer_apellido  \\\n",
       "0                                 PARTIDO LIBERAL         0             NaN   \n",
       "1                                 PARTIDO LIBERAL         1           GOMEZ   \n",
       "2                                 PARTIDO LIBERAL         2            AMIN   \n",
       "3                                 PARTIDO LIBERAL         3           PINTO   \n",
       "4                                 PARTIDO LIBERAL         4       VELASQUEZ   \n",
       "5                                 PARTIDO LIBERAL         5         AGUDELO   \n",
       "6                                 PARTIDO LIBERAL         6          CASADO   \n",
       "7                                 PARTIDO LIBERAL         7          GARCIA   \n",
       "8                                 PARTIDO LIBERAL         8         DELGADO   \n",
       "9                                 PARTIDO LIBERAL         9           DURAN   \n",
       "10                                PARTIDO LIBERAL        10         VELASCO   \n",
       "11                                PARTIDO LIBERAL        11        GONZALEZ   \n",
       "12                                PARTIDO LIBERAL        12        VILLALBA   \n",
       "13                                PARTIDO LIBERAL        13           DURAN   \n",
       "14                                PARTIDO LIBERAL        14         FORTICH   \n",
       "15                                PARTIDO LIBERAL        15           ISAZA   \n",
       "16                                PARTIDO LIBERAL        16          CRISTO   \n",
       "17                                PARTIDO LIBERAL        17          BEDOYA   \n",
       "18                                PARTIDO LIBERAL        18      MURGUEITIO   \n",
       "19                                PARTIDO LIBERAL        19           HOYOS   \n",
       "20                                PARTIDO LIBERAL        20          GARCIA   \n",
       "21                                PARTIDO LIBERAL        22           DUQUE   \n",
       "22                                PARTIDO LIBERAL        23        QUIÑONES   \n",
       "23                                PARTIDO LIBERAL        24          OROZCO   \n",
       "24                                PARTIDO LIBERAL        25        BAUTISTA   \n",
       "25                                PARTIDO LIBERAL        26          TORRES   \n",
       "26                                PARTIDO LIBERAL        27           PLATA   \n",
       "27                                PARTIDO LIBERAL        28         RAMIREZ   \n",
       "28                                PARTIDO LIBERAL        29         ABAUNZA   \n",
       "29                                PARTIDO LIBERAL        30        VALENCIA   \n",
       "..                                            ...       ...             ...   \n",
       "873  COALICIÓN LISTA DE LA DECENCIA (ASI,UP,MAIS)        66         ORDOÑEZ   \n",
       "874  COALICIÓN LISTA DE LA DECENCIA (ASI,UP,MAIS)        67           PRADA   \n",
       "875  COALICIÓN LISTA DE LA DECENCIA (ASI,UP,MAIS)        68           COBOS   \n",
       "876  COALICIÓN LISTA DE LA DECENCIA (ASI,UP,MAIS)        70           SALAM   \n",
       "877  COALICIÓN LISTA DE LA DECENCIA (ASI,UP,MAIS)        71           PEREZ   \n",
       "878  COALICIÓN LISTA DE LA DECENCIA (ASI,UP,MAIS)        72        PALACIOS   \n",
       "879  COALICIÓN LISTA DE LA DECENCIA (ASI,UP,MAIS)        75           ORTIZ   \n",
       "880  COALICIÓN LISTA DE LA DECENCIA (ASI,UP,MAIS)        77           MOTTA   \n",
       "881  COALICIÓN LISTA DE LA DECENCIA (ASI,UP,MAIS)        78         MONTAÑA   \n",
       "882  COALICIÓN LISTA DE LA DECENCIA (ASI,UP,MAIS)        79         SANCHEZ   \n",
       "883  COALICIÓN LISTA DE LA DECENCIA (ASI,UP,MAIS)        81           OTERO   \n",
       "884  COALICIÓN LISTA DE LA DECENCIA (ASI,UP,MAIS)        82          DONADO   \n",
       "885  COALICIÓN LISTA DE LA DECENCIA (ASI,UP,MAIS)        83             UNI   \n",
       "886  COALICIÓN LISTA DE LA DECENCIA (ASI,UP,MAIS)        84         BECERRA   \n",
       "887  COALICIÓN LISTA DE LA DECENCIA (ASI,UP,MAIS)        85        CHAVARRO   \n",
       "888  COALICIÓN LISTA DE LA DECENCIA (ASI,UP,MAIS)        86          OSPINA   \n",
       "889  COALICIÓN LISTA DE LA DECENCIA (ASI,UP,MAIS)        89         CAICEDO   \n",
       "890  COALICIÓN LISTA DE LA DECENCIA (ASI,UP,MAIS)        90        ESQUIVEL   \n",
       "891  COALICIÓN LISTA DE LA DECENCIA (ASI,UP,MAIS)        91          BERNAL   \n",
       "892  COALICIÓN LISTA DE LA DECENCIA (ASI,UP,MAIS)        94          LURDUY   \n",
       "893  COALICIÓN LISTA DE LA DECENCIA (ASI,UP,MAIS)        96          MADERA   \n",
       "894  COALICIÓN LISTA DE LA DECENCIA (ASI,UP,MAIS)        97         CARDONA   \n",
       "895  COALICIÓN LISTA DE LA DECENCIA (ASI,UP,MAIS)        98          CHAVES   \n",
       "896  COALICIÓN LISTA DE LA DECENCIA (ASI,UP,MAIS)        99         PADILLA   \n",
       "897  COALICIÓN LISTA DE LA DECENCIA (ASI,UP,MAIS)       100          TAMAYO   \n",
       "898                    G.S.C. UNIÓN CON FORTALEZA         0             NaN   \n",
       "899                  G.S.C. COLOMBIA JUSTA LIBRES         0             NaN   \n",
       "900                                           NaN       996             NaN   \n",
       "901                                           NaN       997             NaN   \n",
       "902                                           NaN       998             NaN   \n",
       "\n",
       "    segundo_apellido                        nombre  genero    votos  curules  \n",
       "0                NaN    PARTIDO LIBERAL COLOMBIANO     NaN   188569      NaN  \n",
       "1               AMIN                      MAURICIO     NaN   107544      1.0  \n",
       "2             SALEME                    FABIO RAUL     NaN    87827      1.0  \n",
       "3          HERNANDEZ                  MIGUEL ANGEL     NaN    84984      1.0  \n",
       "4              NIETO                    OLGA LUCIA     NaN    56208      NaN  \n",
       "5             ZAPATA                    IVAN DARIO     NaN    68034      1.0  \n",
       "6           DE LOPEZ               ARLETH PATRICIA     NaN    60152      NaN  \n",
       "7             TURBAY                  LIDIO ARTURO     NaN   121781      1.0  \n",
       "8               RUIZ                       EDINSON     NaN    33754      NaN  \n",
       "9               MORA               ELEAZAR ALFONSO     NaN    32832      NaN  \n",
       "10            CHAVES                 LUIS FERNANDO     NaN    75273      1.0  \n",
       "11            CORREA                  OLGA BEATRIZ     NaN    41282      NaN  \n",
       "12          MOSQUERA                       RODRIGO     NaN    63346      1.0  \n",
       "13           BARRERA                 JAIME ENRIQUE     NaN    69990      1.0  \n",
       "14           SANCHEZ                   LAURA ESTER     NaN    66766      1.0  \n",
       "15         RODRIGUEZ               CARLOS HUMBERTO     NaN    39288      NaN  \n",
       "16            BUSTOS                        ANDRES     NaN    69515      1.0  \n",
       "17          PULGARIN                        JULIAN     NaN    75261      1.0  \n",
       "18          CARDENAS                FERNANDO DAVID     NaN    41888      NaN  \n",
       "19           AGUDELO                 OMAR DE JESUS     NaN    35936      NaN  \n",
       "20            REALPE                     GUILLERMO     NaN    66011      1.0  \n",
       "21            GARCIA                 LUIS FERNANDO     NaN    30304      NaN  \n",
       "22            GARCIA             LUCIANO MARCELINO     NaN     1101      NaN  \n",
       "23        VALENCIANO                        YOBANY     NaN     2310      NaN  \n",
       "24              NIÑO                      GRACIELA     NaN     1064      NaN  \n",
       "25            OCAMPO                LUIS ESNORALDO     NaN      660      NaN  \n",
       "26              VERA                          MAYE     NaN     4177      NaN  \n",
       "27             HOYOS                     FLORENCIA     NaN     2408      NaN  \n",
       "28              NIÑO                        LORENT     NaN     2005      NaN  \n",
       "29            FRANCO                    LUZ PIEDAD     NaN    51045      NaN  \n",
       "..               ...                           ...     ...      ...      ...  \n",
       "873           CHADID                ADOLFO ANTONIO     NaN    12070      NaN  \n",
       "874           SUAREZ                    JOHN FABIO     NaN     1535      NaN  \n",
       "875      CASTELLANOS                  JHON CHARLES     NaN     1177      NaN  \n",
       "876           BAYONA                  NASSER ABDIS     NaN      622      NaN  \n",
       "877        CIFUENTES                VICTOR ALBERTO     NaN      527      NaN  \n",
       "878     DE HERNANDEZ                  SANDRA GILMA     NaN      286      NaN  \n",
       "879          CAICEDO                   JUAN FELIPE     NaN      471      NaN  \n",
       "880        MALDONADO                        RAFAEL     NaN     8719      NaN  \n",
       "881           GARCIA                 CESAR ROBERTO     NaN      916      NaN  \n",
       "882         CHAPARRO                    JHON HENRY     NaN      530      NaN  \n",
       "883         MARCHENA                OMAR GUILLERMO     NaN      182      NaN  \n",
       "884          BELTRAN                  ALBERTO LUIS     NaN      151      NaN  \n",
       "885          JIMENEZ                       YOLANDA     NaN      170      NaN  \n",
       "886         STERLING                   JOSE RAMIRO     NaN     2078      NaN  \n",
       "887             DIAZ                       ALBERTO     NaN      169      NaN  \n",
       "888            REYES                  GLORIA EDITH     NaN      165      NaN  \n",
       "889          CORDOBA                        ADOLFO     NaN      382      NaN  \n",
       "890          AREVALO                         PEDRO     NaN      728      NaN  \n",
       "891            PARRA                    LUZ MARINA     NaN     6090      NaN  \n",
       "892          ORTEGON                          JOSE     NaN      618      NaN  \n",
       "893            MACEA               DAYSURIS JUDITH     NaN      207      NaN  \n",
       "894           CORTES                   JOSE GERMAN     NaN      301      NaN  \n",
       "895             RUIZ                        ALICIA     NaN      471      NaN  \n",
       "896           TEJEDA                     CRISTOBAL     NaN     9920      NaN  \n",
       "897            PEREZ                       JONATAN     NaN    14773      1.0  \n",
       "898              NaN    G.S.C. UNIÓN CON FORTALEZA     NaN    34275      NaN  \n",
       "899              NaN  G.S.C. COLOMBIA JUSTA LIBRES     NaN   463521      NaN  \n",
       "900              NaN               VOTOS EN BLANCO     NaN  1183292      NaN  \n",
       "901              NaN                   VOTOS NULOS     NaN  1151181      NaN  \n",
       "902              NaN             VOTOS NO MARCADOS     NaN   870007      NaN  \n",
       "\n",
       "[903 rows x 13 columns]"
      ]
     },
     "execution_count": 53,
     "metadata": {},
     "output_type": "execute_result"
    }
   ],
   "source": [
    "senado"
   ]
  },
  {
   "cell_type": "markdown",
   "metadata": {},
   "source": [
    "### En las siguientes Sesiones...\n",
    "\n",
    "***Si alguna vez lo contratan a usted para determinar la reparticiones de curules en el Senado, ¿Cómo lo haría? En la siguiente sesión miraremos en detalle cómo hacerlo usando Python. \n",
    "\n",
    "Mientras tanto les dejamos dos `challenges` para logarlo"
   ]
  },
  {
   "cell_type": "markdown",
   "metadata": {},
   "source": [
    "### Problema 3: \n",
    "Según la Registraduría los votos validos de una elección se miden de esta forma\n",
    "```python\n",
    "VOTOS_VALIDOS = VOTOS_POR_LISTAS + VOTOS_EN_BLANCO\n",
    "```\n",
    "Donde `VOTOS_POR_LISTa`= Suma de votos por cada Partido/Movimiento y cada uno de sus candidatos (Es decir la observaciones 0-899)\n",
    "\n",
    "Y donde `VOTOS_EN_BLANCO` (observación 900). \n",
    "\n",
    "Calcule los `VOTOS_VALIDOS`, para ello va a necesitar idexar la base de datos y aplicar el método .sum()"
   ]
  },
  {
   "cell_type": "code",
   "execution_count": null,
   "metadata": {},
   "outputs": [],
   "source": []
  },
  {
   "cell_type": "code",
   "execution_count": null,
   "metadata": {},
   "outputs": [],
   "source": []
  },
  {
   "cell_type": "markdown",
   "metadata": {},
   "source": [
    "### Problema 3: \n",
    "Según la Registraduría el Cociente Electoral de una elección se miden de esta forma\n",
    "```python\n",
    "COCIENTE_ELECTORAL = VOTOS_POR_LISTAS / NÚMERO DE CURULES A ASIGNAR\n",
    "```\n",
    "Suponga que el número de curules a asignar es 100. \n",
    "\n",
    "¿Cuál es el valor del Cociente Electoral?"
   ]
  },
  {
   "cell_type": "code",
   "execution_count": null,
   "metadata": {},
   "outputs": [],
   "source": []
  }
 ],
 "metadata": {
  "kernelspec": {
   "display_name": "Python 3",
   "language": "python",
   "name": "python3"
  },
  "language_info": {
   "codemirror_mode": {
    "name": "ipython",
    "version": 3
   },
   "file_extension": ".py",
   "mimetype": "text/x-python",
   "name": "python",
   "nbconvert_exporter": "python",
   "pygments_lexer": "ipython3",
   "version": "3.7.4"
  }
 },
 "nbformat": 4,
 "nbformat_minor": 4
}
