{
 "cells": [
  {
   "cell_type": "markdown",
   "metadata": {},
   "source": [
    "## Sesión 7\n",
    "\n",
    "Para esta sesión se proponen unos ejercicios de práctica con el fin de repasar lo aprendido hasta el momento. La idea es que podamos practicar durante el tiempo de la sesión, y resolver sus dudas. Dado que la semana siguiente es Semana Santa, la idea es que trabajen en estos ejercicios hasta la proxima sesión en 2 semanas"
   ]
  },
  {
   "cell_type": "markdown",
   "metadata": {},
   "source": [
    "Si usted no fue a las sesiones 5 o 6, necesita instalar los siguientes paquetes. Para hacerlo quite los numerales \n",
    "al frente de cada !pip install y corra la linea de codigo. Si ya los tiene instalados, saltese esa línea de comando."
   ]
  },
  {
   "cell_type": "code",
   "execution_count": null,
   "metadata": {},
   "outputs": [],
   "source": [
    "#!pip install altair vega_datasets\n",
    "#!pip install spacy\n",
    "#!python -m spacy download es\n",
    "#!pip install wordcloud\n",
    "#!pip install stop_words"
   ]
  },
  {
   "cell_type": "code",
   "execution_count": 1,
   "metadata": {},
   "outputs": [],
   "source": [
    "import os\n",
    "import requests\n",
    "import urllib.parse\n",
    "from bs4 import BeautifulSoup\n",
    "import re\n",
    "import altair as alt\n",
    "import pandas as pd\n",
    "import numpy as np\n",
    "import matplotlib.pyplot as plt"
   ]
  },
  {
   "cell_type": "markdown",
   "metadata": {},
   "source": [
    "## 1. Función\n",
    "### Challenge 1: Fibonacci\n",
    "Construya una función que reciba el tamaño de la serie de Fibonacci que desea el usuario y que retorne la serie en una lista (Vea sobre la [serie de Fibonacci](https://es.wikipedia.org/wiki/Sucesi%C3%B3n_de_Fibonacci)). En caso de que el tamaño sea inferior a 2 debe retornar un mensaje diciendo que no posible computar la serie para ese tamaño. Pueden guiarse en lo visto en la sesión 2 sobre bucles y condicionales, en la sesión 3 sobre funciones, y por los comentarios de la siguiente caja. "
   ]
  },
  {
   "cell_type": "code",
   "execution_count": null,
   "metadata": {},
   "outputs": [],
   "source": [
    "#def fibonacci(n):\n",
    "    #if n menor que 2 \n",
    "        #imprimir el mensaje de error\n",
    "    #else\n",
    "        # inicializar la serie en una lista con los dos primeros valores\n",
    "        #for i en el rango de dos a n\n",
    "            #calcule la suma de los dos primeros valores de la serie para obtener el tercero\n",
    "            #actualice la lista agregando el valor calculado\n",
    "    #retorne la lista\n",
    "        "
   ]
  },
  {
   "cell_type": "markdown",
   "metadata": {},
   "source": [
    "Pruebe su función con los siguientes ejemplos:"
   ]
  },
  {
   "cell_type": "code",
   "execution_count": null,
   "metadata": {},
   "outputs": [],
   "source": [
    "print(fibonacci(1))\n",
    "print(fibonacci(2))\n",
    "print(fibonacci(3))\n",
    "print(fibonacci(10))\n"
   ]
  },
  {
   "cell_type": "markdown",
   "metadata": {},
   "source": [
    "## 2. Covid-19\n",
    "La idea de esta primera parte de la clase es trabajar con las bases de datos hechas por la Universidad de John Hopkins sobre el COVID 19. Pueden encontrar más información sobre este repositorio de datos [aquí](https://github.com/CSSEGISandData/COVID-19)."
   ]
  },
  {
   "cell_type": "markdown",
   "metadata": {},
   "source": [
    "### a) WebScapping: \n",
    "Lo primero que necesitamos es descargar las bases de datos. Estas se encuentran en el siguiente link:\n",
    "\n",
    "https://github.com/CSSEGISandData/COVID-19/tree/master/csse_covid_19_data/csse_covid_19_daily_reports\n",
    "\n",
    "A continuación les compartiremos el código para descargar los archivos pertinentes (esta es una adaptación del vista en la sesión 5). De esta manera, usted no tiene que escribir ninguna línea de código sólo responder las preguntas conceptuales sobre webscrapping. Vaya corriendo las líneas de código una por una, al final se descargarán en su computadora todos los archivos. "
   ]
  },
  {
   "cell_type": "code",
   "execution_count": 2,
   "metadata": {},
   "outputs": [],
   "source": [
    "folder_location = './COVID19'\n",
    "if not os.path.exists(folder_location):\n",
    "    os.mkdir(folder_location)"
   ]
  },
  {
   "cell_type": "markdown",
   "metadata": {},
   "source": [
    "#### Challenge 2:\n",
    "Explique en sus propias palabras que hace la línea de código anterior. Estas preguntas le pueden ayudar a responder\n",
    "\n",
    "¿Qué se logra al escribir `\"./\"`?\n",
    "\n",
    "¿Para qué sirve el condicional `if not`?\n",
    "\n",
    "¿para qué sirve la función `os.mkdir`?"
   ]
  },
  {
   "cell_type": "markdown",
   "metadata": {},
   "source": [
    "#### [haga click aquí para escribir su respuesta.]\n"
   ]
  },
  {
   "cell_type": "code",
   "execution_count": 3,
   "metadata": {},
   "outputs": [],
   "source": [
    "url= \"https://github.com/CSSEGISandData/COVID-19/tree/master/csse_covid_19_data/csse_covid_19_daily_reports\""
   ]
  },
  {
   "cell_type": "code",
   "execution_count": 4,
   "metadata": {},
   "outputs": [],
   "source": [
    "response = requests.get(url)\n",
    "soup= BeautifulSoup(response.text, \"html.parser\")"
   ]
  },
  {
   "cell_type": "code",
   "execution_count": 5,
   "metadata": {},
   "outputs": [],
   "source": [
    "reportes= soup.find_all(class_=\"content\")"
   ]
  },
  {
   "cell_type": "markdown",
   "metadata": {},
   "source": [
    "#### Challenge 3:\n",
    "Explique en sus propias palabras que hace la línea de código anterior. ¿Por qué utilizamos el la clase `\"content\"`y no otra (por ejemplo la que usamos en la sesión 5)? ¿Qué nos permite extraer este comando? Pista: Revise el código fuente de origen de los datos."
   ]
  },
  {
   "cell_type": "markdown",
   "metadata": {},
   "source": [
    "#### [haga click aquí para escribir su respuesta.]"
   ]
  },
  {
   "cell_type": "code",
   "execution_count": 6,
   "metadata": {},
   "outputs": [],
   "source": [
    "links=[]\n",
    "for reporte in reportes[2:-1]:\n",
    "    hipervinculo=reporte.find(\"a\")\n",
    "    link=hipervinculo.get(\"href\")\n",
    "    link=link.replace(\"/blob\",\"\")\n",
    "    link_completo=urllib.parse.urljoin(\"https://raw.githubusercontent.com\",link)\n",
    "    links.append(link_completo)\n",
    "    filename=os.path.join(folder_location,link.split('/')[-1])\n",
    "    with open(filename, 'wb') as f:\n",
    "        f.write(requests.get(link_completo).content)"
   ]
  },
  {
   "cell_type": "markdown",
   "metadata": {},
   "source": [
    "#### Challenge 5:\n",
    "Explique en sus propias palabras que hace la línea `link=hipervinculo.get(\"href\")`. Pista: revise el notebook de la sesión 5."
   ]
  },
  {
   "cell_type": "markdown",
   "metadata": {},
   "source": [
    "#### [haga click aquí para escribir su respuesta.]"
   ]
  },
  {
   "cell_type": "markdown",
   "metadata": {},
   "source": [
    "### b) Pandas y manejo de bases de datos:\n",
    "\n",
    "El propósito de esta sesión es manipular las bases de datos que acabamos de descargar. Primero importemos la base de datos del `último día` (Esto puede variar dependiendo del día en los que haga estos ejercicios). Para hacerlo puede guiarse por el siguiente ejemplo:\n",
    "\n",
    "Si usted hace este ejercicio el __30 de marzo__ , usted quisiera mirar los datos del día anterior (el último día de datos disponibles) por lo que escribe el siguiente comando:\n",
    "\n",
    "```python\n",
    "Marzo29 = pd.read_csv(\"./COVID19/03-29-2020.csv\")\n",
    "```"
   ]
  },
  {
   "cell_type": "code",
   "execution_count": null,
   "metadata": {},
   "outputs": [],
   "source": [
    "# Importe aquí la base de datos del último día"
   ]
  },
  {
   "cell_type": "code",
   "execution_count": null,
   "metadata": {},
   "outputs": [],
   "source": []
  },
  {
   "cell_type": "markdown",
   "metadata": {},
   "source": [
    "#### Challenge 6:\n",
    "¿Cuántos paises han reportado casos de Covid-19, según esta base de datos? Pista: encuentre el número de valores únicos de la columna `Country_Region`,  ya que hay paises con observaciones por unidades subnacionales. Para esto, pandas cuenta con una función llamada nunique()"
   ]
  },
  {
   "cell_type": "code",
   "execution_count": null,
   "metadata": {},
   "outputs": [],
   "source": []
  },
  {
   "cell_type": "markdown",
   "metadata": {},
   "source": [
    "#### Challenge 7:\n",
    "Cree un dataframe con el nombre `datos_paises` que nos permita guardar los datos, agrupados por país, de casos confirmados, muertes, y personas recuperadas. Organícelo por número de casos confirmado, donde la primera observación debe ser el país que más casos confirmados tenga hasta la fecha. Pista: recuerden las funciones `.groupby` ,  `.sum` , `.sort_values` y `reset_index` usadas en la sección **¿ Qué porcentaje de partidos lograron pasar el umbral? de la sesión 4**"
   ]
  },
  {
   "cell_type": "code",
   "execution_count": null,
   "metadata": {},
   "outputs": [],
   "source": []
  },
  {
   "cell_type": "markdown",
   "metadata": {},
   "source": [
    "#### Challenge 8:\n",
    "Dentro de `datos_paises`construya una columna llamada `porcentaje_recuperados` tal que sea la división entre personas recuperadas, multiplicada por 100, sobre casos confirmados."
   ]
  },
  {
   "cell_type": "code",
   "execution_count": null,
   "metadata": {},
   "outputs": [],
   "source": [
    "sudamerica=[\"Bolivia\", \"Colombia\", \"Ecuador\", \"Peru\", \"Argentina\", \"Chile\", \"Brazil\", \"Paraguay\", \"Uruguay\", \"Venezuela\", \"Guyana\", \"Surinam\"]"
   ]
  },
  {
   "cell_type": "code",
   "execution_count": null,
   "metadata": {},
   "outputs": [],
   "source": [
    "#Cree la variable 'porcentaje_recuperados'"
   ]
  },
  {
   "cell_type": "markdown",
   "metadata": {},
   "source": [
    "#### Challenge 9:\n",
    "Haga una una gráfica de barras que compare a los paises de Sudamérica en términos de esta variable. Esta gráfica la hicimos en la sesión 4. En los comentarios de cada caja encontrará pistas de lo que debe hacer."
   ]
  },
  {
   "cell_type": "code",
   "execution_count": 8,
   "metadata": {},
   "outputs": [],
   "source": [
    "#Cree una base filtrada de manera que solo incluya los países latinoaméricanos. \n",
    "#En esta caja sólo debe ejecutar el código\n",
    "datos_paises2=datos_paises[datos_paises.Country_Region.isin(sudamerica)]"
   ]
  },
  {
   "cell_type": "markdown",
   "metadata": {},
   "source": [
    "##### Pregunta conceptual: ¿Qué hace la función isin()? Explique en sus propias palabras"
   ]
  },
  {
   "cell_type": "markdown",
   "metadata": {},
   "source": [
    "#### [haga click aquí para escribir su respuesta.]"
   ]
  },
  {
   "cell_type": "code",
   "execution_count": null,
   "metadata": {},
   "outputs": [],
   "source": [
    "#Ordene la base de datos de tal manera que los países con mayor porcentaje de recuperados estén primeros.\n",
    "#En la siguiente línea de código hay un error. Corríjalo para continuar\n",
    "datos_paises2=datos_paises2.sort_values(\"Recovered\",ascending=False)"
   ]
  },
  {
   "cell_type": "code",
   "execution_count": null,
   "metadata": {},
   "outputs": [],
   "source": [
    "#Realice la gráfica de barras. Para esto guíese por la realizada en la sesión 4."
   ]
  },
  {
   "cell_type": "markdown",
   "metadata": {},
   "source": [
    "#### Challenge 9\n",
    "El siguiente código le permite obtener una base de datos con los datos históricos de casos reportados, muertes y personas recuperadas de Corona Virus en Colombia. Grafique una sola serie de tiempo usando el paquete `altair` para cada una de las variables. Pista: Ver  Challenge de la sesión 5 y buscar la función de pandas `.melt`."
   ]
  },
  {
   "cell_type": "code",
   "execution_count": null,
   "metadata": {},
   "outputs": [],
   "source": [
    "column_names = [\"Last_Update\",\"Confirmed\", \"Deaths\", \"Recovered\"]\n",
    "colombia_ts = pd.DataFrame(columns = column_names)\n",
    "for filename in os.listdir('./COVID19'):\n",
    "        path=os.path.join('./COVID19', filename)\n",
    "        dato=pd.read_csv(path)\n",
    "        if 'Country/Region' in dato.columns:\n",
    "            dato=dato.rename(columns={'Country/Region': 'Country_Region', 'Last Update': 'Last_Update'})\n",
    "            if \"Colombia\" in dato.values:\n",
    "                dato=dato.loc[dato[\"Country_Region\"]== \"Colombia\"][[\"Confirmed\", \"Deaths\", \"Recovered\"]]\n",
    "                dato[\"Last_Update\"]=filename.replace('.csv', '')\n",
    "                colombia_ts=colombia_ts.append(dato)\n",
    "            else:\n",
    "                continue\n",
    "        else:\n",
    "            if \"Colombia\" in dato.values:\n",
    "                dato=dato.loc[dato[\"Country_Region\"]== \"Colombia\"][[\"Confirmed\", \"Deaths\", \"Recovered\"]]\n",
    "                dato[\"Last_Update\"]=filename.replace('.csv', '')\n",
    "                colombia_ts=colombia_ts.append(dato)\n",
    "            else:\n",
    "                continue\n",
    "colombia_ts=colombia_ts.dropna().sort_values(\"Last_Update\").reset_index(drop=True).set_index(\"Last_Update\")\n",
    "colombia_ts"
   ]
  },
  {
   "cell_type": "code",
   "execution_count": null,
   "metadata": {},
   "outputs": [],
   "source": []
  },
  {
   "cell_type": "markdown",
   "metadata": {},
   "source": [
    "#### Challenge 10: Text Mining\n",
    "El string `discurso`incluye un discurso político hecho por un lider mundial en dias recientes. Haga una una nube de palabras, quitando las stopwords. ¿Puede identificar el país al que se esta refriendo este político? ¿Cuales son los verbos que más utiliza esta persona? Para esto, puede tomar el código de la sesión 6 en la sección \"Utilizaremos WordCloud para identificar las palabras más frecuentes en una sentencia y hacer una nube de palabras\"."
   ]
  },
  {
   "cell_type": "code",
   "execution_count": 9,
   "metadata": {},
   "outputs": [],
   "source": [
    "import spacy\n",
    "from wordcloud import WordCloud\n",
    "from stop_words import get_stop_words\n",
    "import matplotlib.pyplot as plt\n",
    "import string\n",
    "from collections import Counter"
   ]
  },
  {
   "cell_type": "code",
   "execution_count": null,
   "metadata": {},
   "outputs": [],
   "source": [
    "discurso= \"Queridas conciudadanas y queridos conciudadanos:El coronavirus está modificando actualmente en forma dramática la vida en nuestro país. Nuestra idea de la normalidad, de la vida pública, de la convivencia social, está siendo puesta a prueba como nunca antes. Millones de ustedes no pueden ir al trabajo, sus hijos no pueden ir a la escuela o al jardín infantil; los teatros, cines y negocios están cerrados y, lo que quizás sea lo más difícil: a todos nos faltan los encuentros, que en otros tiempos son obvios. Naturalmente, en semejante situación, todos estamos llenos de interrogantes y preocupaciones acerca de lo que vendrá. \\\\\\\n",
    "Me dirijo hoy a ustedes por esta vía inusual, porque quiero decirles lo que me guía como canciller, y a todos mis colegas del gobierno, en esta situación. Corresponde a una democracia abierta que transparentemos y expliquemos las decisiones políticas. Que fundamentemos lo mejor posible nuestro proceder y lo comuniquemos, para que resulte comprensible. \\\\\\\n",
    "Creo firmemente que saldremos airosos de esta prueba, si realmente todos los ciudadanos y ciudadanas la comprenden como su propia tarea. \\\\\\\n",
    "Por eso, permítanme decirles: la situación es seria. Tómenla también en serio. Desde la reunificación de Alemania, no, desde la Segunda Guerra Mundial, no se había planteado a nuestro país ningún otro desafío en el que todo dependiera tanto de nuestra actuación solidaria mancomunada.\\\\\\\n",
    "Quisiera explicarles dónde estamos actualmente en cuanto a la epidemia y qué está haciendo el gobierno federal y la esfera estatal para proteger a todos los miembros de nuestra comunidad y limitar los perjuicios económicos, sociales y culturales. Pero también quiero comunicarles por qué se requiere de ustedes, y lo que todos y cada uno pueden aportar. \\\\\\\n",
    "En cuanto a la epidemia -y todo lo que les digo al respecto proviene de las consultas permanentes del gobierno federal con expertos del Instituto Robert Koch y otros científicos y virólogos: se está investigando a toda máquina a nivel mundial, pero todavía no existe una terapia contra el coronavirus ni una vacuna. \\\\\\\n",
    "Mientras eso no cambie, solo hay un objetivo, que es la línea central de todo lo que hacemos: desacelerar la propagación del virus, extenderla por meses para así ganar tiempo. Tiempo para que los investigadores puedan desarrollar un medicamento y una vacuna. Pero, sobre todo, tiempo para que quienes enfermen puedan recibir la mejor atención posible. \\\\\\\n",
    "Alemania tiene un excelente sistema de salud, tal vez uno de los mejores del mundo. Pero también nuestros hospitales se verían superados si en poco tiempo ingresaran demasiados pacientes con una evolución grave del coronavirus. \\\\\\\n",
    "No son cifras abstractas en una estadística, sino un padre o un abuelo, una pareja. Son personas. Y nosotros somos una comunidad en la que cada vida y cada persona cuentan. \\\\\\\n",
    "En esta situación, quisiera dirigirme en primer lugar a aquellos que, como médicos, cuidadores, o en otra función, trabajan en nuestros hospitales y, en general, en nuestro sistema de salud. En esta lucha, ellos están en la primera línea. Son los primeros que ven a los enfermos y ven cuán grave es en algunos casos la evolución de la infección. Y cada día acuden nuevamente a su trabajo y están al servicio de la gente. Hacen una labor gigantesca y les agradezco de todo corazón. \\\\\\\n",
    "En suma, se trata de volver más lento el recorrido del virus por Alemania. Para ello -y es algo existencial- tenemos que apuntar a una cosa: reducir la actividad pública lo más posible. Naturalmente con sensatez y de manera proporcionada, porque el Estado seguirá funcionando, el abastecimiento seguirá estando por supuesto garantizado, y queremos mantener tanta actividad económica como sea posible. \\\\\\\n",
    "Pero debemos reducir ahora todo aquello que pudiera poner el peligro a la gente, lo que pudiera causar daño a los individuos o a la comunidad. \\\\\\\n",
    "Debemos limitar por todos los medios posibles el riesgo de que uno contagie a otro. \\\\\\\n",
    "Yo sé cuán dramáticas son ya las restricciones: no más eventos, ni ferias, ni conciertos, y por lo pronto tampoco más escuela, ni universidad, ni jardín infantil, ni juegos en los parques. Yo sé cuán duramente golpean nuestra vida y nuestra idea de la democracia los cierres acordados entre el gobierno federal y los regionales. Son restricciones que jamás hubo en la República Federal de Alemania. \\\\\\\n",
    "Permítanme asegurarles: para alguien como yo, para quien viajar y desplazarse fueron derechos por los que hubo que luchar mucho, tales restricciones solo pueden justificarse por una absoluta necesidad. En una democracia, jamás deberían dictarse a la ligera y solo pueden ser aplicadas temporalmente. Pero en este momento son imprescindibles para salvar vidas. \\\\\\\n",
    "Por esa razón, desde comienzos de la semana hay reforzados controles y limitaciones de ingreso en las fronteras con algunos de nuestros principales países vecinos. \\\\\\\n",
    "Para la economía, las grandes empresas al igual que las pequeñas, para los negocios, restaurantes, los trabajadores independientes, la situación ya es muy dura. Las semanas próximas serán más difíciles en Alemania. Les aseguro: el gobierno hace todo lo posible para mitigar las repercusiones económicas. Y sobre todo para resguardar puestos de trabajo. \\\\\\\n",
    "Podemos utilizar y utilizaremos todos los medios necesarios para ayudar a nuestras empresas y trabajadores a pasar esta dura prueba. \\\\\\\n",
    "Todos pueden confiar en que el abastecimiento de víveres está garantizado en todo momento en Alemania; y si los escaparates se vacían un día, se vuelven a llenar. A todos los que van al supermercado quiero decirles: tener reservas es sensato, y siempre lo ha sido. Pero con mesura. Acaparar, como si nunca fuera a haber algo nuevamente, no tiene sentido y por último no es solidario. \\\\\\\n",
    "Permítanme expresar aquí también agradecimiento a personas a las que se agradece con demasiada poca frecuencia. Quien por estos días está en la caja de un supermercado o rellena los estantes, hace uno de los trabajos más duros que hay por el momento. Gracias por estar ahí para sus conciudadanos y por mantener funcionando la tienda, literalmente. \\\\\\\n",
    "Y ahora paso a lo que, para mí, es hoy lo más urgente. Todas las medidas estatales no darán resultado si no utilizamos la herramienta más eficaz contra la propagación demasiado rápida del virus: se trata de nosotros mismos. Tal como cualquiera puede ser afectado por el virus, todos y cada uno de nosotros debe ayudar. En primerísimo lugar, tomando en serio lo que ocurre. No hay que caer en el pánico, pero tampoco hay que pensar ni por un instante que no depende de usted. Nadie es prescindible. Todos cuentan, se requiere el esfuerzo de todos nosotros. \\\\\\\n",
    "Eso es lo que nos muestra una epidemia: cuán vulnerables somos todos, cuánto dependemos del comportamiento considerado de otros, pero también cómo podemos protegernos y apoyarnos unos a otros, actuando mancomunadamente. \\\\\\\n",
    "Ahora depende de cada uno. No estamos condenados a mirar pasivamente el avance del virus. Tenemos un recurso para hacerle frente: por consideración, debemos mantener distancia entre nosotros. El consejo de los virólogos es claro: no más apretones de manos, lavarse las manos frecuente y minuciosamente, mantener una distancia de al menos un metro y medio de otros, y en lo posible no tener contacto con los más viejos, porque corren especial peligro. \\\\\\\n",
    "Yo sé cuán difícil es lo que se nos pide. Especialmente en períodos de emergencia quisiéramos estar cerca unos de otros. Conocemos la cercanía física, tocarnos, como expresión de cariño. Pero, por desgracia, en este momento es lo contrario. Y verdaderamente todos debemos entenderlo. En este momento, solo mantener distancia es expresión de que nos importa esa persona. \\\\\\\n",
    "La visita bien intencionada, el viaje que no era necesario, todo eso puede significar contagio y realmente ya no debería tener lugar. Hay un motivo por el que los expertos dicen: abuelos y nietos no deberían juntarse ahora. \\\\\\\n",
    "Quien evita encuentros innecesarios, ayuda a todos quienes deben ocuparse a diario de cada vez más casos en los hospitales. Así salvamos vidas. Será difícil para muchos y también esto será crucial: no dejar solo a nadie, preocuparse de aquellos que necesitan apoyo y confianza. Como familias y como sociedad, encontraremos otras formas de acompañarnos. \\\\\\\n",
    "Ya ahora hay muchas formas creativas para burlar al virus y sus consecuencias sociales. Ya hay nietos que abonan a sus abuelos a un podcast para que no estén solos. \\\\\\\n",
    "Todos tenemos que encontrar maneras de mostrar cariño y amistad: hablar por Skype, telefonear, enviar correos electrónicos o quizás volver a escribir alguna carta. El correo se distribuye. Se escuchan ejemplos maravillosos de ayuda de vecinos a mayores que o pueden ir de compras. Estoy segura de que se puede hacer aún mucho más y como comunidad demostraremos que no nos dejamos solos unos a otros. \\\\\\\n",
    "Apelo a ustedes: aténganse a las reglas que regirán el próximo tiempo. Como gobierno, revisaremos continuamente qué se puede volver a corregir, pero también, que más podría ser aún necesario. \\\\\\\n",
    "Esta es una situación dinámica y seguiremos siendo capaces de aprender, para reconsiderar en cualquier momento las cosas y poder reaccionar con otros instrumentos. También lo explicaremos en su momento. \\\\\\\n",
    "Por eso les pido: no crean en rumores, sino solo en los comunicados oficiales, que siempre traducimos también a varios idiomas. \\\\\\\n",
    "Somos una democracia. No vivimos de imposiciones, sino de conocimientos compartidos y participación. Esta es una tarea histórica y solo podemos superarla unidos. \\\\\\\n",
    "Estoy absolutamente segura de que superaremos esta crisis. ¿Pero cuán alto será el número de víctimas? ¿Cuántas personas queridas perderemos en Alemania? En gran medida está en nuestras propias manos. Ahora podemos reaccionar, todos junto, en forma decidida. Podemos aceptar las restricciones actuales y apoyarnos mutuamente en Alemania. \\\\\\\n",
    "Esta situación es seria y el desenlace está abierto para Alemania. \\\\\\\n",
    "Es decir: dependerá -no solo, pero también-, de cuán disciplinadamente cumpla y aplique cada uno las reglas. \\\\\\\n",
    "Aun cuando nunca hayamos vivido algo así, debemos demostrar que actuamos con el corazón y la razón, y así salvamos vidas. Depende, sin excepción, de cada uno y, en consecuencia, de todos nosotros. \\\\\\\n",
    "Cuídense mucho, y también a sus seres queridos. Muchas gracias.\""
   ]
  },
  {
   "cell_type": "code",
   "execution_count": null,
   "metadata": {},
   "outputs": [],
   "source": []
  },
  {
   "cell_type": "code",
   "execution_count": null,
   "metadata": {},
   "outputs": [],
   "source": []
  },
  {
   "cell_type": "code",
   "execution_count": null,
   "metadata": {},
   "outputs": [],
   "source": []
  },
  {
   "cell_type": "code",
   "execution_count": null,
   "metadata": {},
   "outputs": [],
   "source": []
  }
 ],
 "metadata": {
  "kernelspec": {
   "display_name": "Python 3",
   "language": "python",
   "name": "python3"
  },
  "language_info": {
   "codemirror_mode": {
    "name": "ipython",
    "version": 3
   },
   "file_extension": ".py",
   "mimetype": "text/x-python",
   "name": "python",
   "nbconvert_exporter": "python",
   "pygments_lexer": "ipython3",
   "version": "3.7.4"
  }
 },
 "nbformat": 4,
 "nbformat_minor": 4
}
