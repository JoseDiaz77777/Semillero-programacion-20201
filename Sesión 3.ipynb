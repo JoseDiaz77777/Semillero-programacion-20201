{
 "cells": [
  {
   "cell_type": "markdown",
   "metadata": {},
   "source": [
    "# **Semillero de programación**\n",
    "## Juan Carlos Rodríguez, Felipe Botero, Laura Merchán y Wilson Forero."
   ]
  },
  {
   "cell_type": "markdown",
   "metadata": {},
   "source": [
    "# Estructuras de control de flujo:\n",
    "### CONDICIONALES (IF):\n",
    "\n",
    "Los condicionales son funciones lógicas que permiten realizar tareas diferentes cuando una condición lógica es verdadera (True) o falsa (False).\n",
    "\n",
    "<img src=\"https://upload.wikimedia.org/wikipedia/commons/c/c5/If-Then-Else-diagram.svg\" width=\"500\" > \n",
    "\n",
    " \n",
    "***Por ejemplo:***\n",
    "\n"
   ]
  },
  {
   "cell_type": "code",
   "execution_count": null,
   "metadata": {},
   "outputs": [],
   "source": [
    "a = 14\n",
    "b = 100\n",
    "print(b > a)\n",
    "\n",
    "\n"
   ]
  },
  {
   "cell_type": "code",
   "execution_count": null,
   "metadata": {},
   "outputs": [],
   "source": [
    "if b > a:\n",
    "    print(\"b es mayor que a\")"
   ]
  },
  {
   "cell_type": "code",
   "execution_count": null,
   "metadata": {},
   "outputs": [],
   "source": [
    "a = 14\n",
    "b = 10\n",
    "#print(b > a)\n",
    "if b > a:\n",
    "    print(\"b es mayor que a\")\n"
   ]
  },
  {
   "cell_type": "markdown",
   "metadata": {},
   "source": [
    "#### Algunas expresiones útiles:\n",
    "- Igual: a == b\n",
    "- Diferente: a != b\n",
    "- Menor que: a < b\n",
    "- Menor o igual que: a <= b\n",
    "- Mayor: a > b\n",
    "- Mayor o igual que: a >= b\n",
    "- En: in \n",
    "- No: not\n",
    "- Y: AND\n",
    "- O: OR"
   ]
  },
  {
   "cell_type": "markdown",
   "metadata": {},
   "source": [
    "**Se puede establecer un flujo que realice una tarea diferente si la condición es verdadera o falsa :**"
   ]
  },
  {
   "cell_type": "code",
   "execution_count": null,
   "metadata": {},
   "outputs": [],
   "source": [
    "a = 14\n",
    "b = 10\n",
    "if b > a:\n",
    "    print(\"b es mayor que a\")\n",
    "else:\n",
    "    print(\"b no es mayor que a\")"
   ]
  },
  {
   "cell_type": "markdown",
   "metadata": {},
   "source": [
    "**Se puede establecer un flujo que anide condiciones lógicas:**"
   ]
  },
  {
   "cell_type": "code",
   "execution_count": null,
   "metadata": {},
   "outputs": [],
   "source": [
    "a = 10\n",
    "b = 10\n",
    "if b > a:\n",
    "    print(\"b es mayor que a\")\n",
    "elif b==a:\n",
    "    print(\"b es igual que a\")\n",
    "else:\n",
    "    print(\"b es menor que a\")"
   ]
  },
  {
   "cell_type": "markdown",
   "metadata": {},
   "source": [
    "**otras condiciones posibles:**"
   ]
  },
  {
   "cell_type": "code",
   "execution_count": null,
   "metadata": {},
   "outputs": [],
   "source": [
    "frutas = [\"manzana\", \"mora\", \"mango\"]\n",
    "\n",
    "if \"banano\" in frutas:\n",
    "    print (\"Está en la lista\")\n",
    "else:\n",
    "    print(\"no está en la lista\")"
   ]
  },
  {
   "cell_type": "code",
   "execution_count": null,
   "metadata": {},
   "outputs": [],
   "source": [
    "if \"banano\" not in frutas:\n",
    "    frutas.append(\"banano\")\n",
    "print(frutas)"
   ]
  },
  {
   "cell_type": "markdown",
   "metadata": {},
   "source": [
    "1. ¿Cómo construiría un if que pruebe si una llave hace parte del diccionario y en caso de que no esté la agregue con las cuatro notas en cero?"
   ]
  },
  {
   "cell_type": "code",
   "execution_count": null,
   "metadata": {},
   "outputs": [],
   "source": [
    "notas = {\n",
    "    'Mariana': [4.5, 3.7, 3.4, 5],\n",
    "    'Alicia': [3.5, 3.1, 4.2, 3.9],\n",
    "    'Margarita': [2.6, 3.0, 3.9, 4.1]\n",
    "}"
   ]
  },
  {
   "cell_type": "code",
   "execution_count": null,
   "metadata": {},
   "outputs": [],
   "source": [
    "key=\"Jorge\""
   ]
  },
  {
   "cell_type": "code",
   "execution_count": null,
   "metadata": {},
   "outputs": [],
   "source": []
  },
  {
   "cell_type": "markdown",
   "metadata": {},
   "source": [
    "**Es posible usar varias condiciones en un solo if:**"
   ]
  },
  {
   "cell_type": "code",
   "execution_count": null,
   "metadata": {},
   "outputs": [],
   "source": [
    "notas_finales = {\n",
    "    'Mariana': 4.5,\n",
    "    'Alicia': 3,\n",
    "    'Margarita': None\n",
    "    \"Jorge\":2\n",
    "}"
   ]
  },
  {
   "cell_type": "code",
   "execution_count": null,
   "metadata": {},
   "outputs": [],
   "source": [
    "estudiante= \"Mariana\""
   ]
  },
  {
   "cell_type": "code",
   "execution_count": null,
   "metadata": {},
   "outputs": [],
   "source": [
    "if estudiante in notas_finales.keys() and notas_finales[estudiante]!= None:\n",
    "    print(notas_finales[estudiante])\n"
   ]
  },
  {
   "cell_type": "markdown",
   "metadata": {},
   "source": [
    "2. ¿Cómo construiría un if que basado en la nota final del estudiante imprima si aprobó o reprobó la materia? La materia se aprueba con una nota final mayor a 3"
   ]
  },
  {
   "cell_type": "code",
   "execution_count": null,
   "metadata": {},
   "outputs": [],
   "source": []
  },
  {
   "cell_type": "markdown",
   "metadata": {},
   "source": [
    "3. Si la clase se aprobara con una nota final mayor a 3 O con una asistencia al total de las clases ¿Cómo construiría un if que basado en la nota final del estudiante imprima si aprobó o reprobó la materia?"
   ]
  },
  {
   "cell_type": "code",
   "execution_count": null,
   "metadata": {},
   "outputs": [],
   "source": [
    "inasistencias = {\n",
    "    'Mariana': 2,\n",
    "    'Alicia': 1,\n",
    "    'Margarita': 0\n",
    "    \"Jorge\":0\n",
    "}"
   ]
  },
  {
   "cell_type": "code",
   "execution_count": null,
   "metadata": {},
   "outputs": [],
   "source": []
  },
  {
   "cell_type": "markdown",
   "metadata": {},
   "source": [
    "\n",
    "\n",
    "## Bucles o loops\n",
    "\n",
    "Cuando necesitamos repetir la misma tarea muchas veces programar se vuelve una herramienta muy útil. Los bucles son funciones que permiten repetir un proceso un número determinado de veces o para todos los elementos de una estructura de datos. Los hay de dos tipos: **for** y **while**. \n",
    "\n",
    "### FOR LOOPS\n",
    "Permite repetir la misma tarea iterando sobre los elementos de una estructura de datos.\n",
    "\n",
    "**Por ejemplo, imprimir cada uno de los elementos de una lista:** "
   ]
  },
  {
   "cell_type": "code",
   "execution_count": null,
   "metadata": {},
   "outputs": [],
   "source": [
    "codigos=[201529811,201729005,201811015,201812793,201630605,201716026,201613332]"
   ]
  },
  {
   "cell_type": "code",
   "execution_count": null,
   "metadata": {},
   "outputs": [],
   "source": [
    "for estudiante in codigos:\n",
    "    print(estudiante)"
   ]
  },
  {
   "cell_type": "markdown",
   "metadata": {},
   "source": [
    "**o dividir en 2 los números de 0 a 100:**"
   ]
  },
  {
   "cell_type": "code",
   "execution_count": null,
   "metadata": {
    "scrolled": true
   },
   "outputs": [],
   "source": [
    "for n in range(0,101):\n",
    "    print(n, \" dividido en 2 es: \", n/2)"
   ]
  },
  {
   "cell_type": "markdown",
   "metadata": {},
   "source": [
    "**También podemos almacenar los resultados de un for en un objeto nuevo:**"
   ]
  },
  {
   "cell_type": "code",
   "execution_count": null,
   "metadata": {},
   "outputs": [],
   "source": [
    "numeros_divididos=[]\n",
    "for n in range(0,101):\n",
    "    numeros_divididos.append(n/2)"
   ]
  },
  {
   "cell_type": "code",
   "execution_count": null,
   "metadata": {},
   "outputs": [],
   "source": [
    "print(numeros_divididos)"
   ]
  },
  {
   "cell_type": "markdown",
   "metadata": {},
   "source": [
    "4. ¿Cómo se podría almacenar esta información en un diccionario en el que la llave sea el número original y el valor el resultado de la operación?"
   ]
  },
  {
   "cell_type": "code",
   "execution_count": null,
   "metadata": {},
   "outputs": [],
   "source": []
  },
  {
   "cell_type": "markdown",
   "metadata": {},
   "source": [
    "**O utilizar un for para cambiar información previa, por ejemplo:**"
   ]
  },
  {
   "cell_type": "code",
   "execution_count": null,
   "metadata": {},
   "outputs": [],
   "source": [
    "names=[\"María\", \"Margarita\",\"Mariana\",\"José\"]\n",
    "\n",
    "\n",
    "for i in range(0,len (names)):\n",
    "    names[i]= names[i] + \" Forero\"\n",
    "    \n",
    "print(names)"
   ]
  },
  {
   "cell_type": "code",
   "execution_count": null,
   "metadata": {},
   "outputs": [],
   "source": [
    "apellidos=[\"Florez\", \"Ramírez\",\"Pinzón\",\"Pulido\"]"
   ]
  },
  {
   "cell_type": "markdown",
   "metadata": {},
   "source": [
    "5. Si el primer elemento de la lista nombres corresponde al primer elemento de la lista apellidos ¿Cómo podríamos unir los nombres a los apellidos correspondientes?"
   ]
  },
  {
   "cell_type": "code",
   "execution_count": null,
   "metadata": {},
   "outputs": [],
   "source": []
  },
  {
   "cell_type": "markdown",
   "metadata": {},
   "source": [
    "A veces iteramos utilizando una secuencia de números (range), pero también podemos iterar directamente sobre los elementos de una estructura. **Por ejemplo, iterando sobre los elementos de un diccionario:**"
   ]
  },
  {
   "cell_type": "code",
   "execution_count": null,
   "metadata": {},
   "outputs": [],
   "source": [
    "notas = {\n",
    "    'Mariana': [4.5, 3.7, 3.4, 5],\n",
    "    'Alicia': [3.5, 3.1, 4.2, 3.9],\n",
    "    'Margarita': [2.6, 3.0, 3.9, 4.1]\n",
    "}\n",
    "print(notas)"
   ]
  },
  {
   "cell_type": "code",
   "execution_count": null,
   "metadata": {},
   "outputs": [],
   "source": [
    "for key in notas.keys():\n",
    "    promedio_estudiante= sum(notas[key])/len(notas[key])\n",
    "    print(\"El promedio de\", key, \"es:\", promedio_estudiante)"
   ]
  },
  {
   "cell_type": "markdown",
   "metadata": {},
   "source": [
    "Los for se pueden anidar"
   ]
  },
  {
   "cell_type": "code",
   "execution_count": null,
   "metadata": {},
   "outputs": [],
   "source": [
    "colores = [\"naranja\", \"azul\", \"verde\"]\n",
    "frutas = [\"manzana\", \"mora\", \"mango\"]\n",
    "\n",
    "\n",
    "for fruta in frutas:\n",
    "    for color in colores:\n",
    "        print(fruta,color)"
   ]
  },
  {
   "cell_type": "markdown",
   "metadata": {},
   "source": [
    " ### WHILE LOOPS:\n",
    " \n",
    " Tienen la misma función que un for pero en lugar de iterar sobre los elementos de una estructura de datos iteran mientras una condición sea verdadera. Usualmente esta condición es el número de veces que se debe iterar la instrucción.\n",
    "***cuidado:*** Un error común usando while loops es no definir el aumento en la variable que da la condición de parar"
   ]
  },
  {
   "cell_type": "code",
   "execution_count": null,
   "metadata": {},
   "outputs": [],
   "source": [
    "count=0\n",
    "while count <100:\n",
    "    print(count)\n",
    "    count+=1\n",
    "    "
   ]
  },
  {
   "cell_type": "markdown",
   "metadata": {},
   "source": [
    "## FUNCIONES\n",
    "\n",
    "Como en cualquier otro lenguaje, en *Python* también es posible definir funciones, es decir, secuencias de enunciados que reciben ciertos datos, ejecutan algunas operaciones sobre ellos y devuelven un resultado.\n",
    "\n",
    "Para definir una función se usa la palabra clave `def`, y el valor que va a retornar siempre debe ser precedido por un `return`. La sintaxis de una función es como se ve a continuación::\n",
    "\n",
    "```python\n",
    "def NOMBRE(LISTA DE ARGUMENTOS):\n",
    "    ENUNCIADOS\n",
    "    return VALOR\n",
    "```\n",
    "\n",
    "ó\n",
    "\n",
    "```python\n",
    "def NOMBRE(LISTA DE ARGUMENTOS):\n",
    "    ENUNCIADOS\n",
    "    print(VALOR)\n",
    "```\n",
    "\n",
    "La línea que contiene el `return` (o `print`) es opcional, pues no todas las funciones deben retornar algo. Por ejemplo, hay algunas que sólo modifican los valores de ciertas variables, por lo que no necesitan retornar o imprimir ningún valor."
   ]
  },
  {
   "cell_type": "code",
   "execution_count": null,
   "metadata": {},
   "outputs": [],
   "source": [
    "len(frutas)"
   ]
  },
  {
   "cell_type": "markdown",
   "metadata": {},
   "source": [
    "Podemos crear una función que calcule promedios:"
   ]
  },
  {
   "cell_type": "code",
   "execution_count": null,
   "metadata": {},
   "outputs": [],
   "source": [
    "lista=[4.5,3.5,4.2,5]"
   ]
  },
  {
   "cell_type": "code",
   "execution_count": null,
   "metadata": {},
   "outputs": [],
   "source": [
    "def promedio_lista(x):\n",
    "    return(sum(x)/len(x))"
   ]
  },
  {
   "cell_type": "code",
   "execution_count": null,
   "metadata": {},
   "outputs": [],
   "source": [
    "promedio_lista(lista)"
   ]
  },
  {
   "cell_type": "markdown",
   "metadata": {},
   "source": [
    "O una función que determine si un número es mayor o menor que otro"
   ]
  },
  {
   "cell_type": "code",
   "execution_count": null,
   "metadata": {},
   "outputs": [],
   "source": [
    "def mayor_o_menor(x, y):\n",
    "    if x < y:\n",
    "        print(x, \"es menor que\", y)\n",
    "    elif x > y:\n",
    "        print(x, \"es mayor que\", y)\n",
    "    else:\n",
    "        print(x, \"y\", y, \"son iguales\")"
   ]
  },
  {
   "cell_type": "markdown",
   "metadata": {},
   "source": [
    "# Challenge:"
   ]
  },
  {
   "cell_type": "markdown",
   "metadata": {},
   "source": [
    "### Problema 1: Calcular el promedio de la clase con un for "
   ]
  },
  {
   "cell_type": "code",
   "execution_count": null,
   "metadata": {},
   "outputs": [],
   "source": [
    "notas = {\n",
    "    'Mariana': [4.5, 3.7, 3.4, 5],\n",
    "    'Alicia': [3.5, 3.1, 4.2, 3.9],\n",
    "    'Margarita': [2.6, 3.0, 3.9, 4.1]\n",
    "}"
   ]
  },
  {
   "cell_type": "code",
   "execution_count": null,
   "metadata": {},
   "outputs": [],
   "source": []
  },
  {
   "cell_type": "markdown",
   "metadata": {},
   "source": [
    "### Problema 2\n",
    "1. Usando un for y un if agregue la nota del parcial al diccionario notas. En el caso de los estudiantes nuevos se deben agregar al diccionario con su única nota.\n",
    "2. Cree un for que calcule el promedio de calificaciones de los estudiantes e imprima el nombre de los estudiantes con promedio mayor a 4"
   ]
  },
  {
   "cell_type": "code",
   "execution_count": null,
   "metadata": {},
   "outputs": [],
   "source": [
    "nota_parcial={\"Mariana\":4.7,\"Alicia\":4.0,\"Margarita\":3.5,\"Carolina\":4.6, \"Jesús\":4.0, \"Marco\":3.7}"
   ]
  },
  {
   "cell_type": "markdown",
   "metadata": {},
   "source": [
    "### Problema 3\n",
    "1. Defina una función que calcule el promedio final de una clase recibiendo un diccionario con las notas del semestre"
   ]
  }
 ],
 "metadata": {
  "kernelspec": {
   "display_name": "Python 3",
   "language": "python",
   "name": "python3"
  },
  "language_info": {
   "codemirror_mode": {
    "name": "ipython",
    "version": 3
   },
   "file_extension": ".py",
   "mimetype": "text/x-python",
   "name": "python",
   "nbconvert_exporter": "python",
   "pygments_lexer": "ipython3",
   "version": "3.7.4"
  }
 },
 "nbformat": 4,
 "nbformat_minor": 4
}
