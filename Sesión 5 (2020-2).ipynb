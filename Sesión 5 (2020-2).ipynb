{
 "cells": [
  {
   "cell_type": "markdown",
   "metadata": {},
   "source": [
    "## Semillero de Programación en Ciencias Sociales (Sesión 5)\n",
    "### Felipe Botero, Juan Carlos Rodriguez, Laura Merchán y Wilson Forero"
   ]
  },
  {
   "cell_type": "markdown",
   "metadata": {},
   "source": [
    "## Challenges de la sesión pasada"
   ]
  },
  {
   "cell_type": "markdown",
   "metadata": {},
   "source": [
    "### Problema 1: Calcular el promedio de la clase con un for "
   ]
  },
  {
   "cell_type": "code",
   "execution_count": null,
   "metadata": {},
   "outputs": [],
   "source": [
    "notas = {\n",
    "    'Mariana': [4.5, 3.7, 3.4, 5],\n",
    "    'Alicia': [3.5, 3.1, 4.2, 3.9],\n",
    "    'Margarita': [2.6, 3.0, 3.9, 4.1]\n",
    "}"
   ]
  },
  {
   "cell_type": "code",
   "execution_count": null,
   "metadata": {},
   "outputs": [],
   "source": [
    "#Respuesta\n",
    "promedios=[]\n",
    "for key in notas.keys():\n",
    "    promedio_estudiante=sum(notas[key])/len(notas[key])\n",
    "    promedios.append(promedio_estudiante)\n",
    "\n",
    "sum(promedios)/len(notas.keys())"
   ]
  },
  {
   "cell_type": "markdown",
   "metadata": {},
   "source": [
    "### Problema 2\n",
    "1. Usando un for y un if agregue la nota del parcial al diccionario notas. En el caso de los estudiantes nuevos se deben agregar al diccionario con su única nota.\n",
    "2. Cree un for que calcule el promedio de calificaciones de los estudiantes e imprima el nombre de los estudiantes con promedio mayor a 4"
   ]
  },
  {
   "cell_type": "code",
   "execution_count": null,
   "metadata": {},
   "outputs": [],
   "source": [
    "nota_parcial={\"Mariana\":4.7,\"Alicia\":4.0,\"Margarita\":3.5,\"Carolina\":4.6, \"Jesús\":4.0, \"Marco\":3.7}"
   ]
  },
  {
   "cell_type": "code",
   "execution_count": null,
   "metadata": {},
   "outputs": [],
   "source": [
    "#1\n",
    "for key in nota_parcial.keys():\n",
    "    if key in notas.keys():\n",
    "        notas[key].append(nota_parcial[key])\n",
    "    else:\n",
    "        notas[key]=[nota_parcial[key]]\n",
    "notas"
   ]
  },
  {
   "cell_type": "code",
   "execution_count": null,
   "metadata": {},
   "outputs": [],
   "source": [
    "#2\n",
    "for key in notas.keys():\n",
    "    promedio_estudiante=sum(notas[key])/len(notas[key])\n",
    "    if promedio_estudiante>4:\n",
    "        print(key)"
   ]
  },
  {
   "cell_type": "markdown",
   "metadata": {},
   "source": [
    "### Problema 3\n",
    "1. Defina una función que calcule el promedio final de una clase recibiendo un diccionario con las notas del semestre"
   ]
  },
  {
   "cell_type": "code",
   "execution_count": null,
   "metadata": {},
   "outputs": [],
   "source": [
    "def promedio_clase(notas):\n",
    "    promedios=[]\n",
    "    for key in notas.keys():\n",
    "        promedio_estudiante=sum(notas[key])/len(notas[key])\n",
    "        promedios.append(promedio_estudiante)\n",
    "\n",
    "    print(sum(promedios)/len(notas.keys()))"
   ]
  },
  {
   "cell_type": "code",
   "execution_count": null,
   "metadata": {},
   "outputs": [],
   "source": [
    "ejemplo={\"luis\":[3,5,3,2],\"pedro\":[4,3.5,2.8,1], \"Flora\":[5,5,5,5]}\n",
    "promedio_clase(ejemplo)"
   ]
  },
  {
   "cell_type": "markdown",
   "metadata": {},
   "source": [
    "## Introducción a Pandas (bases de datos)"
   ]
  },
  {
   "cell_type": "markdown",
   "metadata": {},
   "source": [
    "Ahora miraremos _Pandas_, este es el paquete más famoso en Python para la manipulación de bases de datos.\n",
    "\n",
    "En Pandas existen tres tipos de estructuras: \n",
    "\n",
    "- Series: data en un arreglo 1D, etiquetada, homogénea e inmutable de tamaño\n",
    "- **Data Frames**: arreglo 2D, tamaño mutable, columnas heterogéneas, etiquetadas\n",
    "- Panel: arreglo 3D, tamaño mutable."
   ]
  },
  {
   "cell_type": "code",
   "execution_count": null,
   "metadata": {},
   "outputs": [],
   "source": [
    "#pip install leila"
   ]
  },
  {
   "cell_type": "code",
   "execution_count": null,
   "metadata": {},
   "outputs": [],
   "source": [
    "import pandas as pd\n",
    "import numpy as np\n",
    "from leila.calidad_datos import CalidadDatos"
   ]
  },
  {
   "cell_type": "markdown",
   "metadata": {},
   "source": [
    "### Crear una base de datos"
   ]
  },
  {
   "cell_type": "code",
   "execution_count": null,
   "metadata": {},
   "outputs": [],
   "source": [
    "candidatos=['Duque', 'Petro', 'Fajardo', 'DeLaCalle', 'Vargas']\n",
    "orientacion=['D', 'I', None, 'C','D']\n",
    "edad=[43,59,63,73,57]\n",
    "votos=[7.6, 4.8, 4.6, 0.4, 1.7] #en millones"
   ]
  },
  {
   "cell_type": "code",
   "execution_count": null,
   "metadata": {},
   "outputs": [],
   "source": [
    "diccionario={'names':candidatos, 'ideology':orientacion, 'age':edad, 'votes':votos}"
   ]
  },
  {
   "cell_type": "code",
   "execution_count": null,
   "metadata": {},
   "outputs": [],
   "source": [
    "elecciones_2018=pd.DataFrame(diccionario)\n",
    "elecciones_2018"
   ]
  },
  {
   "cell_type": "markdown",
   "metadata": {},
   "source": [
    "### Componentes principales de un DataFrame\n",
    "1. _index_ \n",
    "2. _columns_\n",
    "3. _shape_\n",
    "4. _size_\n",
    "5. _data.count()_\n",
    "6. _T_\n",
    "7. _dtypes_"
   ]
  },
  {
   "cell_type": "code",
   "execution_count": null,
   "metadata": {},
   "outputs": [],
   "source": [
    "elecciones_2018.index #Informacion sobre el índice"
   ]
  },
  {
   "cell_type": "code",
   "execution_count": null,
   "metadata": {},
   "outputs": [],
   "source": [
    "elecciones_2018.columns #Información sobre las columnas"
   ]
  },
  {
   "cell_type": "code",
   "execution_count": null,
   "metadata": {},
   "outputs": [],
   "source": [
    "elecciones_2018.shape #tupla con las dimensiones de la base"
   ]
  },
  {
   "cell_type": "code",
   "execution_count": null,
   "metadata": {},
   "outputs": [],
   "source": [
    "elecciones_2018.size #número de filas * número de columnas"
   ]
  },
  {
   "cell_type": "code",
   "execution_count": null,
   "metadata": {},
   "outputs": [],
   "source": [
    "elecciones_2018.count() #cuantas observaciones por columna (descontando los missings)"
   ]
  },
  {
   "cell_type": "code",
   "execution_count": null,
   "metadata": {},
   "outputs": [],
   "source": [
    "elecciones_2018.T #transponer la base de datos"
   ]
  },
  {
   "cell_type": "code",
   "execution_count": null,
   "metadata": {},
   "outputs": [],
   "source": [
    "elecciones_2018.dtypes #tipo de elementos dentro de cada columna"
   ]
  },
  {
   "cell_type": "markdown",
   "metadata": {},
   "source": [
    "### Indexación y ejes"
   ]
  },
  {
   "cell_type": "code",
   "execution_count": null,
   "metadata": {},
   "outputs": [],
   "source": [
    "elecciones_2018['names'] # o elecciones_2018.names"
   ]
  },
  {
   "cell_type": "code",
   "execution_count": null,
   "metadata": {},
   "outputs": [],
   "source": [
    "elecciones_2018[elecciones_2018['names']=='Vargas']"
   ]
  },
  {
   "cell_type": "code",
   "execution_count": null,
   "metadata": {},
   "outputs": [],
   "source": [
    "print(elecciones_2018.loc[[3]])"
   ]
  },
  {
   "cell_type": "markdown",
   "metadata": {},
   "source": [
    "### Edición de columnas"
   ]
  },
  {
   "cell_type": "markdown",
   "metadata": {},
   "source": [
    "Operaciones aritméticas\n",
    "\n",
    "**Por ejemplo la edad de los candidatos fue tomada en 2018, si suponemos que todos ya cumplieron años en este año 2020 debemos ajustar su edad**"
   ]
  },
  {
   "cell_type": "code",
   "execution_count": null,
   "metadata": {},
   "outputs": [],
   "source": [
    "elecciones_2018.age=elecciones_2018.age+2"
   ]
  },
  {
   "cell_type": "markdown",
   "metadata": {},
   "source": [
    "**Si queremos la votación en millones**:"
   ]
  },
  {
   "cell_type": "code",
   "execution_count": null,
   "metadata": {},
   "outputs": [],
   "source": [
    "elecciones_2018[\"votes_m\"]=elecciones_2018.votes*1000000"
   ]
  },
  {
   "cell_type": "markdown",
   "metadata": {},
   "source": [
    "**Si queremos el porcentaje de cada uno**:"
   ]
  },
  {
   "cell_type": "code",
   "execution_count": null,
   "metadata": {},
   "outputs": [],
   "source": [
    "elecciones_2018[\"porcentaje\"]=elecciones_2018.votes_m*100/(elecciones_2018.votes_m.sum())\n",
    "elecciones_2018"
   ]
  },
  {
   "cell_type": "markdown",
   "metadata": {},
   "source": [
    "**Si queremos crear una variable categorica**:"
   ]
  },
  {
   "cell_type": "code",
   "execution_count": null,
   "metadata": {},
   "outputs": [],
   "source": [
    "elecciones_2018['M50'] = np.where(elecciones_2018['age']>=50, 1, 0)\n",
    "elecciones_2018"
   ]
  },
  {
   "cell_type": "markdown",
   "metadata": {},
   "source": [
    "**Si queremos borrar una columna**:"
   ]
  },
  {
   "cell_type": "code",
   "execution_count": null,
   "metadata": {},
   "outputs": [],
   "source": [
    "elecciones_2018=elecciones_2018.drop(columns=['votes'])\n",
    "elecciones_2018"
   ]
  },
  {
   "cell_type": "markdown",
   "metadata": {},
   "source": [
    "### Estadísticas descriptivas"
   ]
  },
  {
   "cell_type": "code",
   "execution_count": null,
   "metadata": {},
   "outputs": [],
   "source": [
    "elecciones_2018.sum()"
   ]
  },
  {
   "cell_type": "code",
   "execution_count": null,
   "metadata": {},
   "outputs": [],
   "source": [
    "elecciones_2018.mean()"
   ]
  },
  {
   "cell_type": "code",
   "execution_count": null,
   "metadata": {},
   "outputs": [],
   "source": [
    "elecciones_2018.median()"
   ]
  },
  {
   "cell_type": "code",
   "execution_count": null,
   "metadata": {},
   "outputs": [],
   "source": [
    "elecciones_2018.age.describe()"
   ]
  },
  {
   "cell_type": "markdown",
   "metadata": {},
   "source": [
    "**Existen otros paquetes como Leila, creado por el DNP, que permiten explorar esos datos de distintas maneras**"
   ]
  },
  {
   "cell_type": "code",
   "execution_count": null,
   "metadata": {},
   "outputs": [],
   "source": [
    "#Descripción de la base\n",
    "datos= CalidadDatos(elecciones_2018)\n",
    "resumen=datos.Resumen(columnasRepetidas=True)\n",
    "print(resumen)"
   ]
  },
  {
   "cell_type": "code",
   "execution_count": null,
   "metadata": {},
   "outputs": [],
   "source": [
    "elecciones_2018"
   ]
  },
  {
   "cell_type": "markdown",
   "metadata": {},
   "source": [
    "### Importacion de Bases de datos"
   ]
  },
  {
   "cell_type": "code",
   "execution_count": null,
   "metadata": {},
   "outputs": [],
   "source": [
    "senado=pd.read_excel(\"SENADO2018.xls\")\n",
    "senado"
   ]
  },
  {
   "cell_type": "markdown",
   "metadata": {},
   "source": [
    "### En las siguiente Sesión...\n",
    "\n",
    "***Si alguna vez lo contratan a usted para determinar la reparticiones de curules en el Senado, ¿Cómo lo haría? En la siguiente sesión miraremos en detalle cómo hacerlo usando Python. \n",
    "\n",
    "Mientras tanto les dejamos dos `challenges` para logarlo"
   ]
  },
  {
   "cell_type": "markdown",
   "metadata": {},
   "source": [
    "### Problema 1: \n",
    "Según la Registraduría los votos validos de una elección se miden de esta forma\n",
    "```python\n",
    "VOTOS_VALIDOS = VOTOS_POR_LISTAS + VOTOS_EN_BLANCO\n",
    "```\n",
    "Donde `VOTOS_POR_LISTA`= Suma de votos por cada Partido/Movimiento y cada uno de sus candidatos (Es decir la observaciones 0-899)\n",
    "\n",
    "Y donde `VOTOS_EN_BLANCO` (observación 900). \n",
    "\n",
    "Calcule los `VOTOS_VALIDOS`, para ello va a necesitar idexar la base de datos y aplicar el método .sum()"
   ]
  },
  {
   "cell_type": "code",
   "execution_count": null,
   "metadata": {},
   "outputs": [],
   "source": []
  },
  {
   "cell_type": "markdown",
   "metadata": {},
   "source": [
    "### Problema 2: \n",
    "Según la Registraduría el Cociente Electoral de una elección se miden de esta forma\n",
    "```python\n",
    "COCIENTE_ELECTORAL = VOTOS_VALIDOS / NÚMERO DE CURULES A ASIGNAR\n",
    "```\n",
    "Suponga que el número de curules a asignar es 100. \n",
    "\n",
    "¿Cuál es el valor del Cociente Electoral?"
   ]
  },
  {
   "cell_type": "code",
   "execution_count": null,
   "metadata": {},
   "outputs": [],
   "source": []
  }
 ],
 "metadata": {
  "kernelspec": {
   "display_name": "Python 3",
   "language": "python",
   "name": "python3"
  },
  "language_info": {
   "codemirror_mode": {
    "name": "ipython",
    "version": 3
   },
   "file_extension": ".py",
   "mimetype": "text/x-python",
   "name": "python",
   "nbconvert_exporter": "python",
   "pygments_lexer": "ipython3",
   "version": "3.7.6"
  }
 },
 "nbformat": 4,
 "nbformat_minor": 4
}
