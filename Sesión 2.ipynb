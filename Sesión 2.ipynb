{
 "cells": [
  {
   "cell_type": "markdown",
   "metadata": {},
   "source": [
    "# **Semillero de programación**\n",
    "## Juan Carlos Rodríguez, Felipe Botero, Laura Merchán y Wilson Forero."
   ]
  },
  {
   "cell_type": "markdown",
   "metadata": {},
   "source": [
    "## Recapitulando:\n",
    "\n",
    "### Tipos de datos básicos de Python (Built-in data types)\n",
    "1. Integers (Números enteros, positivos o negativos. Sin puntos decimales(porque son enteros))\n",
    "2. Float (Números reales. La parte entera se separa de la parte decimal con un punto)\n",
    "3. String (objeto entre 'comillas')\n",
    "\n",
    "### Métodos y funciones:\n",
    "\n",
    "1. Método: Una \"tarea\" asociada a las propiedades una clase o tipo de dato específico. Por ejemplo string.upper()\n",
    "\n",
    "2. Función: \"Tarea\" definida por sí misma, no necesariamente asociada a las propiedades del tipo de datos. Por ejemplo, print()\n",
    "\n",
    "```python\n",
    "nombre=\"ana\"\n",
    "print(nombre.upper())\n",
    "```\n",
    "\n",
    "*Esta distinción es muy importante en programación orientada a objetos, para nosotros lo importante es reconocer la existencia de las dos.*"
   ]
  },
  {
   "cell_type": "code",
   "execution_count": null,
   "metadata": {},
   "outputs": [],
   "source": []
  },
  {
   "cell_type": "markdown",
   "metadata": {},
   "source": [
    "## Sesión 2: \n",
    "### Estructuras básicas de datos:\n",
    "\n",
    "Conjuntos de objetos de python\n",
    "1. Listas\n",
    "2. Diccionarios\n",
    "3. Tuplas\n",
    "4. Conjuntos\n",
    "\n",
    "### Estructuras básicas de control\n",
    "Programamos para realizar tareas estructuradas y repetitivas.\n",
    "1. Condicionales (If)\n",
    "2. Loops (for y while)"
   ]
  },
  {
   "cell_type": "markdown",
   "metadata": {},
   "source": [
    "### Estructuras básicas de datos:\n",
    "### 1. Listas\n",
    "\n",
    "Colección de datos ordenada y **mutable** . Se define con corchetes cuadrados"
   ]
  },
  {
   "cell_type": "code",
   "execution_count": 1,
   "metadata": {},
   "outputs": [],
   "source": [
    "frutas=[\"Banano\",\"Fresas\", \"Mango\"]"
   ]
  },
  {
   "cell_type": "code",
   "execution_count": 2,
   "metadata": {},
   "outputs": [
    {
     "data": {
      "text/plain": [
       "'Banano'"
      ]
     },
     "execution_count": 2,
     "metadata": {},
     "output_type": "execute_result"
    }
   ],
   "source": [
    "frutas[0]"
   ]
  },
  {
   "cell_type": "code",
   "execution_count": 3,
   "metadata": {},
   "outputs": [
    {
     "name": "stdout",
     "output_type": "stream",
     "text": [
      "['Pera', 'Fresas', 'Mango']\n"
     ]
    }
   ],
   "source": [
    "frutas[0]=\"Pera\"\n",
    "print(frutas)"
   ]
  },
  {
   "cell_type": "code",
   "execution_count": 4,
   "metadata": {},
   "outputs": [
    {
     "name": "stdout",
     "output_type": "stream",
     "text": [
      "[]\n"
     ]
    }
   ],
   "source": [
    "frutas.clear()\n",
    "print(frutas)"
   ]
  },
  {
   "cell_type": "code",
   "execution_count": 5,
   "metadata": {},
   "outputs": [],
   "source": [
    "frutas=[\"Fresas\", \"Mango\",\"Banano\"]"
   ]
  },
  {
   "cell_type": "markdown",
   "metadata": {},
   "source": [
    "1. ¿Qué métodos tiene un lista? use `frutas`. y la tecla tab.\n",
    "2. Agregue a la lista `frutas`, el objeto \"kiwi\" (.append)\n",
    "3. Organice alfabeticamente las entradas de la lista (.sort)\n",
    "4. Encuentre la posición del objeto \"kiwi\" en la lista (.index)\n",
    "5. Encuentra cual es el objeto en la primera posición"
   ]
  },
  {
   "cell_type": "code",
   "execution_count": null,
   "metadata": {},
   "outputs": [],
   "source": [
    "frutas.sort()\n",
    "print(frutas)"
   ]
  },
  {
   "cell_type": "markdown",
   "metadata": {},
   "source": [
    "### 2. Diccionarios\n",
    "Colección de datos en las que se asocian datos a una llave (id) única. NO ordenada, **mutable** e indexada por sus **llaves**. Se define con llaves ({})"
   ]
  },
  {
   "cell_type": "code",
   "execution_count": null,
   "metadata": {},
   "outputs": [],
   "source": [
    "telefonos = {'Luis': 3188015546, 'Andrea': 3155086089, 'Carlos': 31301678}"
   ]
  },
  {
   "cell_type": "markdown",
   "metadata": {},
   "source": [
    "1. ¿Cuál es el telefono de Luis?\n",
    "2. ¿Cuál es el telefono de Carlos?\n",
    "3. Si usted sabe que el telefono de Laura es 300765897, defínalo en el directorio"
   ]
  },
  {
   "cell_type": "code",
   "execution_count": null,
   "metadata": {},
   "outputs": [],
   "source": [
    "telefonos[\"Carlos\"]"
   ]
  },
  {
   "cell_type": "code",
   "execution_count": null,
   "metadata": {},
   "outputs": [],
   "source": [
    "telefonos.pop(\"Andrea\")\n",
    "print(telefonos)"
   ]
  },
  {
   "cell_type": "code",
   "execution_count": null,
   "metadata": {},
   "outputs": [],
   "source": [
    "notas = {\n",
    "    'Mariana': [4.5, 3.7, 3.4, 5],\n",
    "    'Alicia': [3.5, 3.1, 4.2, 3.9],\n",
    "    'Margarita': [2.6, 3.0, 3.9, 4.1]\n",
    "}\n",
    "\n",
    "print(notas.keys())\n"
   ]
  },
  {
   "cell_type": "code",
   "execution_count": null,
   "metadata": {},
   "outputs": [],
   "source": [
    "print(notas.values())\n"
   ]
  },
  {
   "cell_type": "code",
   "execution_count": null,
   "metadata": {},
   "outputs": [],
   "source": [
    "print(notas.items())"
   ]
  },
  {
   "cell_type": "markdown",
   "metadata": {},
   "source": [
    "### 3. Tuplas\n",
    "\n",
    "Colección de datos ordenada, pero **inmutable**. Se define con paréntesis "
   ]
  },
  {
   "cell_type": "code",
   "execution_count": 6,
   "metadata": {
    "scrolled": true
   },
   "outputs": [
    {
     "name": "stdout",
     "output_type": "stream",
     "text": [
      "camila\n"
     ]
    }
   ],
   "source": [
    "\n",
    "names_t=(\"juan\",\"carolina\",\"camila\")\n",
    "print(names_t[2])"
   ]
  },
  {
   "cell_type": "code",
   "execution_count": null,
   "metadata": {},
   "outputs": [],
   "source": [
    "names_t[2]= \"Camila\""
   ]
  },
  {
   "cell_type": "markdown",
   "metadata": {},
   "source": [
    "1. ¿Qué métodos tiene una tupla? use `names_t`. y la tecla tab."
   ]
  },
  {
   "cell_type": "code",
   "execution_count": null,
   "metadata": {},
   "outputs": [],
   "source": [
    "names_t=names_t+(23,)\n",
    "print(names_t)\n",
    "print(names_t[2])"
   ]
  },
  {
   "cell_type": "markdown",
   "metadata": {},
   "source": [
    "### Conjuntos (sets)\n",
    "\n",
    "Son conjuntos de elementos **no repetidos**, no ordenados, no indexados y mutables. Se define con llaves\n"
   ]
  },
  {
   "cell_type": "code",
   "execution_count": 8,
   "metadata": {},
   "outputs": [],
   "source": [
    "vocales={\"a\",\"e\",\"i\",\"o\",\"u\",\"a\"} "
   ]
  },
  {
   "cell_type": "code",
   "execution_count": 9,
   "metadata": {},
   "outputs": [
    {
     "name": "stdout",
     "output_type": "stream",
     "text": [
      "{'u', 'e', 'i', 'a', 'o'}\n"
     ]
    }
   ],
   "source": [
    "print(vocales)"
   ]
  },
  {
   "cell_type": "code",
   "execution_count": 10,
   "metadata": {},
   "outputs": [
    {
     "ename": "TypeError",
     "evalue": "'set' object is not subscriptable",
     "output_type": "error",
     "traceback": [
      "\u001b[0;31m---------------------------------------------------------------------------\u001b[0m",
      "\u001b[0;31mTypeError\u001b[0m                                 Traceback (most recent call last)",
      "\u001b[0;32m<ipython-input-10-5ac39b2e45b5>\u001b[0m in \u001b[0;36m<module>\u001b[0;34m\u001b[0m\n\u001b[0;32m----> 1\u001b[0;31m \u001b[0mprint\u001b[0m\u001b[0;34m(\u001b[0m\u001b[0mvocales\u001b[0m\u001b[0;34m[\u001b[0m\u001b[0;36m0\u001b[0m\u001b[0;34m]\u001b[0m\u001b[0;34m)\u001b[0m\u001b[0;34m\u001b[0m\u001b[0;34m\u001b[0m\u001b[0m\n\u001b[0m",
      "\u001b[0;31mTypeError\u001b[0m: 'set' object is not subscriptable"
     ]
    }
   ],
   "source": [
    "print(vocales[0])"
   ]
  },
  {
   "cell_type": "code",
   "execution_count": null,
   "metadata": {},
   "outputs": [],
   "source": [
    "codigos=set([\"201624567\",\"201812456\",\"201613423\"])\n",
    "print (codigos)"
   ]
  },
  {
   "cell_type": "code",
   "execution_count": null,
   "metadata": {},
   "outputs": [],
   "source": [
    "codigos.add(\"201613423\")"
   ]
  },
  {
   "cell_type": "code",
   "execution_count": null,
   "metadata": {},
   "outputs": [],
   "source": [
    "codigos"
   ]
  },
  {
   "cell_type": "code",
   "execution_count": null,
   "metadata": {},
   "outputs": [],
   "source": [
    "codigos.clear()\n",
    "print(codigos)"
   ]
  },
  {
   "cell_type": "markdown",
   "metadata": {},
   "source": [
    "#### Nota"
   ]
  },
  {
   "cell_type": "code",
   "execution_count": null,
   "metadata": {},
   "outputs": [],
   "source": [
    "#Los strings no son mutables\n",
    "name=\"juan\"\n",
    "name.upper()\n",
    "print(name)"
   ]
  },
  {
   "cell_type": "code",
   "execution_count": null,
   "metadata": {},
   "outputs": [],
   "source": [
    "name_mayus=name.upper()\n",
    "print(name_mayus)"
   ]
  },
  {
   "cell_type": "markdown",
   "metadata": {},
   "source": [
    "# Estructuras de control de flujo:\n",
    "### CONDICIONALES (IF):\n",
    "\n",
    "Los condicionales son funciones lógicas que permiten realizar tareas diferentes cuando una condición lógica es verdadera (True) o falsa (False).\n",
    "***Por ejemplo:***\n",
    "\n"
   ]
  },
  {
   "cell_type": "code",
   "execution_count": null,
   "metadata": {},
   "outputs": [],
   "source": [
    "a = 14\n",
    "b = 100\n",
    "print(b > a)\n",
    "\n",
    "\n"
   ]
  },
  {
   "cell_type": "code",
   "execution_count": null,
   "metadata": {},
   "outputs": [],
   "source": [
    "if b > a:\n",
    "    print(\"b es mayor que a\")"
   ]
  },
  {
   "cell_type": "code",
   "execution_count": null,
   "metadata": {},
   "outputs": [],
   "source": [
    "a = 14\n",
    "b = 10\n",
    "#print(b > a)\n",
    "if b > a:\n",
    "    print(\"b es mayor que a\")\n"
   ]
  },
  {
   "cell_type": "markdown",
   "metadata": {},
   "source": [
    "**Se puede establecer un flujo que realice una tarea diferente si la condición es verdadera o falsa :**"
   ]
  },
  {
   "cell_type": "code",
   "execution_count": null,
   "metadata": {},
   "outputs": [],
   "source": [
    "a = 14\n",
    "b = 10\n",
    "if b > a:\n",
    "    print(\"b es mayor que a\")\n",
    "else:\n",
    "    print(\"b no es mayor que a\")"
   ]
  },
  {
   "cell_type": "markdown",
   "metadata": {},
   "source": [
    "**Se puede establecer un flujo que anide condiciones lógicas:**"
   ]
  },
  {
   "cell_type": "code",
   "execution_count": null,
   "metadata": {},
   "outputs": [],
   "source": [
    "a = 10\n",
    "b = 10\n",
    "if b > a:\n",
    "    print(\"b es mayor que a\")\n",
    "elif b==a:\n",
    "    print(\"b es igual que a\")\n",
    "else:\n",
    "    print(\"b es menor que a\")"
   ]
  },
  {
   "cell_type": "markdown",
   "metadata": {},
   "source": [
    "**otras condiciones posibles:**"
   ]
  },
  {
   "cell_type": "code",
   "execution_count": null,
   "metadata": {},
   "outputs": [],
   "source": [
    "frutas = [\"manzana\", \"mora\", \"mango\"]\n",
    "\n",
    "if \"banano\" in frutas:\n",
    "    print (\"Está en la lista\")\n",
    "else:\n",
    "    print(\"no está en la lista\")"
   ]
  },
  {
   "cell_type": "code",
   "execution_count": null,
   "metadata": {},
   "outputs": [],
   "source": [
    "if \"banano\" not in frutas:\n",
    "    frutas.append(\"banano\")\n",
    "print(frutas)"
   ]
  },
  {
   "cell_type": "code",
   "execution_count": null,
   "metadata": {},
   "outputs": [],
   "source": [
    "type(2)"
   ]
  },
  {
   "cell_type": "code",
   "execution_count": null,
   "metadata": {},
   "outputs": [],
   "source": [
    "if type(frutas)== list:\n",
    "    print(frutas)"
   ]
  },
  {
   "cell_type": "markdown",
   "metadata": {},
   "source": [
    "**Es posible usar varias condiciones en un solo if:**"
   ]
  },
  {
   "cell_type": "code",
   "execution_count": null,
   "metadata": {},
   "outputs": [],
   "source": [
    "if \"maracuyá\" not in frutas and type(frutas)!= list:\n",
    "    frutas.append(\"maracuyá\")\n",
    "print(frutas)\n"
   ]
  },
  {
   "cell_type": "code",
   "execution_count": null,
   "metadata": {},
   "outputs": [],
   "source": [
    "if \"maracuyá\" not in frutas or type(frutas)!= list:\n",
    "    frutas.append(\"maracuyá\")\n",
    "print(frutas)"
   ]
  },
  {
   "cell_type": "code",
   "execution_count": null,
   "metadata": {},
   "outputs": [],
   "source": [
    "if \"fresa\" not in frutas and type(frutas)== list:\n",
    "    frutas.append(\"fresa\")\n",
    "print(frutas)"
   ]
  },
  {
   "cell_type": "markdown",
   "metadata": {},
   "source": [
    "\n",
    "\n",
    "## Bucles o loops\n",
    "\n",
    "Cuando necesitamos repetir la misma tarea muchas veces programar se vuelve una herramienta muy útil. Los bucles son funciones que permiten repetir un proceso un número determinado de veces o para todos los elementos de una estructura de datos. Los hay de dos tipos: **for** y **while**. \n",
    "\n",
    "### FOR LOOPS\n",
    "Permite repetir la misma tarea iterando sobre los elementos de una estructura de datos.\n",
    "\n",
    "**Por ejemplo, imprimir cada uno de los elementos de una lista:** "
   ]
  },
  {
   "cell_type": "code",
   "execution_count": null,
   "metadata": {},
   "outputs": [],
   "source": [
    "codigos"
   ]
  },
  {
   "cell_type": "code",
   "execution_count": null,
   "metadata": {},
   "outputs": [],
   "source": [
    "for estudiante in codigos:\n",
    "    print(estudiante)"
   ]
  },
  {
   "cell_type": "markdown",
   "metadata": {},
   "source": [
    "**o dividir en 2 los números de 0 a 100:**"
   ]
  },
  {
   "cell_type": "code",
   "execution_count": null,
   "metadata": {
    "scrolled": true
   },
   "outputs": [],
   "source": [
    "for n in range(0,101):\n",
    "    print(n, \" dividido en 2 es: \", n/2)"
   ]
  },
  {
   "cell_type": "markdown",
   "metadata": {},
   "source": [
    "**También podemos almacenar los resultados de un for en una variable nueva:**"
   ]
  },
  {
   "cell_type": "code",
   "execution_count": null,
   "metadata": {},
   "outputs": [],
   "source": [
    "numeros_divididos=[]\n",
    "for n in range(0,101):\n",
    "    numeros_divididos.append(n/2)"
   ]
  },
  {
   "cell_type": "code",
   "execution_count": null,
   "metadata": {},
   "outputs": [],
   "source": [
    "print(numeros_divididos)"
   ]
  },
  {
   "cell_type": "markdown",
   "metadata": {},
   "source": [
    "**O utilizar un for para cambiar información previa, por ejemplo:**"
   ]
  },
  {
   "cell_type": "code",
   "execution_count": null,
   "metadata": {},
   "outputs": [],
   "source": [
    "names=[\"María\", \"Margarita\",\"Mariana\",\"José\"]\n",
    "\n",
    "\n",
    "for i in range(0,len (names)):\n",
    "    names[i]= names[i] + \" Forero\"\n",
    "    \n",
    "print(names)"
   ]
  },
  {
   "cell_type": "markdown",
   "metadata": {},
   "source": [
    "A veces iteramos utilizando una secuencia de números (range), pero también podemos iterar directamente sobre los elementos de una estructura. **Por ejemplo, iterando sobre los elementos de un diccionario:**"
   ]
  },
  {
   "cell_type": "code",
   "execution_count": null,
   "metadata": {},
   "outputs": [],
   "source": [
    "notas = {\n",
    "    'Mariana': [4.5, 3.7, 3.4, 5],\n",
    "    'Alicia': [3.5, 3.1, 4.2, 3.9],\n",
    "    'Margarita': [2.6, 3.0, 3.9, 4.1]\n",
    "}\n",
    "print(notas)"
   ]
  },
  {
   "cell_type": "code",
   "execution_count": null,
   "metadata": {},
   "outputs": [],
   "source": [
    "for key in notas.keys():\n",
    "    promedio_estudiante= sum(notas[key])/len(notas[key])\n",
    "    print(\"El promedio de\", key, \"es:\", promedio_estudiante)"
   ]
  },
  {
   "cell_type": "code",
   "execution_count": null,
   "metadata": {},
   "outputs": [],
   "source": [
    "colores = [\"naranja\", \"azul\", \"verde\"]\n",
    "frutas = [\"manzana\", \"mora\", \"mango\"]\n",
    "\n",
    "\n",
    "for fruta in frutas:\n",
    "    for color in colores:\n",
    "        print(fruta,color)"
   ]
  },
  {
   "cell_type": "code",
   "execution_count": null,
   "metadata": {},
   "outputs": [],
   "source": []
  },
  {
   "cell_type": "markdown",
   "metadata": {},
   "source": [
    "**Los for se pueden anidar:"
   ]
  },
  {
   "cell_type": "markdown",
   "metadata": {},
   "source": [
    " ### WHILE LOOPS:\n",
    " \n",
    " Tienen la misma función que un for pero en lugar de iterar sobre los elementos de una estructura de datos iteran mientras una condición sea verdadera. Usualmente esta condición es el número de veces que se debe iterar la instrucción.\n",
    "***cuidado:*** Un error común usando while loops es no definir el aumento en la variable que da la condición de parar"
   ]
  },
  {
   "cell_type": "code",
   "execution_count": null,
   "metadata": {},
   "outputs": [],
   "source": [
    "count=0\n",
    "while count <100:\n",
    "    print(count)\n",
    "    count+=1\n",
    "    "
   ]
  },
  {
   "cell_type": "markdown",
   "metadata": {},
   "source": [
    "# Challenge:"
   ]
  },
  {
   "cell_type": "code",
   "execution_count": null,
   "metadata": {},
   "outputs": [],
   "source": [
    "notas"
   ]
  },
  {
   "cell_type": "markdown",
   "metadata": {},
   "source": [
    "### Problema 1: Calcular el promedio de la clase con un for "
   ]
  },
  {
   "cell_type": "code",
   "execution_count": null,
   "metadata": {},
   "outputs": [],
   "source": []
  },
  {
   "cell_type": "code",
   "execution_count": null,
   "metadata": {},
   "outputs": [],
   "source": [
    "nota_parcial={\"Mariana\":4.7,\"Alicia\":4.0,\"Margarita\":3.5,\"Carolina\":4.6, \"Jesús\":4.0, \"Marco\":3.7}"
   ]
  },
  {
   "cell_type": "markdown",
   "metadata": {},
   "source": [
    "### Problema 2\n",
    "1. Usando un for y un if agregue la nota del parcial al diccionario notas. En el caso de los estudiantes nuevos se deben agregar al diccionario con su única nota.\n",
    "2. Cree un for que calcule el promedio de calificaciones de los estudiantes e imprima el nombre de los estudiantes con promedio mayor a 4"
   ]
  },
  {
   "cell_type": "code",
   "execution_count": null,
   "metadata": {},
   "outputs": [],
   "source": []
  },
  {
   "cell_type": "markdown",
   "metadata": {},
   "source": [
    "### Problema 3\n",
    "\n",
    "Construir una lista que tenga `100` repeticiones de los números `-1`, `0` y `1`, en ese orden exacto. Recuerde las propiedades de las listas "
   ]
  },
  {
   "cell_type": "code",
   "execution_count": null,
   "metadata": {},
   "outputs": [],
   "source": []
  },
  {
   "cell_type": "markdown",
   "metadata": {},
   "source": [
    "### Problema 4\n",
    "\n",
    "Encuentre cuantas veces aparece la palabra `perro` en la siguiente lista. Para hacelo deberá usar dos funciones aplicables a los objetos string. Recuerde que los strings NO son mutables."
   ]
  },
  {
   "cell_type": "code",
   "execution_count": null,
   "metadata": {},
   "outputs": [],
   "source": [
    "base=\"PerRoPERROorrepPErrogatoPeroPerroPetroPErRoPeRRoGatoperroPerroPERRoPERROPerRoPERROorrepPErrogatoPeroPerroPetroPErRoPeRRoGatoperroPerroPERRoPERROPerRoPERROorrepPErrogatoPeroPerroPetroPErRoPeRRoGatoperroPerroPERRoPERROPerRoPERROorrepPErrogatoPeroPerroPetroPErRoPeRRoGatoperroPerroPERRoPERROPerRoPERROorrepPErrogatoPeroPerroPetroPErRoPeRRoGatoperroPerroPERRoPERRO\""
   ]
  },
  {
   "cell_type": "code",
   "execution_count": null,
   "metadata": {},
   "outputs": [],
   "source": []
  }
 ],
 "metadata": {
  "kernelspec": {
   "display_name": "Python 3",
   "language": "python",
   "name": "python3"
  },
  "language_info": {
   "codemirror_mode": {
    "name": "ipython",
    "version": 3
   },
   "file_extension": ".py",
   "mimetype": "text/x-python",
   "name": "python",
   "nbconvert_exporter": "python",
   "pygments_lexer": "ipython3",
   "version": "3.7.4"
  }
 },
 "nbformat": 4,
 "nbformat_minor": 4
}
