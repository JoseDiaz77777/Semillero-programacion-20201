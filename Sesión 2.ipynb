{
 "cells": [
  {
   "cell_type": "markdown",
   "metadata": {},
   "source": [
    "# **Semillero de programación**\n",
    "## Felipe Botero, Laura Merchán y Wilson Forero."
   ]
  },
  {
   "cell_type": "markdown",
   "metadata": {},
   "source": [
    "Sesión 2: Funciones"
   ]
  },
  {
   "cell_type": "markdown",
   "metadata": {},
   "source": [
    "¿Cuál es el promedio de Alicia en esta clase? (recuerde que el promedio es la suma (sum) de notas sobre la cantidad(len))\n",
    "\n",
    "¿Cuál es el promedio del salón?"
   ]
  },
  {
   "cell_type": "code",
   "execution_count": 36,
   "metadata": {},
   "outputs": [],
   "source": [
    "notas = {\n",
    "    'Mariana': [4.5, 3.7, 3.4, 5],\n",
    "    'Alicia': [3.5, 3.1, 4.2, 3.9],\n",
    "    'Margarita': [2.6, 3.0, 3.9, 4.1]\n",
    "}"
   ]
  },
  {
   "cell_type": "code",
   "execution_count": 37,
   "metadata": {},
   "outputs": [
    {
     "data": {
      "text/plain": [
       "3.6750000000000003"
      ]
     },
     "execution_count": 37,
     "metadata": {},
     "output_type": "execute_result"
    }
   ],
   "source": [
    "(3.5+3.1+4.2+3.9)/4"
   ]
  },
  {
   "cell_type": "code",
   "execution_count": 38,
   "metadata": {},
   "outputs": [],
   "source": [
    "promedio_alicia= sum(notas[\"Alicia\"])/len(notas[\"Alicia\"])\n"
   ]
  },
  {
   "cell_type": "code",
   "execution_count": 40,
   "metadata": {},
   "outputs": [
    {
     "name": "stdout",
     "output_type": "stream",
     "text": [
      "3.741666666666667\n"
     ]
    }
   ],
   "source": [
    "promedio_mariana= sum(notas[\"Mariana\"])/len(notas[\"Mariana\"])\n",
    "promedio_margarita= sum(notas[\"Margarita\"])/len(notas[\"Margarita\"])\n",
    "\n",
    "promedio_clase= (promedio_alicia+promedio_mariana+promedio_margarita)/3\n",
    "print(promedio_clase)"
   ]
  },
  {
   "cell_type": "markdown",
   "metadata": {},
   "source": [
    "## Recapitulando:\n",
    "\n",
    "### Objetos básicos de Python\n",
    "1. Integers (Números enteros, positivos o negativos, sin puntos decimales)\n",
    "2. Float (Números reales, que separan al los Integers de las fracciónes con un punto)\n",
    "3. String (objeto entre 'comillas')\n",
    "\n",
    "### Estructuras básicas de datos\n",
    "\n",
    "Conjuntos de objetos de python\n",
    "1. Listas\n",
    "2. Diccionarios\n",
    "3. Tuplas\n",
    "4. Conjuntos"
   ]
  },
  {
   "cell_type": "markdown",
   "metadata": {},
   "source": [
    "#### Diccionarios"
   ]
  },
  {
   "cell_type": "code",
   "execution_count": 41,
   "metadata": {},
   "outputs": [
    {
     "name": "stdout",
     "output_type": "stream",
     "text": [
      "dict_keys(['Mariana', 'Alicia', 'Margarita'])\n"
     ]
    }
   ],
   "source": [
    "notas = {\n",
    "    'Mariana': [4.5, 3.7, 3.4, 5],\n",
    "    'Alicia': [3.5, 3.1, 4.2, 3.9],\n",
    "    'Margarita': [2.6, 3.0, 3.9, 4.1]\n",
    "}\n",
    "\n",
    "print(notas.keys())\n"
   ]
  },
  {
   "cell_type": "code",
   "execution_count": 42,
   "metadata": {},
   "outputs": [
    {
     "name": "stdout",
     "output_type": "stream",
     "text": [
      "dict_values([[4.5, 3.7, 3.4, 5], [3.5, 3.1, 4.2, 3.9], [2.6, 3.0, 3.9, 4.1]])\n"
     ]
    }
   ],
   "source": [
    "print(notas.values())\n"
   ]
  },
  {
   "cell_type": "code",
   "execution_count": 43,
   "metadata": {},
   "outputs": [
    {
     "name": "stdout",
     "output_type": "stream",
     "text": [
      "dict_items([('Mariana', [4.5, 3.7, 3.4, 5]), ('Alicia', [3.5, 3.1, 4.2, 3.9]), ('Margarita', [2.6, 3.0, 3.9, 4.1])])\n"
     ]
    }
   ],
   "source": [
    "print(notas.items())"
   ]
  },
  {
   "cell_type": "markdown",
   "metadata": {},
   "source": [
    "#### Mutabilidad e inmutabilidad"
   ]
  },
  {
   "cell_type": "code",
   "execution_count": 46,
   "metadata": {},
   "outputs": [
    {
     "name": "stdout",
     "output_type": "stream",
     "text": [
      "juan\n"
     ]
    }
   ],
   "source": [
    "#Los strings no son mutables\n",
    "name=\"juan\"\n",
    "name.upper()\n",
    "print(name)"
   ]
  },
  {
   "cell_type": "code",
   "execution_count": 47,
   "metadata": {},
   "outputs": [
    {
     "name": "stdout",
     "output_type": "stream",
     "text": [
      "JUAN\n"
     ]
    }
   ],
   "source": [
    "name_mayus=name.upper()\n",
    "print(name_mayus)"
   ]
  },
  {
   "cell_type": "code",
   "execution_count": 48,
   "metadata": {},
   "outputs": [
    {
     "name": "stdout",
     "output_type": "stream",
     "text": [
      "[]\n"
     ]
    }
   ],
   "source": [
    "# Las listas son mutables\n",
    "names=[\"juan\",\"carolina\"]\n",
    "names.clear()\n",
    "print(names)"
   ]
  },
  {
   "cell_type": "code",
   "execution_count": 49,
   "metadata": {},
   "outputs": [
    {
     "name": "stdout",
     "output_type": "stream",
     "text": [
      "{'Mariana': [4.5, 3.7, 3.4, 5], 'Alicia': [3.5, 3.1, 4.2, 3.9], 'Margarita': [2.6, 3.0, 3.9, 4.1], 'Carolina': [4.3, 4.0, 3, 3.7]}\n"
     ]
    }
   ],
   "source": [
    "# Los diccionarios son mutables\n",
    "notas.update({\"Carolina\":[4.3,4.0,3,3.7]})\n",
    "print(notas)"
   ]
  },
  {
   "cell_type": "markdown",
   "metadata": {},
   "source": [
    "#### Tuplas\n",
    "\n",
    "Son un tipo de lista inmutable."
   ]
  },
  {
   "cell_type": "code",
   "execution_count": 52,
   "metadata": {
    "scrolled": true
   },
   "outputs": [
    {
     "name": "stdout",
     "output_type": "stream",
     "text": [
      "('juan', 'carolina', 'camila')\n"
     ]
    }
   ],
   "source": [
    "\n",
    "names_t=(\"juan\",\"carolina\",\"camila\")\n",
    "#names_t[2]= \"Camila\"\n",
    "\n",
    "print(names_t)"
   ]
  },
  {
   "cell_type": "code",
   "execution_count": 51,
   "metadata": {},
   "outputs": [
    {
     "name": "stdout",
     "output_type": "stream",
     "text": [
      "('juan', 'carolina', 'camila', 23)\n",
      "camila\n"
     ]
    }
   ],
   "source": [
    "names_t=names_t+(23,)\n",
    "print(names_t)\n",
    "print(names_t[2])"
   ]
  },
  {
   "cell_type": "markdown",
   "metadata": {},
   "source": [
    "#### Conjuntos (sets)\n",
    "\n",
    "Son conjuntos de elementos **no repetidos**, no ordenados y mutables.\n"
   ]
  },
  {
   "cell_type": "code",
   "execution_count": 61,
   "metadata": {},
   "outputs": [
    {
     "name": "stdout",
     "output_type": "stream",
     "text": [
      "{'201624567', '201613423', '201812456'}\n"
     ]
    }
   ],
   "source": [
    "codigos=set([\"201624567\",\"201812456\",\"201613423\"])\n",
    "print (codigos)"
   ]
  },
  {
   "cell_type": "code",
   "execution_count": 62,
   "metadata": {},
   "outputs": [
    {
     "name": "stdout",
     "output_type": "stream",
     "text": [
      "{'201523416', '201624567', '201613423', '201812456'}\n",
      "{'201812456', '201715867', '201613423', '20182340', '201624567', '201523416'}\n",
      "{'201812456', '201715867', '201613423', '20182340', '201523416'}\n"
     ]
    }
   ],
   "source": [
    "codigos.add(\"201523416\")\n",
    "print(codigos)\n",
    "codigos.update([\"201715867\",\"20182340\"])\n",
    "print(codigos)\n",
    "codigos.remove(\"201624567\")\n",
    "\n",
    "print(codigos)"
   ]
  },
  {
   "cell_type": "markdown",
   "metadata": {},
   "source": [
    "# FUNCIONES BÁSICAS\n",
    "### CONDICIONALES (IF):\n",
    "\n",
    "Los condicionales son funciones lógicas que permiten realizar tareas diferentes cuando una condición lógica es verdadera (True) o falsa (False).\n",
    "***Por ejemplo:***\n",
    "\n"
   ]
  },
  {
   "cell_type": "code",
   "execution_count": 65,
   "metadata": {},
   "outputs": [
    {
     "name": "stdout",
     "output_type": "stream",
     "text": [
      "b es mayor que a\n"
     ]
    }
   ],
   "source": [
    "a = 14\n",
    "b = 100\n",
    "#print(b > a)\n",
    "if b > a:\n",
    "    print(\"b es mayor que a\")\n",
    "\n"
   ]
  },
  {
   "cell_type": "code",
   "execution_count": 71,
   "metadata": {},
   "outputs": [],
   "source": [
    "a = 14\n",
    "b = 10\n",
    "#print(b > a)\n",
    "if b > a:\n",
    "    print(\"b es mayor que a\")\n"
   ]
  },
  {
   "cell_type": "markdown",
   "metadata": {},
   "source": [
    "**Se puede establecer un flujo que realice una tarea diferente si la condición es verdadera o falsa :**"
   ]
  },
  {
   "cell_type": "code",
   "execution_count": 72,
   "metadata": {},
   "outputs": [
    {
     "name": "stdout",
     "output_type": "stream",
     "text": [
      "b no es mayor que a\n"
     ]
    }
   ],
   "source": [
    "a = 14\n",
    "b = 10\n",
    "if b > a:\n",
    "    print(\"b es mayor que a\")\n",
    "else:\n",
    "    print(\"b no es mayor que a\")"
   ]
  },
  {
   "cell_type": "markdown",
   "metadata": {},
   "source": [
    "**Se puede establecer un flujo que anide condiciones lógicas:**"
   ]
  },
  {
   "cell_type": "code",
   "execution_count": 74,
   "metadata": {},
   "outputs": [
    {
     "name": "stdout",
     "output_type": "stream",
     "text": [
      "b es igual que a\n"
     ]
    }
   ],
   "source": [
    "a = 10\n",
    "b = 10\n",
    "if b > a:\n",
    "    print(\"b es mayor que a\")\n",
    "elif b==a:\n",
    "    print(\"b es igual que a\")\n",
    "else:\n",
    "    print(\"b es menor que a\")"
   ]
  },
  {
   "cell_type": "markdown",
   "metadata": {},
   "source": [
    "**otras condiciones posibles:**"
   ]
  },
  {
   "cell_type": "code",
   "execution_count": 75,
   "metadata": {},
   "outputs": [
    {
     "name": "stdout",
     "output_type": "stream",
     "text": [
      "no está en la lista\n"
     ]
    }
   ],
   "source": [
    "frutas = [\"manzana\", \"mora\", \"mango\"]\n",
    "\n",
    "if \"banano\" in frutas:\n",
    "    print (\"Está en la lista\")\n",
    "else:\n",
    "    print(\"no está en la lista\")"
   ]
  },
  {
   "cell_type": "code",
   "execution_count": 77,
   "metadata": {},
   "outputs": [],
   "source": [
    "if \"banano\" not in frutas:\n",
    "    frutas.append(\"banano\")\n",
    "print(frutas)"
   ]
  },
  {
   "cell_type": "code",
   "execution_count": 83,
   "metadata": {},
   "outputs": [
    {
     "data": {
      "text/plain": [
       "int"
      ]
     },
     "execution_count": 83,
     "metadata": {},
     "output_type": "execute_result"
    }
   ],
   "source": [
    "type(2)"
   ]
  },
  {
   "cell_type": "code",
   "execution_count": 87,
   "metadata": {},
   "outputs": [
    {
     "name": "stdout",
     "output_type": "stream",
     "text": [
      "['manzana', 'mora', 'mango', 'banano']\n"
     ]
    }
   ],
   "source": [
    "if type(frutas)== list:\n",
    "    print(frutas)"
   ]
  },
  {
   "cell_type": "markdown",
   "metadata": {},
   "source": [
    "**Es posible usar varias condiciones en un solo if:**"
   ]
  },
  {
   "cell_type": "code",
   "execution_count": 88,
   "metadata": {},
   "outputs": [
    {
     "name": "stdout",
     "output_type": "stream",
     "text": [
      "['manzana', 'mora', 'mango', 'banano']\n"
     ]
    }
   ],
   "source": [
    "if \"maracuyá\" not in frutas and type(frutas)== dict:\n",
    "    frutas.append(\"maracuyá\")\n",
    "print(frutas)\n"
   ]
  },
  {
   "cell_type": "code",
   "execution_count": 89,
   "metadata": {},
   "outputs": [
    {
     "name": "stdout",
     "output_type": "stream",
     "text": [
      "['manzana', 'mora', 'mango', 'banano', 'maracuyá']\n"
     ]
    }
   ],
   "source": [
    "if \"maracuyá\" not in frutas or type(frutas)== dict:\n",
    "    frutas.append(\"maracuyá\")\n",
    "print(frutas)"
   ]
  },
  {
   "cell_type": "code",
   "execution_count": 90,
   "metadata": {},
   "outputs": [
    {
     "name": "stdout",
     "output_type": "stream",
     "text": [
      "['manzana', 'mora', 'mango', 'banano', 'maracuyá', 'fresa']\n"
     ]
    }
   ],
   "source": [
    "if \"fresa\" not in frutas and type(frutas)== list:\n",
    "    frutas.append(\"fresa\")\n",
    "print(frutas)"
   ]
  },
  {
   "cell_type": "markdown",
   "metadata": {},
   "source": [
    "\n",
    "\n",
    "## Bucles o loops\n",
    "\n",
    "Cuando necesitamos repetir la misma tarea muchas veces programar se vuelve una herramienta muy útil. Los bucles son funciones que permiten repetir un proceso un número determinado de veces o para todos los elementos de una estructura de datos. Los hay de dos tipos: **for** y **while**. \n",
    "\n",
    "### FOR LOOPS\n",
    "Te permite repetir la misma tarea iterando sobre los elementos de una estructura de datos.\n",
    "\n",
    "**Por ejemplo, imprimir cada uno de los elementos de una lista:** "
   ]
  },
  {
   "cell_type": "code",
   "execution_count": 91,
   "metadata": {},
   "outputs": [
    {
     "data": {
      "text/plain": [
       "{'201523416', '201613423', '201715867', '201812456', '20182340'}"
      ]
     },
     "execution_count": 91,
     "metadata": {},
     "output_type": "execute_result"
    }
   ],
   "source": [
    "codigos"
   ]
  },
  {
   "cell_type": "code",
   "execution_count": 95,
   "metadata": {},
   "outputs": [
    {
     "name": "stdout",
     "output_type": "stream",
     "text": [
      "201812456\n",
      "201715867\n",
      "201613423\n",
      "20182340\n",
      "201523416\n"
     ]
    }
   ],
   "source": [
    "for estudiante in codigos:\n",
    "    print(estudiante)"
   ]
  },
  {
   "cell_type": "markdown",
   "metadata": {},
   "source": [
    "**o dividir en 2 los números de 0 a 100:**"
   ]
  },
  {
   "cell_type": "code",
   "execution_count": null,
   "metadata": {},
   "outputs": [],
   "source": [
    "range(0,101)"
   ]
  },
  {
   "cell_type": "code",
   "execution_count": 96,
   "metadata": {
    "scrolled": true
   },
   "outputs": [
    {
     "name": "stdout",
     "output_type": "stream",
     "text": [
      "0  dividido en 2 es:  0.0\n",
      "1  dividido en 2 es:  0.5\n",
      "2  dividido en 2 es:  1.0\n",
      "3  dividido en 2 es:  1.5\n",
      "4  dividido en 2 es:  2.0\n",
      "5  dividido en 2 es:  2.5\n",
      "6  dividido en 2 es:  3.0\n",
      "7  dividido en 2 es:  3.5\n",
      "8  dividido en 2 es:  4.0\n",
      "9  dividido en 2 es:  4.5\n",
      "10  dividido en 2 es:  5.0\n",
      "11  dividido en 2 es:  5.5\n",
      "12  dividido en 2 es:  6.0\n",
      "13  dividido en 2 es:  6.5\n",
      "14  dividido en 2 es:  7.0\n",
      "15  dividido en 2 es:  7.5\n",
      "16  dividido en 2 es:  8.0\n",
      "17  dividido en 2 es:  8.5\n",
      "18  dividido en 2 es:  9.0\n",
      "19  dividido en 2 es:  9.5\n",
      "20  dividido en 2 es:  10.0\n",
      "21  dividido en 2 es:  10.5\n",
      "22  dividido en 2 es:  11.0\n",
      "23  dividido en 2 es:  11.5\n",
      "24  dividido en 2 es:  12.0\n",
      "25  dividido en 2 es:  12.5\n",
      "26  dividido en 2 es:  13.0\n",
      "27  dividido en 2 es:  13.5\n",
      "28  dividido en 2 es:  14.0\n",
      "29  dividido en 2 es:  14.5\n",
      "30  dividido en 2 es:  15.0\n",
      "31  dividido en 2 es:  15.5\n",
      "32  dividido en 2 es:  16.0\n",
      "33  dividido en 2 es:  16.5\n",
      "34  dividido en 2 es:  17.0\n",
      "35  dividido en 2 es:  17.5\n",
      "36  dividido en 2 es:  18.0\n",
      "37  dividido en 2 es:  18.5\n",
      "38  dividido en 2 es:  19.0\n",
      "39  dividido en 2 es:  19.5\n",
      "40  dividido en 2 es:  20.0\n",
      "41  dividido en 2 es:  20.5\n",
      "42  dividido en 2 es:  21.0\n",
      "43  dividido en 2 es:  21.5\n",
      "44  dividido en 2 es:  22.0\n",
      "45  dividido en 2 es:  22.5\n",
      "46  dividido en 2 es:  23.0\n",
      "47  dividido en 2 es:  23.5\n",
      "48  dividido en 2 es:  24.0\n",
      "49  dividido en 2 es:  24.5\n",
      "50  dividido en 2 es:  25.0\n",
      "51  dividido en 2 es:  25.5\n",
      "52  dividido en 2 es:  26.0\n",
      "53  dividido en 2 es:  26.5\n",
      "54  dividido en 2 es:  27.0\n",
      "55  dividido en 2 es:  27.5\n",
      "56  dividido en 2 es:  28.0\n",
      "57  dividido en 2 es:  28.5\n",
      "58  dividido en 2 es:  29.0\n",
      "59  dividido en 2 es:  29.5\n",
      "60  dividido en 2 es:  30.0\n",
      "61  dividido en 2 es:  30.5\n",
      "62  dividido en 2 es:  31.0\n",
      "63  dividido en 2 es:  31.5\n",
      "64  dividido en 2 es:  32.0\n",
      "65  dividido en 2 es:  32.5\n",
      "66  dividido en 2 es:  33.0\n",
      "67  dividido en 2 es:  33.5\n",
      "68  dividido en 2 es:  34.0\n",
      "69  dividido en 2 es:  34.5\n",
      "70  dividido en 2 es:  35.0\n",
      "71  dividido en 2 es:  35.5\n",
      "72  dividido en 2 es:  36.0\n",
      "73  dividido en 2 es:  36.5\n",
      "74  dividido en 2 es:  37.0\n",
      "75  dividido en 2 es:  37.5\n",
      "76  dividido en 2 es:  38.0\n",
      "77  dividido en 2 es:  38.5\n",
      "78  dividido en 2 es:  39.0\n",
      "79  dividido en 2 es:  39.5\n",
      "80  dividido en 2 es:  40.0\n",
      "81  dividido en 2 es:  40.5\n",
      "82  dividido en 2 es:  41.0\n",
      "83  dividido en 2 es:  41.5\n",
      "84  dividido en 2 es:  42.0\n",
      "85  dividido en 2 es:  42.5\n",
      "86  dividido en 2 es:  43.0\n",
      "87  dividido en 2 es:  43.5\n",
      "88  dividido en 2 es:  44.0\n",
      "89  dividido en 2 es:  44.5\n",
      "90  dividido en 2 es:  45.0\n",
      "91  dividido en 2 es:  45.5\n",
      "92  dividido en 2 es:  46.0\n",
      "93  dividido en 2 es:  46.5\n",
      "94  dividido en 2 es:  47.0\n",
      "95  dividido en 2 es:  47.5\n",
      "96  dividido en 2 es:  48.0\n",
      "97  dividido en 2 es:  48.5\n",
      "98  dividido en 2 es:  49.0\n",
      "99  dividido en 2 es:  49.5\n",
      "100  dividido en 2 es:  50.0\n"
     ]
    }
   ],
   "source": [
    "for n in range(0,101):\n",
    "    print(n, \" dividido en 2 es: \", n/2)"
   ]
  },
  {
   "cell_type": "markdown",
   "metadata": {},
   "source": [
    "**También podemos almacenar los resultados de un for en una variable nueva:**"
   ]
  },
  {
   "cell_type": "code",
   "execution_count": 97,
   "metadata": {},
   "outputs": [],
   "source": [
    "numeros_divididos=[]\n",
    "for n in range(0,101):\n",
    "    numeros_divididos.append(n/2)"
   ]
  },
  {
   "cell_type": "code",
   "execution_count": 99,
   "metadata": {},
   "outputs": [
    {
     "name": "stdout",
     "output_type": "stream",
     "text": [
      "[0.0, 0.5, 1.0, 1.5, 2.0, 2.5, 3.0, 3.5, 4.0, 4.5, 5.0, 5.5, 6.0, 6.5, 7.0, 7.5, 8.0, 8.5, 9.0, 9.5, 10.0, 10.5, 11.0, 11.5, 12.0, 12.5, 13.0, 13.5, 14.0, 14.5, 15.0, 15.5, 16.0, 16.5, 17.0, 17.5, 18.0, 18.5, 19.0, 19.5, 20.0, 20.5, 21.0, 21.5, 22.0, 22.5, 23.0, 23.5, 24.0, 24.5, 25.0, 25.5, 26.0, 26.5, 27.0, 27.5, 28.0, 28.5, 29.0, 29.5, 30.0, 30.5, 31.0, 31.5, 32.0, 32.5, 33.0, 33.5, 34.0, 34.5, 35.0, 35.5, 36.0, 36.5, 37.0, 37.5, 38.0, 38.5, 39.0, 39.5, 40.0, 40.5, 41.0, 41.5, 42.0, 42.5, 43.0, 43.5, 44.0, 44.5, 45.0, 45.5, 46.0, 46.5, 47.0, 47.5, 48.0, 48.5, 49.0, 49.5, 50.0]\n"
     ]
    }
   ],
   "source": [
    "print(numeros_divididos)"
   ]
  },
  {
   "cell_type": "markdown",
   "metadata": {},
   "source": [
    "**O utilizar un for para cambiar información previa, por ejemplo:**"
   ]
  },
  {
   "cell_type": "code",
   "execution_count": 101,
   "metadata": {},
   "outputs": [
    {
     "name": "stdout",
     "output_type": "stream",
     "text": [
      "['María', 'Margarita', 'Mariana', 'José']\n"
     ]
    }
   ],
   "source": [
    "names=[\"María\", \"Margarita\",\"Mariana\",\"José\"]\n",
    "\n",
    "\n",
    "for i in range(0,len (names)):\n",
    "    names[i]= names[i] + \" Forero\"\n",
    "    \n",
    "print(names)"
   ]
  },
  {
   "cell_type": "markdown",
   "metadata": {},
   "source": [
    "A veces iteramos utilizando una secuencia de números (range), pero también podemos iterar directamente sobre los elementos de una estructura. **Por ejemplo, iterando sobre los elementos de un diccionario:**"
   ]
  },
  {
   "cell_type": "code",
   "execution_count": 104,
   "metadata": {},
   "outputs": [
    {
     "name": "stdout",
     "output_type": "stream",
     "text": [
      "{'Mariana': [4.5, 3.7, 3.4, 5], 'Alicia': [3.5, 3.1, 4.2, 3.9], 'Margarita': [2.6, 3.0, 3.9, 4.1], 'Carolina': [4.3, 4.0, 3, 3.7]}\n"
     ]
    }
   ],
   "source": [
    "print(notas)"
   ]
  },
  {
   "cell_type": "code",
   "execution_count": 103,
   "metadata": {},
   "outputs": [
    {
     "name": "stdout",
     "output_type": "stream",
     "text": [
      "El promedio de Mariana es: 4.15\n",
      "El promedio de Alicia es: 3.6750000000000003\n",
      "El promedio de Margarita es: 3.4\n",
      "El promedio de Carolina es: 3.75\n"
     ]
    }
   ],
   "source": [
    "for key in notas.keys():\n",
    "    promedio_estudiante= sum(notas[key])/len(notas[key])\n",
    "    print(\"El promedio de\", key, \"es:\", promedio_estudiante)"
   ]
  },
  {
   "cell_type": "markdown",
   "metadata": {},
   "source": [
    "**Ejercicio:** Calcular el promedio de la clase con un for "
   ]
  },
  {
   "cell_type": "code",
   "execution_count": 29,
   "metadata": {},
   "outputs": [
    {
     "name": "stdout",
     "output_type": "stream",
     "text": [
      "3.7437500000000004\n"
     ]
    }
   ],
   "source": [
    "suma_promedios=0\n",
    "for key in notas.keys():\n",
    "    promedio_estudiante= sum(notas[key])/len(notas[key])\n",
    "    suma_promedios+=promedio_estudiante\n",
    "promedio_clase=suma_promedios/len(notas.keys())\n",
    "print(promedio_clase)\n"
   ]
  },
  {
   "cell_type": "markdown",
   "metadata": {},
   "source": [
    "**Los for se pueden anidar:"
   ]
  },
  {
   "cell_type": "code",
   "execution_count": 105,
   "metadata": {},
   "outputs": [
    {
     "name": "stdout",
     "output_type": "stream",
     "text": [
      "manzana naranja\n",
      "manzana azul\n",
      "manzana verde\n",
      "mora naranja\n",
      "mora azul\n",
      "mora verde\n",
      "mango naranja\n",
      "mango azul\n",
      "mango verde\n"
     ]
    }
   ],
   "source": [
    "colores = [\"naranja\", \"azul\", \"verde\"]\n",
    "frutas = [\"manzana\", \"mora\", \"mango\"]\n",
    "\n",
    "\n",
    "for fruta in frutas:\n",
    "    for color in colores:\n",
    "        print(fruta,color)"
   ]
  },
  {
   "cell_type": "markdown",
   "metadata": {},
   "source": [
    " ### WHILE LOOPS:\n",
    " \n",
    " Tienen la misma función que un for pero en lugar de iterar sobre los elementos de una estructura de datos iteran mientras una condición sea verdadera. Usualmente esta condición es el número de veces que se debe iterar la instrucción.\n",
    "***cuidado:*** Un error común usando while loops es no definir el aumento en la variable que da la condición de parar"
   ]
  },
  {
   "cell_type": "code",
   "execution_count": 31,
   "metadata": {},
   "outputs": [
    {
     "name": "stdout",
     "output_type": "stream",
     "text": [
      "0\n",
      "1\n",
      "2\n",
      "3\n",
      "4\n",
      "5\n",
      "6\n",
      "7\n",
      "8\n",
      "9\n",
      "10\n",
      "11\n",
      "12\n",
      "13\n",
      "14\n",
      "15\n",
      "16\n",
      "17\n",
      "18\n",
      "19\n",
      "20\n",
      "21\n",
      "22\n",
      "23\n",
      "24\n",
      "25\n",
      "26\n",
      "27\n",
      "28\n",
      "29\n",
      "30\n",
      "31\n",
      "32\n",
      "33\n",
      "34\n",
      "35\n",
      "36\n",
      "37\n",
      "38\n",
      "39\n",
      "40\n",
      "41\n",
      "42\n",
      "43\n",
      "44\n",
      "45\n",
      "46\n",
      "47\n",
      "48\n",
      "49\n",
      "50\n",
      "51\n",
      "52\n",
      "53\n",
      "54\n",
      "55\n",
      "56\n",
      "57\n",
      "58\n",
      "59\n",
      "60\n",
      "61\n",
      "62\n",
      "63\n",
      "64\n",
      "65\n",
      "66\n",
      "67\n",
      "68\n",
      "69\n",
      "70\n",
      "71\n",
      "72\n",
      "73\n",
      "74\n",
      "75\n",
      "76\n",
      "77\n",
      "78\n",
      "79\n",
      "80\n",
      "81\n",
      "82\n",
      "83\n",
      "84\n",
      "85\n",
      "86\n",
      "87\n",
      "88\n",
      "89\n",
      "90\n",
      "91\n",
      "92\n",
      "93\n",
      "94\n",
      "95\n",
      "96\n",
      "97\n",
      "98\n",
      "99\n"
     ]
    }
   ],
   "source": [
    "count=0\n",
    "while count <100:\n",
    "    print(count)\n",
    "    count+=1\n",
    "    "
   ]
  },
  {
   "cell_type": "markdown",
   "metadata": {},
   "source": [
    "# Challenge:"
   ]
  },
  {
   "cell_type": "code",
   "execution_count": 106,
   "metadata": {},
   "outputs": [
    {
     "data": {
      "text/plain": [
       "{'Mariana': [4.5, 3.7, 3.4, 5],\n",
       " 'Alicia': [3.5, 3.1, 4.2, 3.9],\n",
       " 'Margarita': [2.6, 3.0, 3.9, 4.1],\n",
       " 'Carolina': [4.3, 4.0, 3, 3.7]}"
      ]
     },
     "execution_count": 106,
     "metadata": {},
     "output_type": "execute_result"
    }
   ],
   "source": [
    "notas"
   ]
  },
  {
   "cell_type": "code",
   "execution_count": 107,
   "metadata": {},
   "outputs": [],
   "source": [
    "nota_parcial={\"Mariana\":4.7,\"Alicia\":4.0,\"Margarita\":3.5,\"Carolina\":4.6, \"Jesús\":4.0, \"Marco\":3.7}"
   ]
  },
  {
   "cell_type": "markdown",
   "metadata": {},
   "source": [
    "### Problema 1\n",
    "1. Usando un for y un if agregue la nota del parcial al diccionario notas. En el caso de los estudiantes nuevos se deben agregar al diccionario con su única nota.\n",
    "2. Cree un for que calcule el promedio de calificaciones de los estudiantes e imprima el nombre de los estudiantes con promedio mayor a 4"
   ]
  },
  {
   "cell_type": "code",
   "execution_count": null,
   "metadata": {},
   "outputs": [],
   "source": []
  },
  {
   "cell_type": "markdown",
   "metadata": {},
   "source": [
    "### Problema 2\n",
    "\n",
    "Construir una lista que tenga `100` repeticiones de los números `-1`, `0` y `1`, en ese orden exacto. Recuerde las propiedades de las listas (las vimos en la primera sesión)"
   ]
  },
  {
   "cell_type": "code",
   "execution_count": null,
   "metadata": {},
   "outputs": [],
   "source": []
  },
  {
   "cell_type": "markdown",
   "metadata": {},
   "source": [
    "### Problema 3\n",
    "\n",
    "Encuentre cuantas veces aparece la palabra `perro` en la siguiente lista. Para hacelo deberá usar dos funciones aplicables a los objetos string. Recuerde que los strings NO son mutables."
   ]
  },
  {
   "cell_type": "code",
   "execution_count": 8,
   "metadata": {},
   "outputs": [],
   "source": [
    "base=\"PerRoPERROorrepPErrogatoPeroPerroPetroPErRoPeRRoGatoperroPerroPERRoPERROPerRoPERROorrepPErrogatoPeroPerroPetroPErRoPeRRoGatoperroPerroPERRoPERROPerRoPERROorrepPErrogatoPeroPerroPetroPErRoPeRRoGatoperroPerroPERRoPERROPerRoPERROorrepPErrogatoPeroPerroPetroPErRoPeRRoGatoperroPerroPERRoPERROPerRoPERROorrepPErrogatoPeroPerroPetroPErRoPeRRoGatoperroPerroPERRoPERRO\""
   ]
  },
  {
   "cell_type": "code",
   "execution_count": null,
   "metadata": {},
   "outputs": [],
   "source": []
  }
 ],
 "metadata": {
  "kernelspec": {
   "display_name": "Python 3",
   "language": "python",
   "name": "python3"
  },
  "language_info": {
   "codemirror_mode": {
    "name": "ipython",
    "version": 3
   },
   "file_extension": ".py",
   "mimetype": "text/x-python",
   "name": "python",
   "nbconvert_exporter": "python",
   "pygments_lexer": "ipython3",
   "version": "3.7.4"
  }
 },
 "nbformat": 4,
 "nbformat_minor": 4
}
